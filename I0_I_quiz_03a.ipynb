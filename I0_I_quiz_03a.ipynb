{
  "nbformat": 4,
  "nbformat_minor": 0,
  "metadata": {
    "colab": {
      "provenance": [],
      "toc_visible": true,
      "include_colab_link": true
    },
    "kernelspec": {
      "name": "python3",
      "display_name": "Python 3"
    },
    "language_info": {
      "name": "python"
    }
  },
  "cells": [
    {
      "cell_type": "markdown",
      "metadata": {
        "id": "view-in-github",
        "colab_type": "text"
      },
      "source": [
        "<a href=\"https://colab.research.google.com/github/SamuelCO1/talleresGoogleColab/blob/main/I0_I_quiz_03a.ipynb\" target=\"_parent\"><img src=\"https://colab.research.google.com/assets/colab-badge.svg\" alt=\"Open In Colab\"/></a>"
      ]
    },
    {
      "cell_type": "markdown",
      "source": [
        "# Quiz 03\n",
        "\n",
        "Actividad individual.\n",
        "\n",
        "Resuelva el quiz en línea, en este mismo archivo, utilizando **cvxpy**."
      ],
      "metadata": {
        "id": "S9g4yVP1c874"
      }
    },
    {
      "cell_type": "markdown",
      "source": [
        "Adaptado de [Ingeniería industrial online](https://ingenieriaindustrialonline.com/investigacion-de-operaciones/problema-del-transporte-o-distribucion/).\n",
        "\n",
        "Una empresa energética colombiana dispone de cuatro plantas de generación para satisfacer la demanda diaria eléctrica en cinco ciudades: Barranquilla, Bogotá, Bucaramanga, Cali y Medellín.\n",
        "\n",
        "Las plantas 1, 2, 3 y 4 pueden satisfacer 120, 150, 160 y 50 millones de KW al día respectivamente. Las necesidades de las ciudades de Barranquilla, Bogotá, Bucaramanga, Cali y Medellín son de 70, 140, 50, 90 y 110 millones de Kw al día respectivamente.\n",
        "\n",
        "Los costos asociados al envío de suministro energético por cada millón de KW entre cada planta y cada ciudad son los registrados en la siguiente tabla."
      ],
      "metadata": {
        "id": "TeHthK6d0VQE"
      }
    },
    {
      "cell_type": "markdown",
      "source": [
        "![image.png](data:image/png;base64,iVBORw0KGgoAAAANSUhEUgAAA6YAAAC/CAYAAADts8ElAAAAAXNSR0IArs4c6QAAAARnQU1BAACxjwv8YQUAAAAJcEhZcwAAEnQAABJ0Ad5mH3gAAFgNSURBVHhe7d1/aFNn/z/+p182aGFvvhX2hlPYLaYoLEXBlA2afG7/MKWDpTgwZYM1ONB0N2g64b7bCVujf7jUgTa7YWsV7jUTNpLBpBEmjaA0/uE+SWGjERQjKI1zQgMbNF9uoYEN8r1OciW5TprW/kxqfT7g6NWTH03PuXJd53WuX9tyAmhL+79Tsfz//+9r7fn/iWrh/3sylf///7Tb8v8T1UKxvGO+o+cZ8zHVA/Md1YOa7/6ffIqIiIiIiIioTrb9FP+/bDElIiIiIiKiumGLKREREREREdUVx5i+AB4/fpz/f8eOHfn/iWqB+Y7qgfmOtgLmY6oH5juqBzXfscWUiIiIiIiI6oqBKREREREREdUVA1MiIiIiIiKqKwamREREREREVFcMTImIiIiIiKiuGJgSERERERFRXTEwJSIiIiIiorpiYEpERM+QRfTTZmzbti2/NX8QQko+QkRERPWWQsBRqKP1zfZZXNTczx8GpkREtLQ/Igh9ni6k230IX+iBqfATERER1dvtMEavFZLa4SCCp6xoKPz4XGFgSlIcQ/Iuy5Jbcys63urF0PdxpP+SL6U6M5677u9lAJG32se2uCchdCt/+6Lbbhs63usThX0KGfnSrSWD5PcDGP1F/riI1NUAAnpC60Hw+0FYX8nvfm6lv++ufr4rthZrB7qPjyLycGuefaJNKZNC5NIAet+yoaX0fWyBTVx7DFyKIr3uzUCsJzeL6mXzAKKLnfNF6vKhKfn4htqAvFHx9xj+jqUe03s1/TCMhJ58zm8eMzCllUknEb0RgLfHhub9Q4g/lfuJtqKHcUQvj6LP0QLzFuu+mrkdwoDdjNYePzJL3mRKIPxlRPxvhe9KAD07C3tfBKmpKMIX+9C12wzX9+y8TLSxsvkbZR3mFnQd9SNwI66UuSnExbWH/2gHmk0dGLjK7+OLw4/IreqRaSYRQ1imX2jFXk1b4OYxA1NavSkvnCcjW7Ql6XlixWAuh5zcxt/X5H5aT+nvXHD9O38/8vn3JAS3xQX/zeXc4bWgP6HnrRgG25/HjkHrIY1Qjzhet+WPRLTOsoh/3gV7jx/RZxVL6Sj879jgulyL1kvWr5tBcKpa3ZvF9K1RmX7BverEmJ5HZ4PP/c1jBqZUlTM0WyqI1W3+t0n4DpYL5vTF4LMrEaJNzhdfmNf1bS4RhKddPkmIn4sUusrQFuJDrMq5z/05h+mQR1yWFsUxfI1nn2gjZK4OwPlpFKXLiV1ujMRnMP+n/D7+dwaT55xK98Q0Qid8iPwhf6QtLR2OVal7E4h/J5O0ZTAwpRVpeM2OwZNu+ZMui2yVboCZu2EMHe2AbXe5P3zz3sJ4raqB7NRQ6Xnb3gsh9UcUQ++0oln/ebcNvZ8VKizD+AN9xrH7AfRZW+T7d6HvUkJ8IumvNKJf9aHbLt8nvxXGqQxdSVZt6Y1/VnyeHC8g36Nrr5yRNP9Zwkgu0Uyc+SUk/vby2JgWa/H3qeMRuhF6Il8gGMdVGB/LW3JswcaNgVnxedximvb1oP+4U/4kiL95saEumYcRjB7vLh8rfTz20QEEntkqmUHyyhB6i/lUzWOG8z4kznQVIo/Gv1deL7YWazf6zlfPp/k8/jeXofuT1yp/h/juqZ/2hT7/LzXB8n4/+g7Jn4X0X8azv7bvbVEGqWuj6HuvXGbkxzYfHUJoavGDnL6pv6YDrc3l99fHxC5WPm1o2VklnxY+X/FvEq89amwJyz/uKPx+/e/tPhlavFxdRVle+feWvmfyb9a/n13PysfpqPKdbkbrO30Yld/nBXVFhRe97FyZBAKnR8tlT7sPscQYPO0mNLwk971igv3jcUyGelC6NZ4exWiVLr3re+w5xrSenMc8sOiJ2xFMP8zvKrsdw3j+dNhh78zvWVomifBnvegoXs/l6+ily9m8fDnQVSpr9Wu65fU2EoplV7Hc0cutjZi3Yqm6pkr5XPiOFMtnY9lWdzna8n799df8trRYzieyg54l9M0ZmpX7q7g1WHoe4MlNzMn90kyoJycqDuU5lZs154vPy2dLcV/58c6eXE+7+nzktE8mc/orZkPO8v53xfM04/Mc38wU3u+/4u+peI/KTTsczMlnl8TOlB93nhrOeRZ7j3ZfLvZf+aKS+dz0F45F/3brGV/OU/rZmQv+Jl8mGP6uisfyfgvmRHhUeo4vLvfnLXXuVvvYKs+jYnn5rk6WPJ5GM98q52bfcG5a7i+by02esi95rExHxnL3FuQX3Uxu/Iip6mvQPpibTKifU+Q5+aqi+eRYzr1LeU3lptlzg9eNX1A1jy/Y3g3mirlgree/XpaT74zft4XHtWwmFzxU/pstXxjP/tq+t8J/p3PDBzXlPSo3LWc/G8uXfWXz4hxaqzxX2bSeXDAlny5taNlp+DudOc9Hi3y+/OeaW7ycrFaurrIsN/y9Hw0vfpyrHCvdvKiT7BXHqLBpuR5xrCbVumKdy07dpi4/19l8dNBwvNzhiosKA/GdeduR85way40nZnLzf8rd0uqO/errya2m3vnOWKaK4/1tMDe4yLGf/sJSeJ7my41XvK6yrJ1PDOccVb/P+ibK2VOToiZfSC8HrFVfI67pPhnMuZWfF+SN1MTi15Biq3pdsFSdsS6PeXLDi16nirItVFmS1oaa7xiYvgCWV9Asr/CdF1+0QeWLZj07bbxoejCWcxTfR/Pkxotv8/uk8eJCuQDOUwPTym2XIzeSKDytstBSN21Pf27id/1Z87nJT8oXIQ5xMVkocOZFkKFWWtqCwmvJi/aKrXQhJ8396HlGhahumzwwXe15VCwv39XJksezaD43lxhTLuBFof1D5V87n5s++4wgQW7VLp6nv1j6tVq7NWcp/VwRQP02viC4qL4ZL8SWFZiuw/mvl+XkO+P3bZHAdF4EUP9RygsRwIxXfC/X9r2dzY0fXiooLW5azvNj+ZLJcBH/9nBuWj40/yBoyA/aGeNftaFlZ8XfudSm7TItWU4ay9XVl+VL/b2VW/HGZ8nv4oJyye+WNWdVvgfrXXbqNnX5uc5KAUZ+W3ize9lWfexXW4duPfXOd5XfW2doOjdxTP58ZFwJHmdyY51y/8eTuZmK1xnLp+XVlY7/VNTQy65jC5shb8xPG/PcIpsmPruh7Fmqzlinx5bctMHcZOV9mxpQ8x278lJV4Z7yYvrq1mjqKnURsH40geAnFsM6SYmro9Dn79Q5zvbDKa4c8l61o0ftEnk5tfQMp/rMYg/mC2NLHkzAs0/ur9Tuw+TvhTEos3eG4XhV7MtEES6uuagNov+YBU35HxpgOtyHckfkNKZTS3dd0A6K958tvP9c1KeMNwMiNxNKt8eKrkiaHYORWYjvd2Gs2n+U7kfPgXU7j8+JUldWw9aI7ZZehPInVYPjiwgC71acxYdBeD8td7DN55ffZL797wwmPinnmPR3/fBfVTrvZMT7nVM657Z7MF7M879PI/iRFemp+CJjWrOIXvDIz6azwhOaxlx+PNY8REANUaFKcXj/OVp6H+sp8ZzfglDOYnmM7Q+FfPpinX8vbAvOvdgat6PtH7Jrs+bA8LUAnK/lX7AusjdH4PmueAJF/jo7idn5wnkwnr80Ri+Oy+OcQfTykCxnNAx+7IGlULihYVcP+j4spHXpOymlfKpiQ8tOa7n8m4tBXKCVpB+KzyXK97HEXP53i4Ba+VsrytV1LMv171fwTvXfmb4UR1KmdcnvfRgtvZ3+3Y+Vvluzoh5waHHEq3bLfvHKzrVLI5VQSjmtGc0yT68Uj/1W1AyzxV5IXooiVqxCn8QRuVFIOi2taCwkq6ioK/WyPF4oB3LzMxgX9WxR5HTAsCxNQpQD5Tp2qTJ6odT3XnhLZYSon8MzpevB2BeOfD2rS5/3I1jZRXnD6dcL9yCC/PwxCB5WC8MA4ndluk4YmNLqiEre3dO2YJ0kyz+nC194sU0cMT7aWBwrkjeNVOV4LIX9jA89u549A2j/mX7Y9QsqVZMDI/Iz5GZ9sFe8jVqAhcVF0uIc8H0xCLv8zjYd8MB7rJDOyyol2MNpRJQZO51fBOF7WysE7fpYtQ8DCH68RCm2yazXedwqzIf64DloMtyE0akXQtD6EQyJ/PKafNYrJlGRBRF8t/CjfgFWDjBE9vk5qlz8WjB8cQTOYp5/1YKeL0cxvNgNGfWCXXD8J4iR98VFe/7cNKBpnxuBy4OFsTm6qWGM31xsdOxCPP8qM5wnPHDurDz7a5FF7FoxwBTe9mHkEzs0+Sv08+c764T9SD/GwtOY+cEty9omOC7Isi03C9+Bis/0svxf94yL740sOy3nRsvlX5PVGBQI7gujcO+TIeYuJ9yH88kCtVxdt7JcBPFnh9Gzp/g7ezBwsvTt0L+aytjxFGJXlRtGR0YR/Ke19N3SDgwieEGdZ8GI352VU0859ptEKLI6PPZbT5tJg0kEpoWrp1FEfy5klvIyMRbYzEtcW2VjiCh1pftCEP3t8s5HgwnOcz4MFl+eHlKWpUkgGlJumOjlQEUZHfi2vxRgGqUQ/b50ZZAvD0cOyesHcT1o/eeIKB/zDwkRhG4uVXatP+0TH4bfNxdu8olj0POvgfK1gl4YLrl83MZjYEqrMzWKXqsFHZ/HlQp9oWwmjeRUGIGTvXCeXv5qU/a9xkqlOifazBVXKtX8lUXmUQKR7/3oe8eNEbn7mTQb2nbJdF4Tti9SY2aSohCTaaAHrgOVxVUD7OJ3P69Wex63iuQVL7p2t6FXXOyXpZC8pVRcH3bDvmDtMFHxfdgv08K1KBKyjpwVebJEE69dEIRaYH9vkQr3bkxU0UVOuDoXfl8a/u6GpzQhRBqBKbVNaGVe7POfRPjTLrS82YvwI7lrzWaRUm5kWToX3uQzHRnH5DfDcB+ywLTEmnTZTAqJayH4j3eJiy6585k2tux0iLpBZQwKRMBdbObNa0Dj/8jks6y2LId9wd/brC1Sx2TF91q2xOh63rbJVtqyJqtDlPLL86KXnfXEY79F7LHCJZOFZWOUZWJE3WnT686XFinPnojyUSb1csC6t+Lb3NAGmzLBXfAXWU9mjGW055B9QTnQsN9R+lwGFWWIfZ9ZpopMaOssl5FRcR1RDp03nt3SWgiSi15tXlD/1BMDU6rKWXW5mHnMzRa6GBakEf3UiQG1e6IuHUfos978jHiNIpJrtXaj93wA8WV3V3DCtKwuc+JibtHnyZku9Zl9X27EdlMbunoGMHo1ufwCYAV3brNPZ2VKJ35ntXjipcU7m2xKaz6Pz49SV1Z1+1Pk95S6PFIKgffUtSzTSF2RScFprl60N/zPdpnSlWexTqfLtzIWy2vNO20yZZT+TQ0yxfeg6rpljWhUatLKGWWf6YU5/4ssF/PfOczku23Kpz0MoPt9/yJdq1cqjbRy4WLSVtZGVJgBujBLZOP2FrQ5XBi4GEFy2YXbxpadxkC0imc9brAOZfliZXI1f4jvtUzqWv9W5YXifLXKZFUvUNm57tbazZbHfutpaEWb7HlUWDZGWSbmkAV62Kf9bZFvpPg+l2vaKHpFvjAO29iOrovyYSE9L+vJpxmoV3XN/1sZlgoNojySSYOKMsT/VmPF79yGtn8pNcnTLOZlshaqlmmbCANTWoEGNGkW9KhdH8Slwei1WGna6+zUEDosNrhOy4pAM8NxbBjB6D1Mf2PszrVxUggfbUOLo6908WJqd6P/m3FM/zaJwcKTaAmb4zzW2Usiv++0Y/ALEZzIXfp4zeDN9QlNNjOef+GVJpgODGLkbPnsYyqIqHIXvR5Sl3vRtrsLfcVAdJcV7o/HMJ6YxeSpwnNWb7OVnc9fWc7vzkppMFvUC+V7mF3yjkMaoaM29J4MIDyVREa538Zjv1WJPFLshXE7gtjXUYzIPOK0yi6p6+X+M8bmb4QrdfidmxgDU1q5hla07pdp3ZWEvDuUQvCMt7ROmHY4iJnf7mHiQj96DpjRbOg7sNQd+7XJ3gzAc6l4v8oK3605zMTHMHzECctrjYZxSc5d69OBoelV9X2qV6yZ39X7b0YNrzyjxSSdQkwmN97mOI+bxq5WqO2WiUSxEtFgUroAhZPV7/Mbz3szmmS3TE2TEzrobqUMd2eLZh9VP+va39SuQdNIVe1iOovZBzIpWF5ZpKvTAjz/KpPZcPYx/aD85V7991aDpqy7F3u0eNlgkI0icCIgy1tRup2JYe5BDGPn3HDu09CojjF917Ti7ln1KDuXUpfP86r4Xsuk7t5vVQrz9Kwo5avhd2c1zG+oHSJDiMSXWOHxjxiil+IInO9Ft7UV5vPF8cA89luPBQ3yvFms3XI8ZxS+0yOyDrbA9qxhX+INyp1mnQimqvSOUTc5AeCyyoHsPOZk0uCVJkMPqMFbVX6PYRsUpRsVMTClVTBe8MJqKtyx0mdJu5bfk+f+Rw9MK+qytT4SPymTihzqQ8/f1/V+WlUNu9tEkVdUrWJNIfJdeVRgpab/VYuxDIq9SYpSd2K1u6O2Sc7jpvHHbCkQyNvZLCtIceGv3un/ehzRpzJdUnHe37bALLNj805lHF5avLayJe5pHOM/LHLWd7Yq+S2M4I2FQXH2p3EES++pwbFgnEvZvDrZAc+/QWbWeGxNSp/Q1X9vm2FSxhSnf4gu7CI8NQTbO33wfx9B4pF849txDJXe0Im+w9Z1bS2oR9m5lLp8ngYTzMpNg5DSI6godSMoSvkq+N1ZFX2sXrkXFhA4N4r4grJUl0X8Sx8C8ic9MBk4KC/peey3IBOaixO0vW5Bt0ym08VSwQ7L6zK5GPG68i3gMKKJJW56qCrLgcvRBWV59lYEQZk2aDLDorw2Et/6vazWEwNTWpmn4kL7Uw8GlItoi9Vc9c581nCVlkHshjr5wNyCi7gN8bSi5/7tGMZlUpepfHy1dlrhKM2yJirW4y74p2QBmE2LY+aC63Lhx6oMd/Wi8J4JIZU/Plmkr3nR+2l5hrda2xTnsU6yfyQQ+JdHuRASFzyWcoBnPThQvtOZ9sPVM4ToE3lA8t8V9bxr8BzrLn1XjBdjCQwc60P4oXyt/nuPOzG0WLfR1xxwHytfyUX+4ULf9wlk8gFmFpnbAbjfHSoHO+0D6FZncK24GxxPFMasZp8uPJkv7vkvHEfPccPZR5t6IbTq720DbG8Pyhscwu0BeMRz0/JYZp9E4P2nF/Groxjo6UKbyYXQgllERSBsmD0xgZh6ajLzaxu3VKuyc7lq9nlMsL+vdN++5IHr3/HSd0s/r64PljeRzotcdq5Igx19XypLqk15YevsQ2AqVRqTr5fFoRN22D4rX+Rrh8W5WGTmch77LUYEe+okRXmHbWgtVmuiTlP6IJU12OD4pFxX6tdmQzfT4pusK3yfu6y9GPgqhOj9jNyvqygHLvfD/bkITuUTMlN+dH/gX+TGo/G1iZMepX4WrxX1Sq+1C32nAwjfLudxknK05S1vwWTjItLL39RF5adzw/uUx9p9uZi+GvKfc7nYF46KRdUrFqOP+xZ/TLGchfHnfvQoz9FyPd8WFk2efzCe81QueFyxCH3sjPJYlQXQl3p8/tZgTlyklh9fcqv4G+cncyJIqfK86pth8eRVLw6+2GNrOI+K5eW7OlnJgtPqtk8cC8Pi0/MiT1irP7di0w6PL8hP018s77WFrSK/p4LLXPzbmvP9XLli9nTOV+21mk88sj7nv16Wk+8qF3Ff7mYR5YXx9K/lezubGz+sVX1e5Vb6vXMTOY+yXzsczM38KfbPz+TGP6rMS8b8sqFl51KLuwvG370wzyxWrq6lLH/W37vk47+L47yqhfXX77uzqcvPDbH8sjS/aT25YEq+NG8tx361dejWU+98t1RZMf2FRXkMOft/CuVB3lJl0IOxnAgTDa+tvllzwwn5Gt1/Y7lBNU89YzPkjf9O5vqXVYZoOc+PekaVlvo7NuIx3bMerwE137HFlNbACs+Pw+gpjdWwwHPRV25B0u96bt+GbS9vh+1fEaR3qWOeYhu2jljTwX5lweA0Qh+0QJ8FrXF3N0anNJh2FR8TnrUI/Qo0/N2L0bPF9bYqWeE7Iy4pF9Ngh/sL5Y5xBdMRHwYr7xZumM1xHjcdfWHuS/2wGsYqNcB6KoLJU4ud9wLTkSBi3zgXPMfyzyDGK9bbK9IO+BC8IKqLxezsQeDmGNyGJY0qaHb4bkUw+IbhQwtm2I8rXYmL0vPI8vxXpR0cRuCfVuM0+2v63mpwXohguDTrc3WmI2P5dTTzv7fJgf5Q+felv3Oh5WVxbhpb0P1VHJo4N+V3W/lajfUqOxdTt8/zqviuX/GV1rA2MsH9Q3CRiZf43Vk9vSyN4t43xTV7F6cd6Md4PIgew2zkPPZbnXmP2iaqLXNZQWGXG8HrzxrHqV/PBtGvtsC/YoX3+zH0VC0HhHYffB/JdKVXRN0r6udFX5unwfGFXgfUd8jEZsPAlFZIg/mAuBj7eAyTszGMHDQWDA3tg4jcEV/ud62yEtCf74YvFMNs8h7GPs7vFNIY+TGqdJtYTyb0fJPA5Dk37HtkqbDLCuexEUw8SGLmmrjgKOwFLgcxoc/ety5ExfrJJBLREXgOmgsXiPlZAUfyx2qwc+mJUkzvB5G8pbxW/B3Wdz0YicxgWlTWrTUcL7M5zuNmIM5BpxOec+O4l5wQlVZlgKdrgv3MJJIPJsRxUfKcOPd2EZgE47OY+Wax8U4mOL+Zxr2wD+52+V3SZ1k9J/KRqEjtan0lfnflb2943Y2x5CxioWF4SudKvGu7+MxfTmAmOYnBquPy9LwqAmrxHbEWA9v8d8SEBnEyef4lcUzs4js4HL6H5I/9sFRZT3RN39tXLOj/UZRJEfF65fzlf++RfoxFZ/MX6mbl9+q/LxEdhvvAwt+XfDAJX2lsU/Wxx0urV9m5mPp9Hv07MJmYxMgxBwrr94vvgB4o35nG2Lsmw8RLzcrEYvzurEUDzEfGMPP7PUx806/kcSFfnorvhJ7PRf53Vlkii8d+qzFBK44xFRr22pT1g7ufPb5U0dTpQ0xchwXPKGWJYGoX17NngvnHKq9ndXodGxR5J/ixs1RXFurXSczeEnX0/xb2VVN47QwmvvTAWazfBU0E2MUybOKflgX1+otum95sKtO0RT1+/Dj//44dO/L/U51MDWGb1St/cCL427jS2rz1MN+tXeLfbeX1zt4NYrY4YyAtivmONlwmgr7tXShOa+aL5zDYLn9YJ8zHVA/Md1QPar5jiykRUT08CaPX3ouBS2HE76crJkAoTLwzfE6Z6MOitB4Q0YaJn7eh+7gfoWsJpNSFMnX6pGbnfKWgFOiBuUrrHRERrRwDUyKieni1CVoyAP/RbtjMzWjUxwpuK26N2G7pRag0aM6KgberjAklonWnvbod4YsDcDna0LK9Ufleiu1/WtD1eXHtTPHcY65FxqISEdFKMTAlIqqHBju8V5TJOhaloeebIDyLLItAROvLdGREmXRpCe2DCJ5xrOtaskRELzIGpkREdaJP1pGfkOGcB85OZfIbQZ0gIXjExAkSiGrGhJ5v9UmpxtB/xG6YLEV/zNopJ9S55YNdmZyFiIjWhpMfvQA4mJ3qgfmO6oH5jrYC5mOqB+Y7qgc137HFlIiIiIiIiOqKgSkRERERERHV1bZff/2VXXmJiIiIiIiobthiSkRERERERHXFyY9eABzMTvXAfEf1wHxHWwHzMdUD8x3Vg5rv2GJKREREREREdcXAlIiIiIiIiOqKgSkRERERERHVFQNTIiIiIiIiqisGpkRERERERFRXDEyJiIiIiIiorhiYEhERERERUV0xMCUiIiIiIqK6YmBKREREREREdVXDwDSL6Mlt2LZtqa0ZrfZu9H0VQeqpfJnqUQjdynOHfpH7CdnbfnQ1F47NwI2s3Eurs5y8ug1DU/LpROslk0Lkqz50W1tK+azFKsrE82EkM/I5RDUU/2xh2bf41o3QE/lCIqIXQSaJ8Pk+dO1tLpSDza3oODqE8F1W2qtRw8A0ifh3MrmoNJI3wxg90YWWziHEK4LTzJ0YwjINuGDdI5N1l0Hqmh/+a/XJhJmfhtD19gAiaf2nHtj2NuT302otJ68Sra/8zSVzC7pOjCI8lZJ7gdSUKBNPdqPV3AX/bd50IiIi2hQeheAyt6L75Cgid/MX4SKUSSJ6yYvuvWa4vk6CtfbK1C4wfZTEtDxnyzLlhediQv5QkLo7LlPCoTaYNkH8lb7ph0tkvhZHBE27m+TeWskg8VU32vZ7ES0e233iuGgyTauz0rxKtFZPo/CWbi4tIh3BwNviu16tNwkRERHVUAL+910ILVpvpxH6hwv+KYamK1GzwDT7YFpp7dTg+zmHXM64zf82gcF2+RQhEYqK016UQvLn8tnX3jTDJNP1krnSi2b7AEL6XRLNjtZd8oEayNwNYcBuRtuJsDgyioM2WGSSVsfQMn8qtiCfFjc1rxKtReqyH/5S8WaFJzyDeT2f/TmH6f/0iBJTSvsxenWp6JVofVlPLSz7SlsqCKd8ns56ZgDO1+QPRERb2VQEw6UhXQ4Mx+cK5eLsBPr3yd0iivF+GwU79S5fzQLT5C9BmdJV74bb8JoDfSeUau52ttwEnkkidkWmBdcbZpmSsmlELw2g9y0bWorjXfL9vAcQuFn9Qi5ztU+OixHbeyHkn5WOYvR4F1rz4zWb0frOAMKP8k+XEvBbCq/Z7gzIfULaC5v+Piejhmb7zO0w/Me70VHsey62tYwZyz4Rn+8fHTDvdcFf5e/yiICd1iZ5u9wy37O33rc/aOtLI3EzItPCkQH4DpmQ7xDyUhMsH/rg68w/khd+aLgVRVQnhdaC4k087XAQwVPWQr4lItri0vNNcB9zwn7ADNMZL/rbZa9JzQHXB0oT0ZWEsQGJllSjwNTY2rlUN9z5v2RCt6+hXMk9TKAcLjjRtrv8Btn7AfSKwK/jqB+BG/FyBsj38/aj125Bx/nEgn7eatdgzSIuBG940WHpQN/FCJKFKBXJq350W0XlW5zQ4XYUwdsyXUV/p01+5gyip0UAaenGwMUwosW+50JpzNibveX3XY5MBAN/E5/v62ghiF7ADou51t2Jt5oU7t0qH93szyJvFSei2W1D9/HRcrdponUxD7wiKrdOO+x7NDgPWGD8FjeikV9r2mRSX3sxUGwt0PoRvNBT915MRES1oh3wwHdhHJPRe5g5ZZV7C7JPZ2VK6DSjWSbp2WoTmGZTmFZaOxfthvs0jtAFpcPv2xYU2/9SyelyMKa1wbxTpvWxWQd6EXhY+NF6ZhJzf+rdjOYx822xC1wa0ZNeBOVzCozBcnPcB8dbQ9WDjnQIvsuyU/G+fkxX6cI0eKvQtWm4sxCWpr52oeMzGUBqPQg+mC808f8+CV+xC+jDADwXjC2sS1KD810OeL6cxOSXdrlDqHF34i0pk0TihkwL4fNeBIoT0TyMI3yxL3/zYohjBmjdmODUK7fr4vt8ZxbjhytLx1nMPpBJwfLKInf1iGrlSQgD/yi28mvw/McL+yvyRyKiF1YW6Wte9J8uBhOifHzXXh6OQ89Um8D0fgJRmdRVdsPNZjJITQUw8I4T3lJ/bQsG3rPL1scsUnfKASsOWUqBbfZ+Ctn9dtg7rTDtG8boKTuaXtIfaYDpcB/c+WfpIkj/IZO6imA5cTWCeLsHwYTsIy4Czx4lJyUSKUMrpXGGYA9shq7JIuhNNZdaQNwXRtGzS15MvmpHz/FySJt+mF523/PUnWm0HRtGMD6L+QcTGPmoDdmkcmTFcWFH3jW6G8OoTC4qHYX3kHtlrd1Eq5T6zoeBUi8NC1wHOIqc6imL6IX+cv33tg/9B9mkT0QvuPySlo1odgwhnt+hwX42jGGWjytSk8A0JYI4dX5d/1uNpfGW+ta4fTtarL2GMZPax8PwlAYPG5fvcFrNpa5uDW+4MfLDJCavxzCT6DdO/JOeLXfrrVQRLKPdh9iNEfTsk++8046u/YVkNYYZgjtFQGjIdyY4zo6VWkDGDhkzZeZJTKZWxnRkHBPigqCnXZMBexIJJbi2W8rHhVYnPZfN31Cw7hLH+91hTKZkS7c+CU3Ig1JnjXRoZa3dRKuQueGF6wOlF8kxH9ylcpGoDv6IIPR5uTVg8GMXu/ASEaVTSoMVYP7Qj5FjHHe/UjUITCtaO5fB+tEEYueKraWCYfkODW3mhdVgNpNC4mYU0SsB+M/7MXC0A7b93QjJx/VxqeoyKukH00qwbIHv3/2wGroiiaD2lkwKFotJaYqvGDPb3lq9Yv4ri/T9OKI3RUX+lR/+033otrfC8any2tfV912hh/eUrseaCEx5ebBW2kERjF6fROxBDjM/9MO+U+ZCfRKa94fhP1O+9ZG+FEdSponWmx6U6sMLCndeBc2DwBkHbz5RXaWuBlCa9m/fALoP8LKLiCjzuzKuVEh+7ULrdhv6rnLqo5WoQWBqHLNXnQnWTic8p8YwkZxD7EuHIdAzLjXTDYsyjjLzk76OaDMat7egzd6BDmcvBk4OwH8pirg6plQdlyqk7pRDVuxzwdFeUblWrGVp36N0kq3oBrxgJtynSYROdqHl5UY0m23osHfBdWIAA5+NInwzaegSvJZZXzNJtdXXeFxoIzTAesAh00J6Gkl256UNkLrcizY1KN3lxnh8BI5X5c9EdZFA+MvyDNKOE04uT0abSvyzcm88w1ZceYFogzR1DldZ5i2O0Xf6SvPg0LNtfGD6JImYMout89uZQtdIwzaD2PVxjJxxw/H6wvYAw1Izh2ylbrPZX4bg2C/XEdXpEwKdC2Iifg+zc/cwdqiwO08Zl6q3eN4rjWUFLB/YF1SuxmC4B7a9SuB6N47yJ6qcCTeN8HE7XOcjshuxBvP7/RgLT2I6NYe564P5vQUWtO1edXspkj8royGV40Ib6KVGmSDaGKnvXLC9FygNQ9AODGIyPgancmONqC4Ms9I74NzPXjpERHkNciWRBcu8RTB6VR3QSEvZ8MA0m1QDvOrdcJdm7DZbntFXBIDnvKUWBX0NtZnkBEY+7oGj3QytYRZJpVVTHZdaOfOq482F93wNwfC+NkM3YMMMwbAaZ8KdCsDzXfFRK3y3krgXGob7kAhgdzZh7lGpDURwwLbq8WLG4HrRmY5pBVKInNfXwu1Ah7UFHV8v7H6R/e+cTOma0cSZKGkdpb4XQekH5Tv71o/GEbvug50tpbQJJG4Gy0NgOp2ws5cOEb2Q9OvFwrDBDnsruhZcLxqXeUs85Ywky7XhgWnyrjrF0Cq6m1Z0m+3eUwy/UkhdlknBddgJU342Xum22qpZERAb1kTtQduCz1QxhvSgTWlRzSAZV8bMHrMZZsJNp5SgtdONnr8bW1PjN5TjcVgEvDK5YukEokpwXTnTMa3GdnHq9bVwo4hOpRD9JmyYtEtkRsRuKDcs9OWM2EpN6yQ7NQRXTzEo1eD4YhrRLyvKNaK6SYu6r1wiagfWUH8RbRDrqcoeeXL7odi1kmg9NCJ7pzBsMHoziciVqIgcVMZl3rSXOBZ/uTY4MDVWZKvqbmqYPbey22xZ6g910ZUUQl94ywGieJ35NZkUjGuithpaQ/MqgmHjONDU8mfCvZNWPoN4259GMKwE05oIllddUD6cNkzs1LabmX7tmmDrLC8whKkBeD6NIJ2/0ZVB8lIfes+Xz6j7w25emNH6eBKG+1C5B4j1TBjj/7RwNj/aPLL3MK3UX+WbxERELxoNFnXOkWteeL9OIPOXSP+VRuRTj7LMmwZ3OxuPlmtjA9OKimw13U0NS81odqV10wzzEZkUwv9yY+hKFNFrAQzYbXApvxdoRXMpAlx8TdSSijGkdosSPqZTuKdEm6Ym45hDzay0rqa96D8RQORmFOHz3WjdP2RogbPtbJaplUv8XJ6AAvtEwM/xZ+ui6ZAHw+3yByH+eReaG/XJE7aj9Wh53B/eDWKwYhkgotXJIn7Jh5BSrsRP29BYbQIPfeMkHlQP6bTSIiDqzb+x/COiF5fpfR98pevFNEL/aMP2l0Ud/XIzuj4vD9vTDvvh5uzly7axgWnFWqErv8O6VBDZBMdxn7KuZAReZwc6HPp6qIC1fbG5Ao3jS6u1eC45hlQzw6YELoH3mgsXi81eRPWWtX0ueA+XA9n4V73osneg+2QYqXZr+fOuibhASCghrr6OqkzSWlnQ//0EPMo5rqQd8CH2TQ9bS2l9ZGMYP63esiLahAxr9JnQzHHPRPQia7Bg8PtxuJcYoqgvQRi5wOvFldjQwNS4Vuji3XAXt3QQ2fDGICJ3gug/aC50iRVBo/2ID8Gfk4h91a10k51Gqrish6hcp5VZgq0LJmOqCIYrxpDqLbWeqzGMHHPArDSkmj7sgi1/Q0SD85sEJs+5YZWZ1dTuhOfLCczcCGPgcGGfLvZw4eQ6y5K9h9h3Mi04La3s8reedjowcmsWk9/0w31A5i3xr/mAG75QDInrgxVr3hKtgaGHBhERET0XdjoxlhTXi1964GwvxhMmWN/1YCQyg+SP/bDwenFFtuX0UeG0pT1+/Dj//44dO/L/E9UC8x3VA/MdbQXMx1QPzHdUD2q+2/BZeYmIiIiIiIiWwsCUiIiIiIiI6oqBKREREREREdUVA1MiIiIiIiKqKwamREREREREVFcMTImIiIiIiKiuGJgSERERERFRXW379ddfuY4pERERERER1Q1bTImIiIiIiKiutuUEmaYt6vHjx/n/d+zYkf+fqBaY76gemO9oK2A+pnpgvqN6UPMdW0yJiIiIiIiorhiYEhERERERUV0xMCUiIiIiIqK6YmBKREREREREdcXAlIiIiIiIiOqKgSkRERERERHVFQNTIiIiIiIiqisGpkRERERERFRXDEyJiIiIiIiormoYmGYRPbkN27YttTWj1d6Nvq8iSD2VL1M9CqFbee7QL3L/Cyh9cxR979nQIo9Hi1Uct/NhJDPyCbQ2mSTC5/vQtbe5kN+aW9FxdAjhuzzARPSC+iuN6Fd96La2yHq4Bbb3+jB6My2fQFRn6ShGj3fDtlteK+62ofv4KKLMolQL2Si8zTLvbRtCXO6m5athYJpE/DuZXFQayZthjJ7oQkunOKEVwWnmTgxhmQZcsO6RybrLIHXND/+1WgQtKYSPtqDZLi4GLsfFT3LvlDhuJ7vRanYh9EjupNV5FILL3Iruk6OI3JW1WTqJ6CUvuvea4fo6iWxhLxHRCyF7P4BeczM6TowiPFWqeRC/PIo+uwUdn8dZLlIdZZG81IuW5g70XQwj/lDufhhH+GIfOiwdGJpiDqWNlbjoxRBvgqxJ7QLTR0lMr+RkTXnhuZiQPxSk7o7LlHCoDaYGma6j9E0/XCJYaXFE0LS7Se7dOIl/u9B9qXhRUEVaBFXv+2E8crR8CfjfF8H9onk1jdA/XPCzgiOiF8WTMNwHehEoXuwvkEb0Uw/LRaqb9GU37EcDpZv1C6Sj8B7zI84sShsk89MQPP9iG+la1SwwzT6YVlo7Nfh+ziGXM27zv01gsF0+RUiEokqAlULy53K0oL1phkmm6yVzpRfN9gGE9FY1zY7WXfKBjfJHGKNKptcOj+HenH7s5nDvPz3iqEpTw4hMyTStzFQEw6Vj58BwfK6QP2cn0L9P7ha50vttFOzUS0RbXxbRCx7lZp0Vg5HZ6uViOMZWU6q9bBQjJ0IoZdH2QUzMFq4rZ3/sh0Xuxm0vxm8xh9L6S13pg2O/l11310HNAtPkL0GZ0lXvhtvwmgN9J5zyJ+F2tlzJZZKIXZFpwfWGWaakbBrRSwPofas87rIwLnAAgUXGv2Su9sl+4GJ7TxZq+fEJXWjN9xFvRus7AwgbusYm4LcUXrPdGZD7hLQXNv19TkYNFXPmdhj+493oKI5VFNtqx4Nm4lGUf6MDvtNumPONtE0wf9gHd36/Lo3pVPW/mZaWnm+C+5gT9gNmmM540d8uW8E1B1wflKo34Epi8TuzRERbRTaGyOfl+sRybhS+t+VtUFEueo7boe2xw95phzObwWzhEaKayd6KKN0nLRi+6IOjmEUPeuDp1GA+oOdRJ7JPmUNpHYmYwf9eC1qcowxK10uuJmZywUPI6b8uvx0Kij3VzXzrLD9v33BuWu7P/ezLiXJGPubMBVNyvzCfHMu5dxUfq7ZpOfu56dy8fH7R9Fmt9BztbCw3d30wZ9cqXys2rSc3/pt8UWI4J8KThc+RW//14m+Zy02esiufucq2y11+32WYjY7khk95cs5Oe8789ljFMYzlBpX3doZm5f5c7tdff81vtDaxM+X8gsPjufIRpmqY76gemO/WmaHuteSGE3I/bSjm4+VTr+UM1420Ysx3KxHL+Uplo75Zc46DFuVnn3gGLYea72rTYppNYVpp7Vy0G+7TOEIXlA6/b1tQbBdNJafL3TS0Nph3yvTTKLzK2BfrmUnM/al34ZjHzLfF7q1pRE96ETSMjzF2DW6O++B4a6j6zG3pEHyXZafiff0QhR5yqSCUtl0M3ip0GxnuLAx8TX3tQsdn0cJn1noQfDBf6Pr0+yR8xe7KDwPwXDC2sC5FO+BB/5kRjF+fxL2I23AMszfGldZUC2xmebuQ1kEW6Wte9J8uZg4Nnnft5a7TRERbVPqBUvfCVq57iTaFNJIJ5cLNWv9hXvTi0Q70I5iMIvA+c99a1SYwvZ9AVCZ1ld1ws5kMUlMBDLzjhLc0vs+CgffsKIR5WaTulANWHLKUCp7s/RSy+/UuGlaY9g1j9JQdTS/pjzTAdFjt3hpB+g+Z1FUEy4mrEcTbPQgm5JhCEXj2KJFHIpFSKmdUzBDsgc3QNVkEvanmfNcm+x4N7guj6NklZ2p61Y6e4+WQNv0wvfaxio9CcH/gL3++tz1wlsb90JrklyhqRLOjOO23BvvZMIYPbvxEV0RE9Tb7KCZTumZsRxKhk8pwF3svhq4kOeae6mQWqVsyqWveDtwNievJVjTrw6e41BttoAZxvT0SmUEyOoye1zfBjKxbQE0C05QI4tRZYv1vNZbGW+pb4/btaLH2wq+MBdU+HoanFFwZl5pxWs0ohgUNb7gx8sMkJq/HMJNQBrnr0qLAkskFKoJltPsQuzGCnn3ynXfa0bW/kKzGMENwp0WO9SwywXF2THwm8bnuzGLskDGIyTxRK/o1+iMKr2EWWSt8Z1y8Y7he0inlBgRg/tCPkWNWecOEiGhry/6l3JJ9PQbf261wnY8gmd+tL/EWgNfZirajYY67pzrI6tmwxKz3ftvrgv9qsrC7tNRbG3ovM4fSerKiPzICz9umUkxCa1eDwLSitXMZrB9NIHau2FoqGJaa0dBmXhh2ZTMpJG5GEb0SgP+8HwNHO2Db342QfFyEszApLaB696RysGyB79/9sL4if8wz3oWzWExK101jN2C0t1YPBP/KIn0/jujNCEJf+eE/3YdueyscnyqvfV193xV6FEHfQX1tLvmzeKeeUBCDbzBsWi+Z340TJSS/dqF1uw19V1nBEdEL5n5k0RnfU5e64fo8seyhKUQbIXktssgkNCkE3nNh6BfmUKLNrAaBaRKJGzK5KBOsnU54To1hIjmH2JcOQ6BnXGqmGxZlWZbMT/o6os1o3N6CNnsHOpy9GDg5AP+laHmBZZ06LlVI3SmHrNjngqO9IpirWHfVvkfpflzRDdjzZsUMwU8LXZ1aXm5Es9mGDnsXXCcGMPDZKMI35V08qWfvKts2H4XQ29mFUTUo/Q/7t6+3ps5hzOtdu/+cw3RpSZ44Rt/pW2JNP6LVi39W7k1i2IozhxPVk74Ux2/FOROmMXa4fGs1/mkAUfaYpDqzfjKB2fnCvB9ziTFlWFYc3m+41BvRZrbxgemTJGK3ZVpwfjtTqNAM2wxi18cxcsYNx+sLG8QNS80cspW6zWZ/GYJjv1xHVLfLAc+5ICbi9zA7dw9jhwq785Rxqfqds3vKXV/LB3ZjF2DBGAz3wLZXCVzvxlH+ROK1hn68aYSP2/NdnQptahrM7/djLDyJ6dQc5q4P5vcWWNC2e+Xtpdn7AbisLiUwkkHph2Z2MV1vDQ2FY/pSEywf+uDrzO8VIhi9qnZQJyLaeky71Gn+NPj+7YPjNVnTvGqB+7RP1IJFo0jcl0mimjDB9K5M6jQf/Gcd0GQWbdrnhu9MOYfiYgJJmSSizWfDA9NsUg3wqnfDXZqx22x5Rl8RAJ4rL2arHQ5iJjmBkY974Gg3i0JpFkmlVVMdl6qviaq24jrerAxLK4LhfW2GbsCGGYJhRavSgoupADzfFR+1wncriXuhYbgPiQB2ZxPmHqmdTBywrXCSIj0odR/oVcaUiqD02xiCDErXQQoR2Q28w96Krq8ru+s2olG5B5F4yi5BRLS1Nb2q1tk2mF6TyaKGRo6vojpqgqbOFL1fBKoyWdT4CnMo0fNiwwPT5F11iiFjN9xlqeg2272nWOSkkLosk4LrsBOm/Gy80m21VbMiIH6YQHnqoh60LfhMFWNID9qUFtUMknFlzOwxW2lJG106pQStnW70/N3Ymhq/oRyPwyLglcll0WffrQxKQyIoPbyid6FFNSJ7p9ANPHoziciVqGz1LprF7AOZFLSXeCuA1p/1VGWPErn9UOxKTlQ7DW/a4ZFpIIzYnYobctl5pWukyKFqPUy04RrQtr+cQ3E5humnMi3NP1U674osypqbaPPa4MA0LYI4pbuj0g132Qyz51Z2my1L/aGOGkgh9IVXadW0w6zc5TWuidpqaA3NqwiGjeNAU0goj9ktSktspTtp5TOIt/1pBMNKMK2JYHnZF5rZBIYMs++KC9gzYY4pXVcaLAccMi1c88L7dQKZv0T6rzQin3owUOqWrsHdXjG2mIhoq2mywXGsXFONHnUjcFvWt5kkAme85Tpac8NqWDqNaOM1WR3wlLLoKNzHA0jI5QEzdwPwni5fRWpHrIbGBCLaXDY2MM3ew7QaiJW64S6fYakZza60bpphPiKTQvhfbgxdiSJ6LYABuw0u5fcCrWguFVqLr4laUjGG1G5Rwsd0CveU4NDU1ChTBZpZaV1Ne9F/IoDIzSjC57vRun/IsGyObWezTD1b6jsRJFXMhhg/bUPjgklS+hDhyP5VM73vg69d/oA0Qv9ow/aXxXF9uRldn5e7YWuH/XAf4H1XItrqmuA46UdppGk6hF7L9kJ9s70VvaWhK4DjjBt2FotUa6860H9OWR/+u160/W/hmmj7XrWXmQO+o8qKD0S06WxsYFqxVmi5G+5yLRVEisryuA9W+RPSEXidHehw6OuhAtb2heNGC4zjS6u1eC45hlQzw1YKXIDAe82FCrrZi6jew2mfC151lsKvetFl70D3yTBS7dby512ROEKnIzL9DKtplaayBgsGvx+He4ku59rBYUQu9Kz4JgsR0XNpZw+CcR/syj3aStZPJhH8kKUi1YfpcBCxs/YleqFZMXg9uGTdTkT1t6GBqXGt0MW74S5u6SCy4Y1BRO4E0X/QXCiMRNBoP+JD8OckYl91KwXUNFJPZDKdwrQyS7B1wWRMFcFwxRhSvaXWczWGkWMOmJUS0PRhF2z523AanN8kMHnODassAE3tTni+nMDMjTAGDhf26WIPl7kW5u0YxpVW2qWsplWaKux0Yiw5i8kvPXC2F4+mCdZ3PRiJzCD5Yz8shjVviYi2tob2QUzemUZQbxXdIyu/Yp0bn80HBbwnSvXTkL85kvw5CN8Re+n6TNtjh/uMCFpnY/B1MocSbXbbcvqsGrSlPX78OP//jh078v8T1QLzHdUD8x1tBczHVA/Md1QPar7b8Fl5iYiIiIiIiJbCwJSIiIiIiIjqioEpERERERER1RUDUyIiIiIiIqorBqZERERERERUVwxMiYiIiIiIqK4YmBIREREREVFdbfv111+5jikRERERERHVDVtMiYiIiIiIqK625QSZpi3q8ePH+f937NiR/5+oFpjvqB6Y72grYD6memC+o3pQ8x1bTImIiIiIiKiuGJgSERERERFRXTEwJSIiIiIiorpiYEpERERERER1xcCUiIiIiIiI6oqBKREREREREdUVA1MiIiIiIiKqKwamREREREREVFcMTImIiIiIiKiuahiYZhE9uQ3bti21NaPV3o2+ryJIPZUvUz0KoVt57tAvcv8LKPMwgtHjXWhtlsdjtw3dx0cRTcsnENHzKR0V3+1u2Hbzu02blajPP22WdfE2DE3J3UT1lEkh8lUfuq0tpbzZYhXXlOfDSGbkc4g22m0/bDL/bdvWjdATuZ+WpYaBaRLx72RyUWkkb4YxeqILLZ1DiFcEp5k7MYRlGnDBukcm6y6D1DU//NdqUfJlkfzaBfPuLvRdjCBZvFh9GEf4Yh86LF0YvZ2VO4no+SG+25d60dLcIb7bYcQfyt2l73aHCAD43aZN4PYovJ/zTgltHlkRDHSZW9B1YhThqZTcC6SmxDXlyW60mrvg57URbbgE/McGEJc/0crVLjB9lMT0SuqxKS88FxPyh4LU3XGZEg61wdQg03WUvumHa68ZLY4ImnY3yb0bJ3vDC/s/QiKEX0Q6gr5jo+KrQUTPk/RlN+xHAyhfUlVIR+E95kec11ZUT5k4hnjhRZvJU1E2vj2AyFLXmOLaaOBtL6LVeuMRrYssEp97MMAeJGtSs8A0+2Baae3U4Ps5h1zOuM3/NoHBdvkUIRGKKgFWCsmfy6WO9qYZJpmul8yVXjTbBxC6Kz6XZkfrLvnAhklg9LS/FJRaPxrHzLx+7OYx822POKrSVBDR2zJNRJtfNoqRE8oNp/ZBTMwWysXZH/thkbtx24vxW4xMqU4ehdH3tg1eXnjRJpK67Ie/VHha4QnPYF6/rvxzDtP/Ua6N0n6MXi1fRxKtp+yUH55PecturWoWmCZ/CcqUrno33IbXHOg74ZQ/CbezKF2CZZKIXZFpwfWGWaakbBrRSwPofcuGlmLf7uZWdBwdQOBm9YIoc7VP9gEX23vyojA/vqs4drMZre8MIPwo/3QpAb+l8JrtzoDcJ6S9hT7lJ6PlzyxkbofhP96Njr3l8TirHvOQyaLJ2Q93px3WXR54zzplq3EDTIf74M4/SZdAlteuRM+N7K0IhkrFlAXDF31wyKsp7aAHnk4N5gN22DudyD6dLTxAVCt/ifr1fDdaTN0YZVBKm0oaiZsRmRaODMB3yCSuioSXmmD50AdfZ/6RvPDDRfukEK3e0zj8//SyJ8k6qFFgamztXKob7vxfMqHb11AoXHQPEyh35HWibXf5DbL3A+gVgV/HUT8CN+LlrnDppAhW/ei1W9BxXgRrcneR2jVYs4iC7IY3P46rPHYzjeRVP7qtLoSLg5dvRxFcojWyv9MmP3MG0dMdMFu6MXAxjKjeqiqVxjy82Vt+3+VossL98TDGrk8i9mAEjlfkft3De0rrsriifUkmiWjTM9y42+eCfZ9M55ngvj6Le9FJTF4fx4i46CKqpfjnon49GS7VrdaDjnIrPlFdzQOvOGHvtMO+R4PzgAXGQVWNaNz4UVb0Qssifs4je5Jo8BwrNxPRytUmMM2mMK20di7aDfdpHKELSoffty0otoumktPlbm5aG8w7ZVofW3CgFwE5UYj1zCTm/qzs3ppG9KQXweJkInnGYLk57oPjraHqM1+mQ/BdlmHfvn5M611EUkERHpcN3ip0uxvuLISlqa9d6PgsWvjMWg+CD+bzj+d+n4Sv2F35YQCeC8YW1tXIPopi6F9elO4Ztg/A8YZME9Eml0YyoRQ81voPUyCqSrOjP3QP0Qsu5lHaJExwXhjH5PVJTN6Zxfjhypw5i9kHMilYXlmkVYRolbI/+eD5rBAjaMcC8H3A0nEtahOY3k8gKpO6ym642UwGqakABt5xKmNXLBh4zy5bH7NI3SkHrDhkKVWK2fspZPfrXdysMO0bxugpO5ryrYWV3VsjSP8hk7qKYDlxNYJ4uwfBxFwhgBSBZ09pYIJ4PJEqB8aCcYZgD2yGrski6E01l+7guS+MomeXLAxftaPneDmkTT9MY7Vz+aa+6853DW40dcBbHDehB8HfK2PSiGiTm0XqlkzqmrcDd0OiPGxFs979Pz8kYQjhu1zvgOqkwQHPlxOYSU5i+H1zuScT0SaX+s6HgVIvNwtcB3h1ROtIbxx7d6jQY1HzIHDGUdFiTytVk8A0JYK4cjdTwP9WYz6gKm6N27ejxdoLvzIWVPt4GJ5SdzbjUjNOq7l04hvecGPkB72LWwwziYqALC0u+GRygYpgGe0+xG6MoGeffOeddnTtLySrMcwQ3GmB2ZATTXCcHSvdwRs7ZMymmScxmVqLimBdsH4UxL2kCKiLrclE9BzI6o2mJWa998ZeF/xXk4Xd+SEJXnTvbUPvZY6PotqzfjyBkY8cMPGKi54jmRteuD5QeuEd88FtGCZBtBYZRE6KujpfUWvo/3YYjlfzD9Aa1CAwXRhAPYv1ownEzhVbSwXDUjMa2swLm8mzmRQSN6OIXgnAf96PgaMdsO3vRkg+ro9LNSktoOkH00qwbIHv3/2wqmM2K1oxLBaT7Basqxgz295avVvTX1mk78cRvRlB6Cs//Kf70G1vheNT5bWvq++7EkkkbsikFP9qBOH7nPWI6HmWvBZZZAKFFALvuTD0C7/jRERL0YNSfXhWqSxlaxats/RlD9wXC9fz2sdB+ORQPlqbGgSmCwOohUywdjrhOTWGieQcYl86DIGecamZbliUZVkyP+nriDajcXsL2uwd6HD2YuDkAPyXouUF6nXquFQhdaccsuqTjTjaKzJUxbqr9j1K9+OKbsCeNytmCH6aROhkF1pebkSz2YYOexdcJwYw8NkowjdlK4jUs3e1fdEt6E/oY1anMXa4GNrG4T3kQ5TXresi/lm5Vd+wFWdwJtog1k8mMJtfCiqHucSYMqxAfMe/ia66+z8R0VaXutyLNjUo3eXGeHyErVm0fh6F0F9c4k3rR/C00phGa7LxgemTJGLKLLbOb2cKYzgN2wxi+myTZ9xwvL7wfpZhxspDtlK32ewvQ3Dsl+uI6nY54DkXxET8Hmbn7mHsUGF3njIuVW95uKdMeW/5wL5gTKYxGO6Bba+S5e7GUf5E4rWGfrxphI/b4Tofkd2INZjf78dYeBLTqTnMXR/M7y2woG336tpLS161wH3WX56IKR1A/K5ME9FzwATTuzKp03zwn3VAk0VO0z43fGfshR90FxNIyiQREZWlvnPB9l6gNIxLOzCIyfgYnBziROsoHR9HqNhCkfaj43+UxgurVz6gC8P1t8L+IS61tSwbHphmk2qAV70b7tKM3WbLM/qKAPBcec0g7XAQM8kJjHzcA0e7WVzUzSKptGqq41L1NVHVVlzHmwsHwxuXb2gzdAM2zBAMK1qVFlxMBeD5rvioFb5bSdwLDcN9SASwO5sw90jtpOeAbT3GO7xmKs1erB8XqEvuENEm1wRNvWjaLwJVmSxqfIUd0IiIlpL6XgSlH5R7NFk/Gkfsug92tpQSPTc2PDBN3lWnGDJ2w12Wim6z3XuKl2wppC7LpOA67IRJXbvzttqqWREQG9ZE7UHbgs9UMYb0oE1pUc0gGVfGzB6zKUGhCAtTStDa6UbP342tqfEbyvE4LAJemVzSL6PoeKtDbDa0bOtGqHLt09ux8lIxsENjIbwurKcqW/bl9kNxGSKi9dCAtv0emRYuxzD9VKal+adK512R+dhliIioLDs1BFdPMSjV4PhiGtEvK64LiWjT2+DANC2COGU+XqUb7rIZZs+t7DZblvpDHXWVQugLbzlAFK8zvyaTgnFN1FZDa2heRTBsHAeaQkJ5zG5RWmIr3Ukrn0G87U8jGFaCaU0Ey8sKcHY2wyQC2uiNuPjtYYxciCAtx5FmbofQd2ygPJHTu250rTT4J6K6arI64CkVBqNwHw8gIZe3ytwNwHu6XApqR6yGm2FERC+0J2G4D5V70FnPhDH+Twtv4NGG0d4fr95woW9xn3yWzongb4X9g+1yFy1pYwPT7D1Mq4FYqRvu8hmWmtHsSuumGeYjMimE/+XG0BURvF0LYMBug0v5vUArmksXfYuviVpSMYbUblHCx3QK95Ro09TUKFMFmllpXU170X8igMjNKMLnu9G6X651JNlEwLksrzrQ80n5M8Q/70JzY6HP+naLC6PFfuv6Gqbn2JpH9NwR3/H+c8r6xt/1ou1/5Xd8b295LAsc8B3lJAtERAVZxC/5lDJSXCOdtqGxON6vcuPkhUSb2sYGphVrhZa74S7XUkFkExzHfbDKn5COwOvsQIdDXw8VsLYvHDdaYBxfWq3Fc8kxpJoZNuWuR+C95kJh1+wtzIa7zwVvaZZcUUB+1Ysuewe6T4aRareWP++KNMD+aQTDB5cIOTUHhkVQzjVMiZ5PpsNBxM7al7ixZMXg9SDc7BFBRFSQjWH8tHrLn4ieZxsamBrXCl28G+7ilg4iG94YROROEP0HzYWLORE02o/4EPw5idhX3coF3jRSxXGZ6RSmlVmCrQsmY6oIhivGkOottZ6rMYwcc8CsXEGaPuyCLd+MocH5TQKT59ywygtIU7sTni8nMHMjjIHDhX262MMVLJb/igX9PyZxL+yD+4D8e4XSeycn0L+P7ShEz68GWD+ZRPLnIHxH7KXyRdtjh/uMCFpnY/B1rrQMJSLawgw93Ijoebctp3d8pi3t8ePH+f937NiR/5+oFpjvqB6Y72grYD6memC+o3pQ892Gz8pLREREREREtBQGpkRERERERFRXDEyJiIiIiIiorhiYEhERERERUV0xMCUiIiIiIqK6YmBKREREREREdcXAlIiIiIiIiOpq26+//sp1TImIiIiIiKhu2GJKREREREREdbUtJ8g0bVGPHz/O/79jx478/0S1wHxH9cB8R1sB8zHVA/Md1YOa79hiSkRERERERHXFwJSIiIiIiIjqioEpERERERER1RUDUyIiIiIiIqorBqZERERERERUVwxMiYiIiIiIqK4YmBIREREREVFdMTAlIiIiIiKiumJgSkRERERERHVVw8A0i+jJbdi2bamtGa32bvR9FUHqqXyZ6lEI3cpzh36R+ykv89MQbPlj40I4LXfS+rjtl8dW37oReiL3E62nTBLh833o2ttcyGvNreg4OoTw3Yx8AlEd/ZVG9Ks+dFtbZFnYAtt7fRi9yQqHNol0FKPHu2HbLevr3TZ0Hx9FlFmU6LlQw8A0ifh3MrmoNJI3wxg90YWWziHEK4LTzJ0YwjINuGDdI5N1l0Hqmh/+a/W7eMxODcGx34u4/sO+Npi0/G5aFwn4jw0Uji3RRnkUgsvciu6To4jclVdR6SSil7zo3muG6+sksoW9RDWXvR9Ar7kZHSdGEZ5Kyb0pxC+Pos9uQcfnceZPqqMskpd60dLcgb6LYcQfyt0P4whf7EOHpQNDU8yhRJtd7QLTR0lMr+SO1ZQXnosJ+UNB6u64TAmHRPDVINN1lL7ph0tcNLY4Imja3ST31pYelHYdkkGp7qANFpmktcoi8bkHA1PyR6INkYD/fRdCi5aRaYT+4YKfF1ZUD0/CcB/oRaB4sb9AGtFPPcyfVDfpy27YjwZQvGWyQDoK7zE/4syiRJtazQLT7INppbVTg+/nHHI54zb/2wQG2+VThEQoKi7XilJI/ly+atPeNMMk0/WSudKLZvsAQnrrhmZH6y75QA1lb/vRLYJStZtKz956H5mtIzvlh+dTtpXSBpuKYLh088OB4fhcoVycnUD/PrlblIbeb6Ngp16qrSyiFzzKTRMrBiOz1fNnOMZWU6q9bBQjJ0IoZdH2QUzMFq4rZ3/sL9+ov+3F+C3mUKLNrGaBafKXoEzpqnfDbXjNgb4TTvmTcDtbruQyScSuyLTgesMsU1I2jeilAfS+ZUNLcSxgfnzWAAKLjH/JXO2T42TE9p4s1PLjE7rQ2qzvb0brOwMIP8o/XUrAbym8ZrszIPcJaW9hDOLJqKFiztwOw3+8Gx3FMWNia7F2o+98GMk1XmHqXavcbw8gYvjz7LBb2I93XTyNw/9PpSWaaIOk55vgPuaE/YAZpjNe9LfL3heaA64PlP4PVxKLtwgQbYRsDJHPy5WM5dwofG/LOkbkT89xO7Q9ot7ptMOZzWC28AhRzWRvRTBUyqIWDF/0wVHMogc98HRqMB/Q86gT2afMoUSbWq4mZnLBQ8jpvy6/HQqKPdXNfOssP2/fcG5a7s/97MuJckY+5swFU3K/MJ8cy7l3FR+rtmk5+7np3Lx8ftH0Wa30HO1sLDd3fTBn1ypfKzatJzf+m3xRYjgnLhMXPkdu/deLv2UuN3nKrnzmKtsud/l9VyoVzPVU+6wYzMXkU4p+/fXX/EYrMZ+LnbLIY6rlPMfcyjEW+W+15+0Fwny3PmJnyuUUDo/nZuV+qo75bp0Z6l5Lbjgh99OGYj5ePvVaznDdSCvGfEf1oOa72rSYZlOYVlo7F+2G+zSO0AWlw+/bFhTbRVPJ6XI3Da0N5p0y/TQKrzL2xXpmEnN/6l045jHzbQ8KN83SiJ70ImgYH2PsGtwc98Hx1lD1mdvSIfguy07F+/ohCj2IwBBK2y4GbxW6jQx3Fga+pr52oeOzaOEzaz0IPpgvdH36fRK+YnflhwF4LhhbWJdFnyTFWhyPZoXv3GDpOOFwW927OG8F2Z988HxWOOfasQB8H/CoUq1lkb7mRf/pYqGkwfOuXZZpRLWRfqDUvbCV616iTSGNZEK5cLPWf5gXEa1ebQLT+wlEZVJX2Q03m8kgNRXAwDtOeEvjrCwYeM+OQpiXRepOOWDFIUup4MneTyG7X++iYYVp3zBGT9nR9JL+SANMh/vgzj9LF0H6D5nUVQTLiasRxNs9CCbk2C4RePYoV4CJREqpnFExQ7AHNkPXZBH0pprzXZvsezS4L4yiZ5ecqelVO3qOl0Pa9MP0ysaMPQqjt1MJSm9F4N4pfl/+QcC+38IL17XSb3a8O1QY36x5EDjjQH2mtaIXVn5prEY0O4ZkV3IN9rNhDB9kTqTamn0UkyldM7aL2iZ0UhnuYu/F0JUkxz5TncwidUsmdc3bgbshcT3ZimZ9+BSX3CJ6rtQkME2JIE6dX9f/VqOo0ArjLfWtcft2tFh74VfGgmofD8NTmlTBuNSM02ouBQoNb7gx8sMkJq/HMJNQBrnr0qLAkskFKoJltPsQuzGCnn3ynXfa0bW/kKzGMENwpwVmw/WiCY6zY+Izic91ZxZjh4wXk5knakW/Ao8i6Hu/W7YOWzF4PYLBvzfg3s+h/MM6q5n3Ctcmg8hJF/z5rKih/9thOF7NP0BUO+mUcuMLMH/ox8gxq7xRR1Q72b+UW7Kvx+B7uxWu8xEk87v1Jd4C8Dpb0XY0zPHPVAdZPRuWmPXeb3tFHX41WdhdWnKrDb2XmUOJNrsaBKYVrZ3LYP1oArFzxdZSwbDUjIa2KsFXNpNC4mYU0SsB+M/7MXC0A7b93SiHbE7D2p5696RysGyB79/9sL4if8wz3oWzWExKS6SxGzDaW6t3Hfkri/T9OKI3Iwh95Yf/dB+67a1wfKq89nX1fZfwRxTe97swmm9RtsLzYxC+Tj3gTSJxQ9+nq2y5pZVKX/bAfbFwfrSP9WPMUIBqL/O7cYKO5NcutG63oe8qL6yoju5HEFlk6azUpW64Pk+sfGgK0TpKXossMmFhCoH3XBj6hTmUaDOrQWCqBk6LMcHa6YTn1BgmknOIfekwBHrGpWa6YVGWZcn8pK8j2ozG7S1os3egw9mLgZMD8F+KlhdY1qnjUoXUnXLIin0uONorApCKdVfte5TuxxXdgD1vVswQ/LTQ1anl5UY0m23osHfBdWIAA5+NInxT3sWTlrW0y9M4hg7qi0PrP5jg/iGIkYPydU+SiN0uJBe23NKKPAqhvzjlvNaP4Gnl5ghRDTV1DmNeH1Lw5xym/1McKx/H6Dt9S6wlSVQD+lIcvxXnTJjG2OHyrdX4pwFE2WOS6sz6yQRm5wvzfswlxpRhWXF4v+GSW7T+4p+Ve4EatuKKH7RsGx+YqoGT4Px2plChGbYZxK6PY+SMG47XF0ZWhqVmDtlKwVf2lyE49st1RHW7HPCcC2Iifg+zc/cwdqiwO08Zl6rfObun3PW1fGA3dgEWjMFwD2x7lRDlbhzlTyRea4gG0wgft+e7OhXaNjSY3+/HWHgS06k5zF0fzO8tsKBt97PbSxNfqWNv9bt+LeVM/zdX+XPe6JVL5bTBrxxzWp50fLy8Vl/aj47/kcdY36xe+YAuDNffCvsLNwuI1llDQ+GmyEtNsHzog68zv1eIYPSqOjCCaGOZdqnT/Gnw/dsHx2uyPnzVAvdpn6gFi0aRuC+TRDVhguldmdRpPvjPOqDJLNq0zw3fmXIOxcVEaU4OItp8NjwwzSbVAK96N9ylGbvNlmf0FQHgufIak9rhIGaSExj5uAeOdrMolGaRVFo11XGp+pqoaiuu483KsLQiGN7XZugGbJghGFa0Ki24mArA813xUX1yoiTuhYbhPiQC2J1NmHukdjJxwFYaR7uYim7DyyJ+1+sySUSbXAoROfygw96Krq8ru+s2olG595V4yq5oVDtNr6p1tg2m12SyqKGRk8NRHTVBU2eK3i8CVZksanyFOZToebHhgWnyrjrFkLEb7rJUdJvt3lMsclJIXZZJwXXYCVN+Nl7pttqqWREQP0ygPHVRD9oWfKaKYPCgTWlRzSAZV8bMHrOVl2oR0iklaO10o+fvxtbU+A3leCxnaZeKv39Z3m1DK/ugEj0nGpG9Uxh+EL2ZRORKVJRAqlnMPpBJQXuJX26qnYY37fDItN5bJHan4sZIdl7pGqkBaj1MtOEa0La/nENxOYbppzItzT9VOu+KLMoSlNab9VRlT1C5/VAcikPLtcGBaVoEcUq3M6Ub7rIZZs+t7DZblvpDHTWQQugLr9KqaYdZuctrXBO11dAamlcRDBrHgaaQUB6zW5SW2Ep30spnEG/70wiGlWBaE8HyMzNsgx3D1TK7vs1Pol8+Te++Eivu5xdhVbT3xxce4+IW98ln6ZwI/lbYP1hck5Zo1TRYDjhkWrjmhffrBDJ/ifRfaUQ+9WCg1DVfg7u9Ykw70UZqssFxrFyjjB51I3Bb1reZJAJnvOU6WnPDygn4qMaarA54Sll0FO7jASTk8oCZuwF4T5evIrUjVkNjAhFtLhsbmGbvYVoNxErdcJfPsNSMZldaN80wH5FJIfwvN4auRBG9FsCA3QaX8nuBVjSXCq3F10QtqRhDarcoYV46hXtKtGlqapSpAs2stK6mveg/EUDkZhTh891o3S/XxpRsO5tlapXUoF38HSxsiZ5Ppvd98JVucqQR+kcbtr+8DdtebkbX5+Xu/9phP9wHeL+faqkJjpN+lEaapkPotWwvjL3f3ore0tAVwHHGDTuzJ9Xaqw70n1PWh/+uF23/W5gHYvve3vLcEXDAd5STGhJtZhsbmFasFVruhrtcSwWRorI87oNV/oR0BF5nBzoc+nqogLV94bjRAuP40motnkuOIdXMsCmtZIH3mgsVdLMXUb2H0z4XvOoshV/1osvege6TYaTareXPuw7UoH3Jllsi2twaLBj8fhzuJYY6aAeHEbnQs+Kbe0RrtrMHwbgPduUebSXrJ5MIfsjcSfVhOhxE7Kx9id5i+trvwSXLWCKqvw0NTI1rhS7eDXdxSweRDW8MInIniP6D5kJhJIJG+xEfgj8nEfuqWymgppF6IpPpFKaVGWutCyZjqgiGK8aQ6i21nqsxjBxzwKyUgKYPu2DL34bT4PwmgclzblhlAWhqd8Lz5QRmboQxcLiwTxd7uJY1CdXPqYljwwsCoufaTifGkrOY/NIDZ3vx+2yC9V0PRiIzSP7YD4thrWWi2mloH8TknWkE9VbRPbLyK9a58dl8UMCbo1Q/DfmbI8mfg/AdsZeuz7Q9drjPiKB1NibXfieizWxbTh8oR1va48eP8//v2LEj/z9RLTDfUT0w39FWwHxM9cB8R/Wg5rsNn5WXiIiIiIiIaCkMTImIiIiIiKiuGJgSERERERFRXTEwJSIiIiIiorpiYEpERERERER1xcCUiIiIiIiI6gj4/wFzb0sDfIyYWgAAAABJRU5ErkJggg==)"
      ],
      "metadata": {
        "id": "MJAb0LVF1Xh-"
      }
    },
    {
      "cell_type": "markdown",
      "source": [
        "Formule y resuelva un modelo de programación lineal que permita satisfacer las necesidades de todas las ciudades al tiempo que minimice los costos asociados al transporte."
      ],
      "metadata": {
        "id": "hsdMuBt4qZCr"
      }
    },
    {
      "cell_type": "markdown",
      "source": [
        "## Solución algebraica"
      ],
      "metadata": {
        "id": "EUrE8RBwzey5"
      }
    },
    {
      "cell_type": "code",
      "source": [
        "# Escriba aquí su código\n",
        "\n",
        "# Importar las librerías que se van a utilizar\n",
        "import cvxpy as cvx\n",
        "\n",
        "# Crear las variables a optimizar\n",
        "planta1Ba = cvx.Variable(nonneg = True)\n",
        "planta1Bo = cvx.Variable(nonneg = True)\n",
        "planta1Bu = cvx.Variable(nonneg = True)\n",
        "planta1Ca = cvx.Variable(nonneg = True)\n",
        "planta1Me = cvx.Variable(nonneg = True)\n",
        "planta1Fi = cvx.Variable(nonneg = True)\n",
        "planta2Ba = cvx.Variable(nonneg = True)\n",
        "planta2Bo = cvx.Variable(nonneg = True)\n",
        "planta2Bu = cvx.Variable(nonneg = True)\n",
        "planta2Ca = cvx.Variable(nonneg = True)\n",
        "planta2Me = cvx.Variable(nonneg = True)\n",
        "planta2Fi = cvx.Variable(nonneg = True)\n",
        "planta3Ba = cvx.Variable(nonneg = True)\n",
        "planta3Bo = cvx.Variable(nonneg = True)\n",
        "planta3Bu = cvx.Variable(nonneg = True)\n",
        "planta3Ca = cvx.Variable(nonneg = True)\n",
        "planta3Me = cvx.Variable(nonneg = True)\n",
        "planta3Fi = cvx.Variable(nonneg = True)\n",
        "planta4Ba = cvx.Variable(nonneg = True)\n",
        "planta4Bo = cvx.Variable(nonneg = True)\n",
        "planta4Bu = cvx.Variable(nonneg = True)\n",
        "planta4Ca = cvx.Variable(nonneg = True)\n",
        "planta4Me = cvx.Variable(nonneg = True)\n",
        "planta4Fi = cvx.Variable(nonneg = True)\n",
        "\n",
        "# Definir la función objetivo para minimizar el coste\n",
        "objGen = cvx.Minimize(5*planta1Ba + 2*planta1Bo + 7*planta1Bu + 6000*planta1Ca + 3*planta1Me + 0*planta1Fi\n",
        "                      + 3*planta2Ba + 6000*planta2Bo + 6*planta2Bu + 6*planta2Ca + 1*planta2Me + 0*planta2Fi\n",
        "                      + 6000*planta3Ba + 6*planta3Bo + 1*planta3Bu + 2*planta3Ca + 4*planta3Me + 0*planta3Fi\n",
        "                      + 4*planta4Ba + 3*planta4Bo + 6*planta4Bu + 6*planta4Ca + 6000*planta4Me + 0*planta4Fi)\n",
        "\n",
        "# Establecer las restricciones\n",
        "restGen = [\n",
        "# Oferta de planta 1\n",
        "planta1Ba + planta1Bo + planta1Bu + planta1Ca + planta1Me + planta1Fi == 120,\n",
        "\n",
        "# Oferta de planta 2\n",
        "planta2Ba + planta2Bo + planta2Bu + planta2Ca + planta2Me + planta2Fi == 150,\n",
        "\n",
        "# oferta de planta 3\n",
        "planta3Ba + planta3Bo + planta3Bu + planta3Ca + planta3Me + planta3Fi == 160,\n",
        "\n",
        "# Oferta de planta 4\n",
        "planta4Ba + planta4Bo + planta4Bu + planta4Ca + planta4Me + planta4Fi == 50,\n",
        "\n",
        "# Demanda Barranquilla\n",
        "planta1Ba + planta2Ba + planta3Ba + planta4Ba == 70,\n",
        "\n",
        "# Demanda Bogota\n",
        "planta1Bo + planta2Bo + planta3Bo + planta4Bo == 140,\n",
        "\n",
        "# Demanda Bucaramanga\n",
        "planta1Bu + planta2Bu + planta3Bu + planta4Bu == 50,\n",
        "\n",
        "# Demanda Cali\n",
        "planta1Ca + planta2Ca + planta3Ca + planta4Ca == 90,\n",
        "\n",
        "# Demanda Medellin\n",
        "planta1Me + planta2Me + planta3Me + planta4Me == 110,\n",
        "\n",
        "# Demanda Ficticia\n",
        "planta1Fi + planta2Fi + planta3Fi + planta4Fi == 20,\n",
        "\n",
        " ]\n",
        "\n",
        "# Configurar el problema\n",
        "probGen = cvx.Problem(objGen, restGen)\n",
        "\n",
        "# Obtener el valor óptimo\n",
        "probGen.solve()\n",
        "\n",
        "# Mostrar el estado de la solución y el valor óptimo de la función objetivo\n",
        "print(\"Estado de la solución:\", probGen.status,\n",
        "      \"      Valor mínimo:\", \"%.2f\"% probGen.value)\n",
        "\n",
        "# mostrar los valores óptimos de las variables de decisión\n",
        "print (\"             Valor óptimo de planta1Ba:\", \"%.2f\"% planta1Ba.value, \"\\n\",\n",
        "       \"             Valor óptimo de planta1Bo:\", \"%.2f\"% planta1Bo.value, \"\\n\",\n",
        "       \"             Valor óptimo de planta1Bu:\", \"%.2f\"% planta1Bu.value, \"\\n\",\n",
        "       \"             Valor óptimo de planta1Ca:\", \"%.2f\"% planta1Ca.value, \"\\n\",\n",
        "       \"             Valor óptimo de planta1Me:\", \"%.2f\"% planta1Me.value, \"\\n\",\n",
        "       \"             Valor óptimo de planta1Fi:\", \"%.2f\"% planta1Fi.value, \"\\n\\n\",\n",
        "       \"             Valor óptimo de planta2Ba:\", \"%.2f\"% planta2Ba.value, \"\\n\",\n",
        "       \"             Valor óptimo de planta2Bo:\", \"%.2f\"% planta2Bo.value, \"\\n\",\n",
        "       \"             Valor óptimo de planta2Bu:\", \"%.2f\"% planta2Bu.value, \"\\n\",\n",
        "       \"             Valor óptimo de planta2Ca:\", \"%.2f\"% planta2Ca.value, \"\\n\",\n",
        "       \"             Valor óptimo de planta2Me:\", \"%.2f\"% planta2Me.value, \"\\n\",\n",
        "       \"             Valor óptimo de planta2Fi:\", \"%.2f\"% planta2Fi.value, \"\\n\\n\",\n",
        "       \"             Valor óptimo de planta3Ba:\", \"%.2f\"% planta3Ba.value, \"\\n\",\n",
        "       \"             Valor óptimo de planta3Bo:\", \"%.2f\"% planta3Bo.value, \"\\n\",\n",
        "       \"             Valor óptimo de planta3Bu:\", \"%.2f\"% planta3Bu.value, \"\\n\",\n",
        "       \"             Valor óptimo de planta3Ca:\", \"%.2f\"% planta3Ca.value, \"\\n\",\n",
        "       \"             Valor óptimo de planta3Me:\", \"%.2f\"% planta3Me.value, \"\\n\",\n",
        "       \"             Valor óptimo de planta3Fi:\", \"%.2f\"% planta3Fi.value, \"\\n\\n\",\n",
        "       \"             Valor óptimo de planta4Ba:\", \"%.2f\"% planta4Ba.value, \"\\n\",\n",
        "       \"             Valor óptimo de planta4Bo:\", \"%.2f\"% planta4Bo.value, \"\\n\",\n",
        "       \"             Valor óptimo de planta4Bu:\", \"%.2f\"% planta4Bu.value, \"\\n\",\n",
        "       \"             Valor óptimo de planta4Ca:\", \"%.2f\"% planta4Ca.value, \"\\n\",\n",
        "       \"             Valor óptimo de planta4Me:\", \"%.2f\"% planta4Me.value, \"\\n\",\n",
        "       \"             Valor óptimo de planta4Fi:\", \"%.2f\"% planta4Fi.value, \"\\n\\n\")"
      ],
      "metadata": {
        "id": "KNhFuQVUziYb",
        "outputId": "92c80912-70f1-4067-9cd9-87c6483458c8",
        "colab": {
          "base_uri": "https://localhost:8080/"
        }
      },
      "execution_count": 2,
      "outputs": [
        {
          "output_type": "stream",
          "name": "stdout",
          "text": [
            "Estado de la solución: optimal       Valor mínimo: 880.00\n",
            "             Valor óptimo de planta1Ba: 0.00 \n",
            "              Valor óptimo de planta1Bo: 120.00 \n",
            "              Valor óptimo de planta1Bu: 0.00 \n",
            "              Valor óptimo de planta1Ca: 0.00 \n",
            "              Valor óptimo de planta1Me: 0.00 \n",
            "              Valor óptimo de planta1Fi: 0.00 \n",
            "\n",
            "              Valor óptimo de planta2Ba: 40.00 \n",
            "              Valor óptimo de planta2Bo: 0.00 \n",
            "              Valor óptimo de planta2Bu: 0.00 \n",
            "              Valor óptimo de planta2Ca: 0.00 \n",
            "              Valor óptimo de planta2Me: 110.00 \n",
            "              Valor óptimo de planta2Fi: 0.00 \n",
            "\n",
            "              Valor óptimo de planta3Ba: 0.00 \n",
            "              Valor óptimo de planta3Bo: 0.00 \n",
            "              Valor óptimo de planta3Bu: 50.00 \n",
            "              Valor óptimo de planta3Ca: 90.00 \n",
            "              Valor óptimo de planta3Me: 0.00 \n",
            "              Valor óptimo de planta3Fi: 20.00 \n",
            "\n",
            "              Valor óptimo de planta4Ba: 30.00 \n",
            "              Valor óptimo de planta4Bo: 20.00 \n",
            "              Valor óptimo de planta4Bu: 0.00 \n",
            "              Valor óptimo de planta4Ca: 0.00 \n",
            "              Valor óptimo de planta4Me: 0.00 \n",
            "              Valor óptimo de planta4Fi: 0.00 \n",
            "\n",
            "\n"
          ]
        }
      ]
    },
    {
      "cell_type": "markdown",
      "source": [
        "## Solución matricial\n"
      ],
      "metadata": {
        "id": "gyF22f31zr_X"
      }
    },
    {
      "cell_type": "code",
      "source": [
        "# Escriba aquí su código\n",
        "\n",
        "# Importar las librerías que se van a utilizar\n",
        "import numpy as np\n",
        "import cvxpy as cvx\n",
        "\n",
        "# arreglo X: variables de decisión\n",
        "# arreglo c: coeficientes de la función objetivo\n",
        "# arreglo A: coeficientes técnicos\n",
        "# arreglo b: restricciones\n",
        "\n",
        "# Crear las variables a optimizar\n",
        "plantas0 = cvx.Variable((24, 1), nonneg = True)\n",
        "\n",
        "# Crear el arreglo de los coeficientes de la función objetivo\n",
        "c0 = np.array([[5, 2, 7, 6000, 3, 0, 3, 6000, 6, 6, 1, 0, 6000, 6, 1, 2, 4, 0, 4, 3, 6, 6, 6000, 0]])\n",
        "\n",
        "# Definir la función objetivo para minimizar el coste\n",
        "obj0 = cvx.Minimize(c0 @ plantas0)\n",
        "\n",
        "# Crear el arreglo de los coeficientes técnicos\n",
        "a0 = np.array([\n",
        "[1, 1, 1, 1, 1, 1, 0, 0, 0, 0, 0, 0, 0, 0, 0, 0, 0, 0, 0, 0, 0, 0, 0, 0],\n",
        "[0, 0, 0, 0, 0, 0, 1, 1, 1, 1, 1, 1, 0, 0, 0, 0, 0, 0, 0, 0, 0, 0, 0, 0],\n",
        "[0, 0, 0, 0, 0, 0, 0, 0, 0, 0, 0, 0, 1, 1, 1, 1, 1, 1, 0, 0, 0, 0, 0, 0],\n",
        "[0, 0, 0, 0, 0, 0, 0, 0, 0, 0, 0, 0, 0, 0, 0, 0, 0, 0, 1, 1, 1, 1, 1, 1],\n",
        "\n",
        "[1, 0, 0, 0, 0, 0, 1, 0, 0, 0, 0, 0, 1, 0, 0, 0, 0, 0, 1, 0, 0, 0, 0, 0],\n",
        "[0, 1, 0, 0, 0, 0, 0, 1, 0, 0, 0, 0, 0, 1, 0, 0, 0, 0, 0, 1, 0, 0, 0, 0],\n",
        "[0, 0, 1, 0, 0, 0, 0, 0, 1, 0, 0, 0, 0, 0, 1, 0, 0, 0, 0, 0, 1, 0, 0, 0],\n",
        "[0, 0, 0, 1, 0, 0, 0, 0, 0, 1, 0, 0, 0, 0, 0, 1, 0, 0, 0, 0, 0, 1, 0, 0],\n",
        "[0, 0, 0, 0, 1, 0, 0, 0, 0, 0, 1, 0, 0, 0, 0, 0, 1, 0, 0, 0, 0, 0, 1, 0],\n",
        "[0, 0, 0, 0, 0, 1, 0, 0, 0, 0, 0, 1, 0, 0, 0, 0, 0, 1, 0, 0, 0, 0, 0, 1]\n",
        "])\n",
        "\n",
        "# Crear las restricciones\n",
        "b0 = np.array([120, 150, 160, 50,  70, 140, 50, 90, 110, 20]).reshape(10, 1)\n",
        "\n",
        "# Crear las restricciones\n",
        "rest0 = [a0 @ plantas0 == b0]\n",
        "\n",
        "# Configurar el problema\n",
        "prob0 = cvx.Problem(obj0, rest0)\n",
        "\n",
        "# Obtener el valor óptimo\n",
        "prob0.solve()\n",
        "\n",
        "# Mostrar el estado de la solución y el valor óptimo de la función objetivo\n",
        "print(\"Estado de la solución:\", prob0.status,\n",
        "      \"      Valor mínimo:\", \"%.2f\"% prob0.value)\n",
        "\n",
        "# Configurar la impresión sin decimales\n",
        "np.set_printoptions(precision=2, suppress=True)\n",
        "\n",
        "# Crear un arreglo de NumPy con los valores óptimos\n",
        "resultados = np.array([plantas0.value]).reshape((4, 6))\n",
        "\n",
        "# mostrar los valores óptimos de las variables de decisión\n",
        "print(resultados)"
      ],
      "metadata": {
        "id": "YCufZuLdzy5d",
        "outputId": "a7f923c4-efa0-4c58-d33a-c33a346465a4",
        "colab": {
          "base_uri": "https://localhost:8080/"
        }
      },
      "execution_count": 4,
      "outputs": [
        {
          "output_type": "stream",
          "name": "stdout",
          "text": [
            "Estado de la solución: optimal       Valor mínimo: 880.00\n",
            "[[  0. 120.   0.   0.   0.   0.]\n",
            " [ 40.   0.   0.   0. 110.   0.]\n",
            " [  0.   0.  50.  90.   0.  20.]\n",
            " [ 30.  20.   0.   0.   0.   0.]]\n"
          ]
        }
      ]
    }
  ]
}