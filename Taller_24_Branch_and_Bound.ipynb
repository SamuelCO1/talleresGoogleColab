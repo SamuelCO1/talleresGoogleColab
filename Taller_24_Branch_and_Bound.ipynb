{
  "nbformat": 4,
  "nbformat_minor": 0,
  "metadata": {
    "colab": {
      "provenance": [],
      "toc_visible": true,
      "include_colab_link": true
    },
    "kernelspec": {
      "name": "python3",
      "display_name": "Python 3"
    },
    "language_info": {
      "name": "python"
    }
  },
  "cells": [
    {
      "cell_type": "markdown",
      "metadata": {
        "id": "view-in-github",
        "colab_type": "text"
      },
      "source": [
        "<a href=\"https://colab.research.google.com/github/SamuelCO1/talleresGoogleColab/blob/main/Taller_24_Branch_and_Bound.ipynb\" target=\"_parent\"><img src=\"https://colab.research.google.com/assets/colab-badge.svg\" alt=\"Open In Colab\"/></a>"
      ]
    },
    {
      "cell_type": "markdown",
      "source": [
        "## «*Dices que cada nueva mañana nos trae mil rosas sí, pero, ¿dónde están los pétalos de la rosa de ayer?*»\n",
        "### [Omar Khayyam](https://es.wikipedia.org/wiki/Omar_Jayam)"
      ],
      "metadata": {
        "id": "VLMDjD3tAVeA"
      }
    },
    {
      "cell_type": "markdown",
      "source": [
        "# Taller 24 Branch and Bound\n",
        "\n"
      ],
      "metadata": {
        "id": "bx-omGjwAXa3"
      }
    },
    {
      "metadata": {
        "id": "eSNwg7sahcHz"
      },
      "cell_type": "markdown",
      "source": [
        "# Branch and Bound\n",
        "\n",
        "Ejemplo de la solución  paso a paso de un problema de programación entera utilizando la heurística Branch and Bound."
      ]
    },
    {
      "metadata": {
        "id": "8CjzKIJR41ww"
      },
      "cell_type": "markdown",
      "source": [
        "## Problema inicial: problema00\n",
        "\n",
        "Max Z = 8\\* x + 5\\* y\n",
        "\n",
        "   x   +   y    <=  6\n",
        "   \n",
        "   9 \\* x       + 5\\* y        < =  45\n",
        "\n",
        "   x   > = 0      \n",
        "\n",
        "   y   >=  0\n",
        "\n",
        "**x, y enteros**\n"
      ]
    },
    {
      "metadata": {
        "id": "dckEhC5G42Zl",
        "outputId": "925591f2-ce0c-4f9f-9e42-6030ee3a8ffc",
        "colab": {
          "base_uri": "https://localhost:8080/"
        }
      },
      "cell_type": "code",
      "source": [
        "# Importar la librería que se va a utilizar\n",
        "import cvxpy as cvx\n",
        "\n",
        "# Crear las variables a optimizar\n",
        "x = cvx.Variable()\n",
        "y = cvx.Variable()\n",
        "\n",
        "# Definir la función objetivo para maximizar el ingreso\n",
        "obj = cvx.Maximize(8*x + 5*y)\n",
        "\n",
        "# Establecer las restricciones\n",
        "restricciones00 = [\n",
        "\n",
        "# Primera restricción\n",
        "x + y <= 6,\n",
        "\n",
        "# Segunda restricción\n",
        "9*x + 5*y <= 45,\n",
        "\n",
        "# Restricciones de no negatividad\n",
        "x >= 0,\n",
        "y >= 0\n",
        "]\n",
        "\n",
        "# Configurar el problema\n",
        "prob00 = cvx.Problem(obj, restricciones00)\n",
        "\n",
        "# Obtener el valor óptimo\n",
        "prob00.solve()\n",
        "\n",
        "# Mostrar el estado de la solución y el valor óptimo de la función objetivo\n",
        "print(\"Estado de la solución:\", prob00.status)\n",
        "print(\"Valor máximo:\", \"%.2f\"% prob00.value)\n",
        "\n",
        "# Mostrar los valores óptimos de las variables de decisión\n",
        "print (\"Valor óptimo de x:\", \"%.2f\"% x.value)\n",
        "print(\"Valor óptimo de y:\", \"%.2f\"% y.value)"
      ],
      "execution_count": 2,
      "outputs": [
        {
          "output_type": "stream",
          "name": "stdout",
          "text": [
            "Estado de la solución: optimal\n",
            "Valor máximo: 41.25\n",
            "Valor óptimo de x: 3.75\n",
            "Valor óptimo de y: 2.25\n"
          ]
        }
      ]
    },
    {
      "metadata": {
        "id": "o514QsKI42Zj"
      },
      "cell_type": "markdown",
      "source": [
        "## subproblema01\n",
        "\n",
        "Max Z = 8\\* x + 5\\* y\n",
        "\n",
        "   x   +   y    <=  6\n",
        "   \n",
        "   9 \\* x       + 5\\* y        < =  45\n",
        "   \n",
        "   **x <= 3**\n",
        "\n",
        "   x   > = 0      \n",
        "\n",
        "   y   >=  0\n",
        "\n",
        "**x, y enteros**\n"
      ]
    },
    {
      "metadata": {
        "id": "3zMLv2FPAEh7",
        "outputId": "4eaff026-ee06-4650-942e-818724a2221e",
        "colab": {
          "base_uri": "https://localhost:8080/"
        }
      },
      "cell_type": "code",
      "source": [
        "# Importar la librería que se va a utilizar\n",
        "import cvxpy as cvx\n",
        "\n",
        "# Crear las variables a optimizar\n",
        "x = cvx.Variable()\n",
        "y = cvx.Variable()\n",
        "\n",
        "# Definir la función objetivo para maximizar el ingreso\n",
        "obj = cvx.Maximize(8*x + 5*y)\n",
        "\n",
        "# Establecer las restricciones\n",
        "restricciones01 = [\n",
        "\n",
        "# Primera restricción\n",
        "x + y <= 6,\n",
        "\n",
        "# Segunda restricción\n",
        "9*x + 5*y <= 45,\n",
        "\n",
        "# Restricciones subproblemas\n",
        "x <= 3,\n",
        "\n",
        "# Restricciones de no negatividad\n",
        "x >= 0,\n",
        "y >= 0\n",
        "]\n",
        "\n",
        "# Configurar el problema\n",
        "prob01 = cvx.Problem(obj, restricciones01)\n",
        "\n",
        "# Obtener el valor óptimo\n",
        "prob01.solve()\n",
        "\n",
        "# Mostrar el estado de la solución y el valor óptimo de la función objetivo\n",
        "print(\"Estado de la solución:\", prob01.status)\n",
        "print(\"Valor máximo:\", \"%.2f\"% prob01.value)\n",
        "\n",
        "# Mostrar los valores óptimos de las variables de decisión\n",
        "print (\"Valor óptimo de x:\", \"%.2f\"% x.value)\n",
        "print(\"Valor óptimo de y:\", \"%.2f\"% y.value)"
      ],
      "execution_count": 3,
      "outputs": [
        {
          "output_type": "stream",
          "name": "stdout",
          "text": [
            "Estado de la solución: optimal\n",
            "Valor máximo: 39.00\n",
            "Valor óptimo de x: 3.00\n",
            "Valor óptimo de y: 3.00\n"
          ]
        }
      ]
    },
    {
      "metadata": {
        "id": "I0-WTP1R-VRn"
      },
      "cell_type": "markdown",
      "source": [
        "## subproblema02\n",
        "\n",
        "Max Z = 8\\* x + 5\\* y\n",
        "\n",
        "   x   +   y    <=  6\n",
        "   \n",
        "   9 \\* x       + 5\\* y        < =  45\n",
        "\n",
        "   **x >= 4**      \n",
        "\n",
        "   y   >=  0\n",
        "\n",
        "**x, y enteros**\n"
      ]
    },
    {
      "metadata": {
        "id": "ahtSo8F2-VRq",
        "outputId": "436624f0-3d4e-4dcd-c6bc-0a743d07d6a3",
        "colab": {
          "base_uri": "https://localhost:8080/"
        }
      },
      "cell_type": "code",
      "source": [
        "# Importar la librería que se va a utilizar\n",
        "import cvxpy as cvx\n",
        "\n",
        "# Crear las variables a optimizar\n",
        "x = cvx.Variable()\n",
        "y = cvx.Variable()\n",
        "\n",
        "# Definir la función objetivo para maximizar el ingreso\n",
        "obj = cvx.Maximize(8*x + 5*y)\n",
        "\n",
        "# Establecer las restricciones\n",
        "restricciones02 = [\n",
        "\n",
        "# Primera restricción\n",
        "x + y <= 6,\n",
        "\n",
        "# Segunda restricción\n",
        "9*x + 5*y <= 45,\n",
        "\n",
        "# Restricciones subproblemas\n",
        "x >= 4,\n",
        "\n",
        "# Restricciones de no negatividad\n",
        "y >= 0\n",
        "]\n",
        "\n",
        "# Configurar el problema\n",
        "prob02 = cvx.Problem(obj, restricciones02)\n",
        "\n",
        "# Obtener el valor óptimo\n",
        "prob02.solve()\n",
        "\n",
        "# Mostrar el estado de la solución y el valor óptimo de la función objetivo\n",
        "print(\"Estado de la solución:\", prob02.status)\n",
        "print(\"Valor máximo:\", \"%.2f\"% prob02.value)\n",
        "\n",
        "# Mostrar los valores óptimos de las variables de decisión\n",
        "print (\"Valor óptimo de x:\", \"%.2f\"% x.value)\n",
        "print(\"Valor óptimo de y:\", \"%.2f\"% y.value)"
      ],
      "execution_count": 4,
      "outputs": [
        {
          "output_type": "stream",
          "name": "stdout",
          "text": [
            "Estado de la solución: optimal\n",
            "Valor máximo: 41.00\n",
            "Valor óptimo de x: 4.00\n",
            "Valor óptimo de y: 1.80\n"
          ]
        }
      ]
    },
    {
      "metadata": {
        "id": "W6AYK5EKu6Iq"
      },
      "cell_type": "markdown",
      "source": [
        "## subproblema03\n",
        "\n",
        "Max Z = 8\\* x + 5\\* y\n",
        "\n",
        "   x   +   y    <=  6\n",
        "   \n",
        "   9 \\* x       + 5\\* y        < =  45\n",
        "\n",
        "   **x >= 4**      \n",
        "\n",
        "  **y >= 2**\n",
        "\n",
        "**x, y enteros**\n"
      ]
    },
    {
      "metadata": {
        "id": "MMSmVuNCpwRI",
        "outputId": "f1665e08-cea2-4327-d674-9725775778f9",
        "colab": {
          "base_uri": "https://localhost:8080/",
          "height": 228
        }
      },
      "cell_type": "code",
      "source": [
        "# Importar la librería que se va a utilizar\n",
        "import cvxpy as cvx\n",
        "\n",
        "# Crear las variables a optimizar\n",
        "x = cvx.Variable()\n",
        "y = cvx.Variable()\n",
        "\n",
        "# Definir la función objetivo para maximizar el ingreso\n",
        "obj = cvx.Maximize(8*x + 5*y)\n",
        "\n",
        "# Establecer las restricciones\n",
        "restricciones03 = [\n",
        "\n",
        "# Primera restricción\n",
        "x + y <= 6,\n",
        "\n",
        "# Segunda restricción\n",
        "9*x + 5*y <= 45,\n",
        "\n",
        "# Restricciones subproblemas\n",
        "x >= 4,\n",
        "y >= 2\n",
        "\n",
        "# Restricciones de no negatividad\n",
        "\n",
        "]\n",
        "\n",
        "# Configurar el problema\n",
        "prob03 = cvx.Problem(obj, restricciones03)\n",
        "\n",
        "# Obtener el valor óptimo\n",
        "prob03.solve()\n",
        "\n",
        "# Mostrar el estado de la solución y el valor óptimo de la función objetivo\n",
        "print(\"Estado de la solución:\", prob03.status)\n",
        "print(\"Valor máximo:\", \"%.2f\"% prob03.value)\n",
        "\n",
        "# Mostrar los valores óptimos de las variables de decisión\n",
        "print (\"Valor óptimo de x:\", \"%.2f\"% x.value)\n",
        "print(\"Valor óptimo de y:\", \"%.2f\"% y.value)"
      ],
      "execution_count": 5,
      "outputs": [
        {
          "output_type": "stream",
          "name": "stdout",
          "text": [
            "Estado de la solución: infeasible\n",
            "Valor máximo: -inf\n"
          ]
        },
        {
          "output_type": "error",
          "ename": "TypeError",
          "evalue": "must be real number, not NoneType",
          "traceback": [
            "\u001b[0;31m---------------------------------------------------------------------------\u001b[0m",
            "\u001b[0;31mTypeError\u001b[0m                                 Traceback (most recent call last)",
            "\u001b[0;32m<ipython-input-5-bbd9047040f7>\u001b[0m in \u001b[0;36m<cell line: 39>\u001b[0;34m()\u001b[0m\n\u001b[1;32m     37\u001b[0m \u001b[0;34m\u001b[0m\u001b[0m\n\u001b[1;32m     38\u001b[0m \u001b[0;31m# Mostrar los valores óptimos de las variables de decisión\u001b[0m\u001b[0;34m\u001b[0m\u001b[0;34m\u001b[0m\u001b[0m\n\u001b[0;32m---> 39\u001b[0;31m \u001b[0mprint\u001b[0m \u001b[0;34m(\u001b[0m\u001b[0;34m\"Valor óptimo de x:\"\u001b[0m\u001b[0;34m,\u001b[0m \u001b[0;34m\"%.2f\"\u001b[0m\u001b[0;34m%\u001b[0m \u001b[0mx\u001b[0m\u001b[0;34m.\u001b[0m\u001b[0mvalue\u001b[0m\u001b[0;34m)\u001b[0m\u001b[0;34m\u001b[0m\u001b[0;34m\u001b[0m\u001b[0m\n\u001b[0m\u001b[1;32m     40\u001b[0m \u001b[0mprint\u001b[0m\u001b[0;34m(\u001b[0m\u001b[0;34m\"Valor óptimo de y:\"\u001b[0m\u001b[0;34m,\u001b[0m \u001b[0;34m\"%.2f\"\u001b[0m\u001b[0;34m%\u001b[0m \u001b[0my\u001b[0m\u001b[0;34m.\u001b[0m\u001b[0mvalue\u001b[0m\u001b[0;34m)\u001b[0m\u001b[0;34m\u001b[0m\u001b[0;34m\u001b[0m\u001b[0m\n",
            "\u001b[0;31mTypeError\u001b[0m: must be real number, not NoneType"
          ]
        }
      ]
    },
    {
      "metadata": {
        "id": "j7qv3hapAEht"
      },
      "cell_type": "markdown",
      "source": [
        "## subproblema04\n",
        "\n",
        "Max Z = 8\\* x + 5\\* y\n",
        "\n",
        "   x   +   y    <=  6\n",
        "   \n",
        "   9 \\* x       + 5\\* y        < =  45\n",
        "\n",
        "   **x >= 4**      \n",
        "   \n",
        "   **y <= 1**\n",
        "\n",
        "   y   >=  0\n",
        "\n",
        "**x, y enteros**\n"
      ]
    },
    {
      "metadata": {
        "id": "d09TUiV5AEh0",
        "outputId": "1cbf5df8-b68b-4ff0-8a95-a5648a91534e",
        "colab": {
          "base_uri": "https://localhost:8080/"
        }
      },
      "cell_type": "code",
      "source": [
        "# Importar la librería que se va a utilizar\n",
        "import cvxpy as cvx\n",
        "\n",
        "# Crear las variables a optimizar\n",
        "x = cvx.Variable()\n",
        "y = cvx.Variable()\n",
        "\n",
        "# Definir la función objetivo para maximizar el ingreso\n",
        "obj = cvx.Maximize(8*x + 5*y)\n",
        "\n",
        "# Establecer las restricciones\n",
        "restricciones04 = [\n",
        "\n",
        "# Primera restricción\n",
        "x + y <= 6,\n",
        "\n",
        "# Segunda restricción\n",
        "9*x + 5*y <= 45,\n",
        "\n",
        "# Restricciones subproblemas\n",
        "x >= 4,\n",
        "y <= 1,\n",
        "\n",
        "# Restricciones de no negatividad\n",
        "y >= 0\n",
        "]\n",
        "\n",
        "# Configurar el problema\n",
        "prob04 = cvx.Problem(obj, restricciones04)\n",
        "\n",
        "# Obtener el valor óptimo\n",
        "prob04.solve()\n",
        "\n",
        "# Mostrar el estado de la solución y el valor óptimo de la función objetivo\n",
        "print(\"Estado de la solución:\", prob04.status)\n",
        "print(\"Valor máximo:\", \"%.2f\"% prob04.value)\n",
        "\n",
        "# Mostrar los valores óptimos de las variables de decisión\n",
        "print (\"Valor óptimo de x:\", \"%.2f\"% x.value)\n",
        "print(\"Valor óptimo de y:\", \"%.2f\"% y.value)"
      ],
      "execution_count": 6,
      "outputs": [
        {
          "output_type": "stream",
          "name": "stdout",
          "text": [
            "Estado de la solución: optimal\n",
            "Valor máximo: 40.56\n",
            "Valor óptimo de x: 4.44\n",
            "Valor óptimo de y: 1.00\n"
          ]
        }
      ]
    },
    {
      "metadata": {
        "id": "KXEnpFs5F7CO"
      },
      "cell_type": "markdown",
      "source": [
        "## subproblema05\n",
        "\n",
        "Max Z = 8\\* x + 5\\* y\n",
        "\n",
        "   x   +   y    <=  6\n",
        "   \n",
        "   9 \\* x       + 5\\* y        < =  45\n",
        "\n",
        "   **x >= 5**      \n",
        "   \n",
        "   **y <= 1**\n",
        "\n",
        "   y   >=  0\n",
        "\n",
        "**x, y enteros**\n"
      ]
    },
    {
      "metadata": {
        "id": "DQ_yvjHcF7CR",
        "outputId": "03a6a8b5-ed92-45dc-b34d-8974ff56238b",
        "colab": {
          "base_uri": "https://localhost:8080/"
        }
      },
      "cell_type": "code",
      "source": [
        "# Importar la librería que se va a utilizar\n",
        "import cvxpy as cvx\n",
        "\n",
        "# Crear las variables a optimizar\n",
        "x = cvx.Variable()\n",
        "y = cvx.Variable()\n",
        "\n",
        "# Definir la función objetivo para maximizar el ingreso\n",
        "obj = cvx.Maximize(8*x + 5*y)\n",
        "\n",
        "# Establecer las restricciones\n",
        "restricciones05 = [\n",
        "\n",
        "# Primera restricción\n",
        "x + y <= 6,\n",
        "\n",
        "# Segunda restricción\n",
        "9*x + 5*y <= 45,\n",
        "\n",
        "# Restricciones subproblemas\n",
        "x >= 5,\n",
        "y <= 1,\n",
        "\n",
        "# Restricciones de no negatividad\n",
        "y >= 0\n",
        "]\n",
        "\n",
        "# Configurar el problema\n",
        "prob05 = cvx.Problem(obj, restricciones05)\n",
        "\n",
        "# Obtener el valor óptimo\n",
        "prob05.solve()\n",
        "\n",
        "# Mostrar el estado de la solución y el valor óptimo de la función objetivo\n",
        "print(\"Estado de la solución:\", prob05.status)\n",
        "print(\"Valor máximo:\", \"%.2f\"% prob05.value)\n",
        "\n",
        "# Mostrar los valores óptimos de las variables de decisión\n",
        "print (\"Valor óptimo de x:\", \"%.2f\"% x.value)\n",
        "print(\"Valor óptimo de y:\", \"%.2f\"% y.value)"
      ],
      "execution_count": 7,
      "outputs": [
        {
          "output_type": "stream",
          "name": "stdout",
          "text": [
            "Estado de la solución: optimal\n",
            "Valor máximo: 40.00\n",
            "Valor óptimo de x: 5.00\n",
            "Valor óptimo de y: 0.00\n"
          ]
        }
      ]
    },
    {
      "metadata": {
        "id": "MBc9HTlxG6Yy"
      },
      "cell_type": "markdown",
      "source": [
        "## subproblema06\n",
        "\n",
        "Max Z = 8\\* x + 5\\* y\n",
        "\n",
        "   x   +   y    <=  6\n",
        "   \n",
        "   9 \\* x       + 5\\* y        < =  45\n",
        "\n",
        "   **x >= 4**      \n",
        "   \n",
        "   **x <= 4**\n",
        "   \n",
        "   **y <= 1**\n",
        "\n",
        "   y   >=  0\n",
        "\n",
        "**x, y enteros**\n"
      ]
    },
    {
      "metadata": {
        "id": "0OCj9mabG6Y1",
        "outputId": "3c4d6b4a-8912-4c37-eb5d-db9a545c385e",
        "colab": {
          "base_uri": "https://localhost:8080/"
        }
      },
      "cell_type": "code",
      "source": [
        "# Importar la librería que se va a utilizar\n",
        "import cvxpy as cvx\n",
        "\n",
        "# Crear la variable a optimizar\n",
        "x = cvx.Variable()\n",
        "y = cvx.Variable()\n",
        "\n",
        "# Definir la función objetivo para maximizar el ingreso\n",
        "obj = cvx.Maximize(8*x + 5*y)\n",
        "\n",
        "# Establecer las restricciones\n",
        "restricciones06 = [\n",
        "\n",
        "# Primera restricción\n",
        "x + y <= 6,\n",
        "\n",
        "# Segunda restricción\n",
        "9*x + 5*y <= 45,\n",
        "\n",
        "# Restricciones subproblemas\n",
        "x >= 4,\n",
        "x <=4,\n",
        "y <= 1,\n",
        "\n",
        "# Restricciones de no negatividad\n",
        "y >= 0\n",
        "]\n",
        "\n",
        "# Configurar el problema\n",
        "prob06 = cvx.Problem(obj, restricciones06)\n",
        "\n",
        "# Obtener el valor óptimo\n",
        "prob06.solve()\n",
        "\n",
        "# Mostrar el estado de la solución y el valor óptimo de la función objetivo\n",
        "print(\"Estado de la solución:\", prob06.status)\n",
        "print(\"Valor máximo:\", \"%.2f\"% prob06.value)\n",
        "\n",
        "# Mostrar los valores óptimos de las variables de decisión\n",
        "print (\"Valor óptimo de x:\", \"%.2f\"% x.value)\n",
        "print(\"Valor óptimo de y:\", \"%.2f\"% y.value)"
      ],
      "execution_count": 9,
      "outputs": [
        {
          "output_type": "stream",
          "name": "stdout",
          "text": [
            "Estado de la solución: optimal\n",
            "Valor máximo: 37.00\n",
            "Valor óptimo de x: 4.00\n",
            "Valor óptimo de y: 1.00\n"
          ]
        }
      ]
    },
    {
      "cell_type": "markdown",
      "source": [
        "# Resumen del Branch and Bound\n",
        "## Problema inicial: problema00\n",
        "Restricciones: x>=0; y>=0     \n",
        "\n",
        "Resultados: valor óptimo: 41.25; x.value = 3.75; y.value = 2.25\n",
        "\n",
        "## subproblema01\n",
        "Restricciones: x>=0; **x<=3**; y>=0     \n",
        "\n",
        "Resultados: valor óptimo: 39.00; **x.value = 3.00**; **y.value = 3.00**\n",
        "\n",
        "## subproblema02\n",
        "Restricciones: **x>=4**; y>=0     \n",
        "\n",
        "Resultados: valor óptimo: 41.00; x.value = 4.00; y.value = 1.80\n",
        "\n",
        "## subproblema03\n",
        "Restricciones: **x>=4**; **y >=2**     \n",
        "\n",
        "Resultados: valor óptimo: infeasible; x.value = ???; y.value = ???\n",
        "\n",
        "## subproblema04\n",
        "Restricciones: **x>=4**; y>=0; **y <=1**     \n",
        "\n",
        "Resultados: valor óptimo: 40.56; x.value = 4.44; y.value = 1.00\n",
        "\n",
        "## subproblema05\n",
        "Restricciones: **x>=5**; y>=0; **y <=1**\n",
        "\n",
        "Resultados: valor óptimo: 40.00; **x.value = 5.00; y.value = 0.00**\n",
        "\n",
        "## subproblema06\n",
        "Restricciones: **x>=4**; **x<=4**; y>=0; **y <=1**     \n",
        "\n",
        "Resultados: valor óptimo: 37.00; **x.value = 4.0; y.value = 1.0**"
      ],
      "metadata": {
        "id": "qF3dsXtCa8LB"
      }
    },
    {
      "cell_type": "markdown",
      "source": [
        "# Análisis de los resultados del Branch and Bound\n",
        "\n",
        "Los subproblemas 01, 05 y 06 tienen una solución óptima factible (soluciones enteras).\n",
        "\n",
        "## subproblema01\n",
        "Restricciones: x>=0; **x<=3**; y>=0\n",
        "\n",
        "Resultados: **valor óptimo: 39.00; x.value = 3.00; y.value = 3.00**\n",
        "\n",
        "## subproblema05\n",
        "Restricciones: **x>=5**; y>=0; **y <=1**\n",
        "\n",
        "Resultados: **valor óptimo: 40.00; x.value = 4.0; y.value = 1.0**\n",
        "\n",
        "## subproblema06\n",
        "Restricciones: x>=4; x<=4; y>=0; y <=1\n",
        "\n",
        "Resultados: **valor óptimo: 37.00; x.value = 4.0; y.value = 1.0**\n",
        "\n",
        "Se selecciona como solución optima la del subproblema 05, ya que satisface las restricciones de enteros y genera el mayor valor óptimo.\n"
      ],
      "metadata": {
        "id": "iM5ZOoR6dHBe"
      }
    },
    {
      "metadata": {
        "id": "39n80aHZ75WO"
      },
      "cell_type": "markdown",
      "source": [
        "# Problema inicial: problema00 resuelto directamente por CVXPY\n",
        "\n",
        "Max Z = 8\\* x + 5\\* y\n",
        "\n",
        "   x   +   y    <=  6\n",
        "   \n",
        "   9 \\* x       + 5\\* y        < =  45\n",
        "\n",
        "   x   > = 0      \n",
        "\n",
        "   y   >=  0\n",
        "\n",
        "**x, y enteros**\n"
      ]
    },
    {
      "metadata": {
        "id": "EPmwVAHU75WO",
        "outputId": "dc9169c4-e210-4851-8b2c-a4c662fe3fc4",
        "colab": {
          "base_uri": "https://localhost:8080/"
        }
      },
      "cell_type": "code",
      "source": [
        "# Importar la librería que se va a utilizar\n",
        "import cvxpy as cvx\n",
        "\n",
        "# Crear las variables a optimizar y establecerlas como enteros\n",
        "x = cvx.Variable(integer=True)\n",
        "y = cvx.Variable(integer=True)\n",
        "\n",
        "# Definir la función objetivo para maximizar el ingreso\n",
        "obj = cvx.Maximize(8*x + 5*y)\n",
        "\n",
        "# Establecer las restricciones\n",
        "restricciones_int = [\n",
        "\n",
        "# Primera restricción\n",
        "x + y <= 6,\n",
        "\n",
        "# Segunda restricción\n",
        "9*x + 5*y <= 45,\n",
        "\n",
        "# Restricciones de no negatividad\n",
        "x >= 0,\n",
        "y >= 0\n",
        "]\n",
        "\n",
        "# Configurar el problema\n",
        "prob_int = cvx.Problem(obj, restricciones_int)\n",
        "\n",
        "# Obtener el valor óptimo\n",
        "prob_int.solve()\n",
        "\n",
        "# Mostrar el estado de la solución y el valor óptimo de la función objetivo\n",
        "print(\"Estado de la solución:\", prob_int.status)\n",
        "print(\"Valor máximo:\", \"%.2f\"% prob_int.value)\n",
        "\n",
        "# Mostrar los valores óptimos de las variables de decisión\n",
        "print (\"Valor óptimo de x:\", \"%.2f\"% x.value)\n",
        "print(\"Valor óptimo de y:\", \"%.2f\"% y.value, \"\\n\")\n",
        "\n",
        "# Soluciones con ECOS_BB\n",
        "print (\"Soluciones con ECOS_BB\")\n",
        "\n",
        "# Resolver con ECOS_bb\n",
        "prob_int.solve(solver=cvx.ECOS_BB, mi_max_iters = 1000,\n",
        "               mi_abs_eps= 1e-6, mi_rel_eps = 1e-3, verbose = True)\n",
        "\n",
        "# prob_int.solve(solver=cvx.ECOS_BB, mi_max_iters = 1000,\n",
        "#               mi_abs_eps= 1e-6, mi_rel_eps = 1e-3)\n",
        "\n",
        "# Mostrar el estado de la solución  con ECOS_BB\n",
        "print(\"Estado de la solución con ECOS_BB:\", prob_int.status)\n",
        "\n",
        "print(\"Valor óptimo de la función objetivo con ECOS_BB:\", prob_int.value)\n",
        "\n",
        "# Mostrar los valores óptimos de las variables de decisión con ECOS_BB\n",
        "print(\"Valores óptimos de las variables de decisión con ECOS_BB:\",\n",
        "      x.value, y.value, \"\\n\")"
      ],
      "execution_count": 8,
      "outputs": [
        {
          "output_type": "stream",
          "name": "stdout",
          "text": [
            "Estado de la solución: optimal\n",
            "Valor máximo: 40.00\n",
            "Valor óptimo de x: 5.00\n",
            "Valor óptimo de y: 0.00 \n",
            "\n",
            "Soluciones con ECOS_BB\n",
            "===============================================================================\n",
            "                                     CVXPY                                     \n",
            "                                     v1.3.3                                    \n",
            "===============================================================================\n",
            "(CVXPY) Mar 19 01:33:47 PM: Your problem has 2 variables, 4 constraints, and 0 parameters.\n",
            "(CVXPY) Mar 19 01:33:47 PM: It is compliant with the following grammars: DCP, DQCP\n",
            "(CVXPY) Mar 19 01:33:47 PM: (If you need to solve this problem multiple times, but with different data, consider using parameters.)\n",
            "(CVXPY) Mar 19 01:33:47 PM: CVXPY will first compile your problem; then, it will invoke a numerical solver to obtain a solution.\n",
            "-------------------------------------------------------------------------------\n",
            "                                  Compilation                                  \n",
            "-------------------------------------------------------------------------------\n",
            "(CVXPY) Mar 19 01:33:47 PM: Compiling problem (target solver=ECOS_BB).\n",
            "(CVXPY) Mar 19 01:33:47 PM: Reduction chain: FlipObjective -> Dcp2Cone -> CvxAttr2Constr -> ConeMatrixStuffing -> ECOS_BB\n",
            "(CVXPY) Mar 19 01:33:47 PM: Applying reduction FlipObjective\n",
            "(CVXPY) Mar 19 01:33:47 PM: Applying reduction Dcp2Cone\n",
            "(CVXPY) Mar 19 01:33:47 PM: Applying reduction CvxAttr2Constr\n",
            "(CVXPY) Mar 19 01:33:47 PM: Applying reduction ConeMatrixStuffing\n",
            "(CVXPY) Mar 19 01:33:47 PM: Applying reduction ECOS_BB\n",
            "(CVXPY) Mar 19 01:33:47 PM: Finished problem compilation (took 2.539e-02 seconds).\n",
            "-------------------------------------------------------------------------------\n",
            "                                Numerical solver                               \n",
            "-------------------------------------------------------------------------------\n",
            "(CVXPY) Mar 19 01:33:47 PM: Invoking solver ECOS_BB  to obtain a solution.\n",
            "-------------------------------------------------------------------------------\n",
            "                                    Summary                                    \n",
            "-------------------------------------------------------------------------------\n",
            "(CVXPY) Mar 19 01:33:47 PM: Problem status: optimal\n",
            "(CVXPY) Mar 19 01:33:47 PM: Optimal value: 4.000e+01\n",
            "(CVXPY) Mar 19 01:33:47 PM: Compilation took 2.539e-02 seconds\n",
            "(CVXPY) Mar 19 01:33:47 PM: Solver (including time spent in interface) took 1.422e-02 seconds\n",
            "Estado de la solución con ECOS_BB: optimal\n",
            "Valor óptimo de la función objetivo con ECOS_BB: 40.00000000257336\n",
            "Valores óptimos de las variables de decisión con ECOS_BB: 5.000000000095518 3.618420463843465e-10 \n",
            "\n"
          ]
        }
      ]
    },
    {
      "cell_type": "markdown",
      "source": [
        "# Ejercicios"
      ],
      "metadata": {
        "id": "ia3dw24BZHq6"
      }
    },
    {
      "cell_type": "markdown",
      "source": [
        "## 00.\n",
        "Resuelva con el método **Branch and Bound**, utilizando CVXPY, el ejemplo 9.2-1 del libro de (TAHA, 2012) página 336.\n",
        "\n",
        "***Agregue todas las casillas de texto y de código que requiera***."
      ],
      "metadata": {
        "id": "08XSuUcAZK2n"
      }
    },
    {
      "cell_type": "markdown",
      "source": [
        "Max Z = 5x + 4y\n",
        "x + y <= 5\n",
        "10x + 6y <= 45\n",
        "x>= 0\n",
        "y>= 0"
      ],
      "metadata": {
        "id": "eVSwUKiQ_i0y"
      }
    },
    {
      "cell_type": "code",
      "source": [
        "# Resuelva el ejercicio a partir de aquí.\n",
        "import cvxpy as cvx\n",
        "x = cvx.Variable()\n",
        "y = cvx.Variable()\n",
        "\n",
        "obj0 = cvx.Maximize(5*x + 4*y)\n",
        "\n",
        "restri = [\n",
        "x + y <= 5,\n",
        "10*x + 6*y <= 45,\n",
        "x >= 0,\n",
        "y >= 0\n",
        "]\n",
        "prob0 = cvx.Problem(obj0, restri)\n",
        "prob0.solve()\n",
        "print('El estado de la solucion es: ', prob0.status)\n",
        "print('El valor de la funcion objetivo es: ', '%.2f'% prob0.value)\n",
        "print('Los valores optimo de las variables son: ', '%.2f'% x.value, '%.2f'% y.value)"
      ],
      "metadata": {
        "id": "eR10BZQjaRjM",
        "colab": {
          "base_uri": "https://localhost:8080/"
        },
        "outputId": "c24756ba-99b3-43a4-b604-a62718669cf5"
      },
      "execution_count": 18,
      "outputs": [
        {
          "output_type": "stream",
          "name": "stdout",
          "text": [
            "El estado de la solucion es:  optimal\n",
            "El valor de la funcion objetivo es:  23.75\n",
            "Los valores optimo de las variables son:  3.75 1.25\n"
          ]
        }
      ]
    },
    {
      "cell_type": "markdown",
      "source": [
        "Max Z = 5x + 4y, x + y <= 5, 10x + 6y <= 45, x>= 0, x<=3, y>= 0"
      ],
      "metadata": {
        "id": "3Gn4WErGAVgo"
      }
    },
    {
      "cell_type": "code",
      "source": [
        "# Resuelva el ejercicio a partir de aquí.\n",
        "import cvxpy as cvx\n",
        "x = cvx.Variable()\n",
        "y = cvx.Variable()\n",
        "\n",
        "obj0 = cvx.Maximize(5*x + 4*y)\n",
        "\n",
        "restri = [\n",
        "x + y <= 5,\n",
        "10*x + 6*y <= 45,\n",
        "x >= 0,\n",
        "x<=3,\n",
        "y >= 0\n",
        "]\n",
        "prob0 = cvx.Problem(obj0, restri)\n",
        "prob0.solve()\n",
        "print('El estado de la solucion es: ', prob0.status)\n",
        "print('El valor de la funcion objetivo es: ', '%.2f'% prob0.value)\n",
        "print('Los valores optimo de las variables son: ', '%.2f'% x.value, '%.2f'% y.value)"
      ],
      "metadata": {
        "id": "FV3SlXDMAVJH",
        "outputId": "a06a5be8-2003-4dc4-eaee-946ce0a42d1a",
        "colab": {
          "base_uri": "https://localhost:8080/"
        }
      },
      "execution_count": 20,
      "outputs": [
        {
          "output_type": "stream",
          "name": "stdout",
          "text": [
            "El estado de la solucion es:  optimal\n",
            "El valor de la funcion objetivo es:  23.00\n",
            "Los valores optimo de las variables son:  3.00 2.00\n"
          ]
        }
      ]
    },
    {
      "cell_type": "markdown",
      "source": [
        "Max Z = 5x + 4y, x + y <= 5, 10x + 6y <= 45, x>= 4,  y>= 0"
      ],
      "metadata": {
        "id": "c-x6WoB7A4kh"
      }
    },
    {
      "cell_type": "code",
      "source": [
        "# Resuelva el ejercicio a partir de aquí.\n",
        "import cvxpy as cvx\n",
        "x = cvx.Variable()\n",
        "y = cvx.Variable()\n",
        "\n",
        "obj0 = cvx.Maximize(5*x + 4*y)\n",
        "\n",
        "restri = [\n",
        "x + y <= 5,\n",
        "10*x + 6*y <= 45,\n",
        "x >= 4,\n",
        "y >= 0\n",
        "]\n",
        "prob0 = cvx.Problem(obj0, restri)\n",
        "prob0.solve()\n",
        "print('El estado de la solucion es: ', prob0.status)\n",
        "print('El valor de la funcion objetivo es: ', '%.2f'% prob0.value)\n",
        "print('Los valores optimo de las variables son: ', '%.2f'% x.value, '%.2f'% y.value)"
      ],
      "metadata": {
        "outputId": "f6f2c918-c15a-4bc7-ce03-e236b22a795a",
        "colab": {
          "base_uri": "https://localhost:8080/"
        },
        "id": "sxaF7X1VBAdf"
      },
      "execution_count": 19,
      "outputs": [
        {
          "output_type": "stream",
          "name": "stdout",
          "text": [
            "El estado de la solucion es:  optimal\n",
            "El valor de la funcion objetivo es:  23.33\n",
            "Los valores optimo de las variables son:  4.00 0.83\n"
          ]
        }
      ]
    },
    {
      "cell_type": "markdown",
      "source": [
        "Max Z = 5x + 4y, x + y <= 5, 10x + 6y <= 45, x>= 4, y = 0"
      ],
      "metadata": {
        "id": "ehqI0ShGBS8L"
      }
    },
    {
      "cell_type": "code",
      "source": [
        "# Resuelva el ejercicio a partir de aquí.\n",
        "import cvxpy as cvx\n",
        "x = cvx.Variable()\n",
        "y = cvx.Variable()\n",
        "\n",
        "obj0 = cvx.Maximize(5*x + 4*y)\n",
        "\n",
        "restri = [\n",
        "x + y <= 5,\n",
        "10*x + 6*y <= 45,\n",
        "x >= 4,\n",
        "y >= 0,\n",
        "y <=0\n",
        "]\n",
        "prob0 = cvx.Problem(obj0, restri)\n",
        "prob0.solve()\n",
        "print('El estado de la solucion es: ', prob0.status)\n",
        "print('El valor de la funcion objetivo es: ', '%.2f'% prob0.value)\n",
        "print('Los valores optimo de las variables son: ', '%.2f'% x.value, '%.2f'% y.value)"
      ],
      "metadata": {
        "id": "4U2lG04EBhVZ",
        "outputId": "c23dbd9f-86bb-4f91-cbdd-bf27fdc794bd",
        "colab": {
          "base_uri": "https://localhost:8080/"
        }
      },
      "execution_count": 25,
      "outputs": [
        {
          "output_type": "stream",
          "name": "stdout",
          "text": [
            "El estado de la solucion es:  optimal\n",
            "El valor de la funcion objetivo es:  22.50\n",
            "Los valores optimo de las variables son:  4.50 0.00\n"
          ]
        }
      ]
    },
    {
      "cell_type": "markdown",
      "source": [
        "Max Z = 5x + 4y, x + y <= 5, 10x + 6y <= 45, x>= 4, y >= 1"
      ],
      "metadata": {
        "id": "-iCtCm45Bpss"
      }
    },
    {
      "cell_type": "code",
      "source": [
        "# Resuelva el ejercicio a partir de aquí.\n",
        "import cvxpy as cvx\n",
        "x = cvx.Variable()\n",
        "y = cvx.Variable()\n",
        "\n",
        "obj0 = cvx.Maximize(5*x + 4*y)\n",
        "\n",
        "restri = [\n",
        "x + y <= 5,\n",
        "10*x + 6*y <= 45,\n",
        "x >= 4,\n",
        "y >= 1\n",
        "]\n",
        "prob0 = cvx.Problem(obj0, restri)\n",
        "prob0.solve()\n",
        "print('El estado de la solucion es: ', prob0.status)\n",
        "print('El valor de la funcion objetivo es: ', '%.2f'% prob0.value)\n",
        "print('Los valores optimo de las variables son: ', '%.2f'% x.value, '%.2f'% y.value)"
      ],
      "metadata": {
        "id": "l-z6-ClSBvJD",
        "outputId": "e7c00b33-7cf6-4baf-b46d-30c2dce09777",
        "colab": {
          "base_uri": "https://localhost:8080/",
          "height": 211
        }
      },
      "execution_count": 23,
      "outputs": [
        {
          "output_type": "stream",
          "name": "stdout",
          "text": [
            "El estado de la solucion es:  infeasible\n",
            "El valor de la funcion objetivo es:  -inf\n"
          ]
        },
        {
          "output_type": "error",
          "ename": "TypeError",
          "evalue": "must be real number, not NoneType",
          "traceback": [
            "\u001b[0;31m---------------------------------------------------------------------------\u001b[0m",
            "\u001b[0;31mTypeError\u001b[0m                                 Traceback (most recent call last)",
            "\u001b[0;32m<ipython-input-23-c41d26543855>\u001b[0m in \u001b[0;36m<cell line: 18>\u001b[0;34m()\u001b[0m\n\u001b[1;32m     16\u001b[0m \u001b[0mprint\u001b[0m\u001b[0;34m(\u001b[0m\u001b[0;34m'El estado de la solucion es: '\u001b[0m\u001b[0;34m,\u001b[0m \u001b[0mprob0\u001b[0m\u001b[0;34m.\u001b[0m\u001b[0mstatus\u001b[0m\u001b[0;34m)\u001b[0m\u001b[0;34m\u001b[0m\u001b[0;34m\u001b[0m\u001b[0m\n\u001b[1;32m     17\u001b[0m \u001b[0mprint\u001b[0m\u001b[0;34m(\u001b[0m\u001b[0;34m'El valor de la funcion objetivo es: '\u001b[0m\u001b[0;34m,\u001b[0m \u001b[0;34m'%.2f'\u001b[0m\u001b[0;34m%\u001b[0m \u001b[0mprob0\u001b[0m\u001b[0;34m.\u001b[0m\u001b[0mvalue\u001b[0m\u001b[0;34m)\u001b[0m\u001b[0;34m\u001b[0m\u001b[0;34m\u001b[0m\u001b[0m\n\u001b[0;32m---> 18\u001b[0;31m \u001b[0mprint\u001b[0m\u001b[0;34m(\u001b[0m\u001b[0;34m'Los valores optimo de las variables son: '\u001b[0m\u001b[0;34m,\u001b[0m \u001b[0;34m'%.2f'\u001b[0m\u001b[0;34m%\u001b[0m \u001b[0mx\u001b[0m\u001b[0;34m.\u001b[0m\u001b[0mvalue\u001b[0m\u001b[0;34m,\u001b[0m \u001b[0;34m'%.2f'\u001b[0m\u001b[0;34m%\u001b[0m \u001b[0my\u001b[0m\u001b[0;34m.\u001b[0m\u001b[0mvalue\u001b[0m\u001b[0;34m)\u001b[0m\u001b[0;34m\u001b[0m\u001b[0;34m\u001b[0m\u001b[0m\n\u001b[0m",
            "\u001b[0;31mTypeError\u001b[0m: must be real number, not NoneType"
          ]
        }
      ]
    },
    {
      "cell_type": "markdown",
      "source": [
        "Max Z = 5x + 4y, x + y <= 5, 10x + 6y <= 45, x<= 4, y = 0"
      ],
      "metadata": {
        "id": "hkBMjomZCdr1"
      }
    },
    {
      "cell_type": "code",
      "source": [
        "# Resuelva el ejercicio a partir de aquí.\n",
        "import cvxpy as cvx\n",
        "x = cvx.Variable()\n",
        "y = cvx.Variable()\n",
        "\n",
        "obj0 = cvx.Maximize(5*x + 4*y)\n",
        "\n",
        "restri = [\n",
        "x + y <= 5,\n",
        "10*x + 6*y <= 45,\n",
        "x <= 4,\n",
        "y >= 0,\n",
        "y <=0\n",
        "]\n",
        "prob0 = cvx.Problem(obj0, restri)\n",
        "prob0.solve()\n",
        "print('El estado de la solucion es: ', prob0.status)\n",
        "print('El valor de la funcion objetivo es: ', '%.2f'% prob0.value)\n",
        "print('Los valores optimo de las variables son: ', '%.2f'% x.value, '%.2f'% y.value)"
      ],
      "metadata": {
        "id": "2GZInuI4Cf_R",
        "outputId": "546563bd-4f88-4e1c-8250-2aec7bb8797a",
        "colab": {
          "base_uri": "https://localhost:8080/"
        }
      },
      "execution_count": 27,
      "outputs": [
        {
          "output_type": "stream",
          "name": "stdout",
          "text": [
            "El estado de la solucion es:  optimal\n",
            "El valor de la funcion objetivo es:  20.00\n",
            "Los valores optimo de las variables son:  4.00 0.00\n"
          ]
        }
      ]
    },
    {
      "cell_type": "markdown",
      "source": [
        "Max Z = 5x + 4y, x + y <= 5, 10x + 6y <= 45, x>= 5, y = 0"
      ],
      "metadata": {
        "id": "IDu0QtV1CgSP"
      }
    },
    {
      "cell_type": "code",
      "source": [
        "# Resuelva el ejercicio a partir de aquí.\n",
        "import cvxpy as cvx\n",
        "x = cvx.Variable()\n",
        "y = cvx.Variable()\n",
        "\n",
        "obj0 = cvx.Maximize(5*x + 4*y)\n",
        "\n",
        "restri = [\n",
        "x + y <= 5,\n",
        "10*x + 6*y <= 45,\n",
        "x >= 5,\n",
        "y >= 0,\n",
        "y <=0\n",
        "]\n",
        "prob0 = cvx.Problem(obj0, restri)\n",
        "prob0.solve()\n",
        "print('El estado de la solucion es: ', prob0.status)\n",
        "print('El valor de la funcion objetivo es: ', '%.2f'% prob0.value)\n",
        "print('Los valores optimo de las variables son: ', '%.2f'% x.value, '%.2f'% y.value)"
      ],
      "metadata": {
        "id": "QXSiXzMwCiFo",
        "outputId": "2f676494-67fb-499b-c0a9-05f6337becac",
        "colab": {
          "base_uri": "https://localhost:8080/",
          "height": 211
        }
      },
      "execution_count": 26,
      "outputs": [
        {
          "output_type": "stream",
          "name": "stdout",
          "text": [
            "El estado de la solucion es:  infeasible\n",
            "El valor de la funcion objetivo es:  -inf\n"
          ]
        },
        {
          "output_type": "error",
          "ename": "TypeError",
          "evalue": "must be real number, not NoneType",
          "traceback": [
            "\u001b[0;31m---------------------------------------------------------------------------\u001b[0m",
            "\u001b[0;31mTypeError\u001b[0m                                 Traceback (most recent call last)",
            "\u001b[0;32m<ipython-input-26-7ce6b2c96441>\u001b[0m in \u001b[0;36m<cell line: 19>\u001b[0;34m()\u001b[0m\n\u001b[1;32m     17\u001b[0m \u001b[0mprint\u001b[0m\u001b[0;34m(\u001b[0m\u001b[0;34m'El estado de la solucion es: '\u001b[0m\u001b[0;34m,\u001b[0m \u001b[0mprob0\u001b[0m\u001b[0;34m.\u001b[0m\u001b[0mstatus\u001b[0m\u001b[0;34m)\u001b[0m\u001b[0;34m\u001b[0m\u001b[0;34m\u001b[0m\u001b[0m\n\u001b[1;32m     18\u001b[0m \u001b[0mprint\u001b[0m\u001b[0;34m(\u001b[0m\u001b[0;34m'El valor de la funcion objetivo es: '\u001b[0m\u001b[0;34m,\u001b[0m \u001b[0;34m'%.2f'\u001b[0m\u001b[0;34m%\u001b[0m \u001b[0mprob0\u001b[0m\u001b[0;34m.\u001b[0m\u001b[0mvalue\u001b[0m\u001b[0;34m)\u001b[0m\u001b[0;34m\u001b[0m\u001b[0;34m\u001b[0m\u001b[0m\n\u001b[0;32m---> 19\u001b[0;31m \u001b[0mprint\u001b[0m\u001b[0;34m(\u001b[0m\u001b[0;34m'Los valores optimo de las variables son: '\u001b[0m\u001b[0;34m,\u001b[0m \u001b[0;34m'%.2f'\u001b[0m\u001b[0;34m%\u001b[0m \u001b[0mx\u001b[0m\u001b[0;34m.\u001b[0m\u001b[0mvalue\u001b[0m\u001b[0;34m,\u001b[0m \u001b[0;34m'%.2f'\u001b[0m\u001b[0;34m%\u001b[0m \u001b[0my\u001b[0m\u001b[0;34m.\u001b[0m\u001b[0mvalue\u001b[0m\u001b[0;34m)\u001b[0m\u001b[0;34m\u001b[0m\u001b[0;34m\u001b[0m\u001b[0m\n\u001b[0m",
            "\u001b[0;31mTypeError\u001b[0m: must be real number, not NoneType"
          ]
        }
      ]
    },
    {
      "cell_type": "markdown",
      "source": [
        "## 01.\n",
        "Resuelva directamente, utilizando CVXPY, el ejemplo 9.2-1 del libro de (TAHA, 2012) página 336."
      ],
      "metadata": {
        "id": "D4vzr-ANcoUe"
      }
    },
    {
      "cell_type": "code",
      "source": [
        "import cvxpy as cvx\n",
        "x = cvx.Variable(integer=True)\n",
        "y = cvx.Variable(integer=True)\n",
        "\n",
        "obj0 = cvx.Maximize(5*x + 4*y)\n",
        "\n",
        "restri = [\n",
        "x + y <= 5,\n",
        "10*x + 6*y <= 45,\n",
        "x >= 0,\n",
        "y >= 0\n",
        "]\n",
        "prob0 = cvx.Problem(obj0, restri)\n",
        "prob0.solve()\n",
        "print('El estado de la solucion es: ', prob0.status)\n",
        "print('El valor de la funcion objetivo es: ', prob0.value)\n",
        "print(f'Los valores optimo de las variables son: {x.value} {y.value}')"
      ],
      "metadata": {
        "id": "WbJOyqR7c4TM",
        "outputId": "9474e16b-7a6c-4b3f-87fe-e7deed8c64c8",
        "colab": {
          "base_uri": "https://localhost:8080/"
        }
      },
      "execution_count": 12,
      "outputs": [
        {
          "output_type": "stream",
          "name": "stdout",
          "text": [
            "El estado de la solucion es:  optimal\n",
            "El valor de la funcion objetivo es:  23.0\n",
            "Los valores optimo de las variables son: 3.0 2.0\n"
          ]
        }
      ]
    },
    {
      "cell_type": "markdown",
      "source": [
        "## 02.\n",
        "Resuelva con el método **Branch and Bound**, utilizando CVXPY, **uno** de los cinco numerales del ejercicio 2 del conjunto de problemas 9.2a del libro de (TAHA, 2012) página 342.\n",
        "\n",
        "***Agregue todas las casillas de texto y de código que requiera***."
      ],
      "metadata": {
        "id": "9Ei2tKLdas7d"
      }
    },
    {
      "cell_type": "markdown",
      "source": [
        "Max Z = 2x + 3y, 5x + 7y <= 35, 4x + 9y <=36, x>=0, y>=0"
      ],
      "metadata": {
        "id": "zpxj7RQ9EGhh"
      }
    },
    {
      "cell_type": "code",
      "source": [
        "# Resuelva el ejercicio a partir de aquí.\n",
        "import cvxpy as cvx\n",
        "x = cvx.Variable()\n",
        "y = cvx.Variable()\n",
        "\n",
        "obj1 = cvx.Maximize(2*x + 3*y)\n",
        "\n",
        "restri1 = [\n",
        "5*x + 7*y <= 35,\n",
        "4*x + 9*y <=36,\n",
        "x >= 0,\n",
        "y >= 0\n",
        "]\n",
        "prob1 = cvx.Problem(obj1, restri1)\n",
        "prob1.solve()\n",
        "print('El estado de la solucion es: ', prob1.status)\n",
        "print('El valor de la funcion objetivo es: ', '%.2f'% prob1.value)\n",
        "print('Los valores optimo de las variables son: ', '%.2f'% x.value, '%.2f'% y.value)"
      ],
      "metadata": {
        "id": "CbtbB7TvbLCO",
        "outputId": "0301cb40-0a14-4124-d0c9-0451e538afa1",
        "colab": {
          "base_uri": "https://localhost:8080/"
        }
      },
      "execution_count": 30,
      "outputs": [
        {
          "output_type": "stream",
          "name": "stdout",
          "text": [
            "El estado de la solucion es:  optimal\n",
            "El valor de la funcion objetivo es:  14.47\n",
            "Los valores optimo de las variables son:  3.71 2.35\n"
          ]
        }
      ]
    },
    {
      "cell_type": "markdown",
      "source": [
        "Max Z = 2x + 3y, 5x + 7y <= 35, 4x + 9y <=36, x>=0, x<=3, y>=0"
      ],
      "metadata": {
        "id": "8-0R75sKEHko"
      }
    },
    {
      "cell_type": "code",
      "source": [
        "# Resuelva el ejercicio a partir de aquí.\n",
        "import cvxpy as cvx\n",
        "x = cvx.Variable()\n",
        "y = cvx.Variable()\n",
        "\n",
        "obj1 = cvx.Maximize(2*x + 3*y)\n",
        "\n",
        "restri1 = [\n",
        "5*x + 7*y <= 35,\n",
        "4*x + 9*y <=36,\n",
        "x >= 0,\n",
        "x<=3,\n",
        "y >= 0\n",
        "]\n",
        "prob1 = cvx.Problem(obj1, restri1)\n",
        "prob1.solve()\n",
        "print('El estado de la solucion es: ', prob1.status)\n",
        "print('El valor de la funcion objetivo es: ', '%.2f'% prob1.value)\n",
        "print('Los valores optimo de las variables son: ', '%.2f'% x.value, '%.2f'% y.value)"
      ],
      "metadata": {
        "id": "vv9uwbZ5ENTa",
        "outputId": "c258e397-1b3d-47bc-ef21-424cc8165890",
        "colab": {
          "base_uri": "https://localhost:8080/"
        }
      },
      "execution_count": 31,
      "outputs": [
        {
          "output_type": "stream",
          "name": "stdout",
          "text": [
            "El estado de la solucion es:  optimal\n",
            "El valor de la funcion objetivo es:  14.00\n",
            "Los valores optimo de las variables son:  3.00 2.67\n"
          ]
        }
      ]
    },
    {
      "cell_type": "markdown",
      "source": [
        "Max Z = 2x + 3y, 5x + 7y <= 35, 4x + 9y <=36, x>=0, x<=3, y>=0, y<=2 **ESTE DIO**"
      ],
      "metadata": {
        "id": "cNkOeF0TEwT2"
      }
    },
    {
      "cell_type": "code",
      "source": [
        "# Resuelva el ejercicio a partir de aquí.\n",
        "import cvxpy as cvx\n",
        "x = cvx.Variable()\n",
        "y = cvx.Variable()\n",
        "\n",
        "obj1 = cvx.Maximize(2*x + 3*y)\n",
        "\n",
        "restri1 = [\n",
        "5*x + 7*y <= 35,\n",
        "4*x + 9*y <=36,\n",
        "x >= 0,\n",
        "x<=3,\n",
        "y >= 0,\n",
        "y<=2\n",
        "]\n",
        "prob1 = cvx.Problem(obj1, restri1)\n",
        "prob1.solve()\n",
        "print('El estado de la solucion es: ', prob1.status)\n",
        "print('El valor de la funcion objetivo es: ', '%.2f'% prob1.value)\n",
        "print('Los valores optimo de las variables son: ', '%.2f'% x.value, '%.2f'% y.value)"
      ],
      "metadata": {
        "id": "viZw3HiSE0yK",
        "outputId": "0a412e42-cd99-4164-a6fe-924a000aba94",
        "colab": {
          "base_uri": "https://localhost:8080/"
        }
      },
      "execution_count": 33,
      "outputs": [
        {
          "output_type": "stream",
          "name": "stdout",
          "text": [
            "El estado de la solucion es:  optimal\n",
            "El valor de la funcion objetivo es:  12.00\n",
            "Los valores optimo de las variables son:  3.00 2.00\n"
          ]
        }
      ]
    },
    {
      "cell_type": "markdown",
      "source": [
        "Max Z = 2x + 3y, 5x + 7y <= 35, 4x + 9y <=36, x>=0, x<=3, y>=3"
      ],
      "metadata": {
        "id": "g7DDG6lBE0_V"
      }
    },
    {
      "cell_type": "code",
      "source": [
        "# Resuelva el ejercicio a partir de aquí.\n",
        "import cvxpy as cvx\n",
        "x = cvx.Variable()\n",
        "y = cvx.Variable()\n",
        "\n",
        "obj1 = cvx.Maximize(2*x + 3*y)\n",
        "\n",
        "restri1 = [\n",
        "5*x + 7*y <= 35,\n",
        "4*x + 9*y <=36,\n",
        "x >= 0,\n",
        "x<=3,\n",
        "y >= 3\n",
        "]\n",
        "prob1 = cvx.Problem(obj1, restri1)\n",
        "prob1.solve()\n",
        "print('El estado de la solucion es: ', prob1.status)\n",
        "print('El valor de la funcion objetivo es: ', '%.2f'% prob1.value)\n",
        "print('Los valores optimo de las variables son: ', '%.2f'% x.value, '%.2f'% y.value)"
      ],
      "metadata": {
        "id": "_AfpFPDzE2pu",
        "outputId": "504ba4d4-7897-47d3-f4d1-17d26d1e468e",
        "colab": {
          "base_uri": "https://localhost:8080/"
        }
      },
      "execution_count": 34,
      "outputs": [
        {
          "output_type": "stream",
          "name": "stdout",
          "text": [
            "El estado de la solucion es:  optimal\n",
            "El valor de la funcion objetivo es:  13.50\n",
            "Los valores optimo de las variables son:  2.25 3.00\n"
          ]
        }
      ]
    },
    {
      "cell_type": "markdown",
      "source": [
        "Max Z = 2x + 3y, 5x + 7y <= 35, 4x + 9y <=36, x>=0, x<=2, y>=3"
      ],
      "metadata": {
        "id": "Gk4ohqUAF17l"
      }
    },
    {
      "cell_type": "code",
      "source": [
        "# Resuelva el ejercicio a partir de aquí.\n",
        "import cvxpy as cvx\n",
        "x = cvx.Variable()\n",
        "y = cvx.Variable()\n",
        "\n",
        "obj1 = cvx.Maximize(2*x + 3*y)\n",
        "\n",
        "restri1 = [\n",
        "5*x + 7*y <= 35,\n",
        "4*x + 9*y <=36,\n",
        "x >= 0,\n",
        "x<=2,\n",
        "y >= 3\n",
        "]\n",
        "prob1 = cvx.Problem(obj1, restri1)\n",
        "prob1.solve()\n",
        "print('El estado de la solucion es: ', prob1.status)\n",
        "print('El valor de la funcion objetivo es: ', '%.2f'% prob1.value)\n",
        "print('Los valores optimo de las variables son: ', '%.2f'% x.value, '%.2f'% y.value)"
      ],
      "metadata": {
        "id": "ZVZ49_SIGAXU",
        "outputId": "6c2cae85-a178-4a07-cfe4-b73e4f6fd10f",
        "colab": {
          "base_uri": "https://localhost:8080/"
        }
      },
      "execution_count": 38,
      "outputs": [
        {
          "output_type": "stream",
          "name": "stdout",
          "text": [
            "El estado de la solucion es:  optimal\n",
            "El valor de la funcion objetivo es:  13.33\n",
            "Los valores optimo de las variables son:  2.00 3.11\n"
          ]
        }
      ]
    },
    {
      "cell_type": "markdown",
      "source": [
        "Max Z = 2x + 3y, 5x + 7y <= 35, 4x + 9y <=36, x>=0, x<=2, y<=3 **ESTE DIO**"
      ],
      "metadata": {
        "id": "Z2biLxgLGbrw"
      }
    },
    {
      "cell_type": "code",
      "source": [
        "# Resuelva el ejercicio a partir de aquí.\n",
        "import cvxpy as cvx\n",
        "x = cvx.Variable()\n",
        "y = cvx.Variable()\n",
        "\n",
        "obj1 = cvx.Maximize(2*x + 3*y)\n",
        "\n",
        "restri1 = [\n",
        "5*x + 7*y <= 35,\n",
        "4*x + 9*y <=36,\n",
        "x >= 0,\n",
        "x<=2,\n",
        "y <= 3\n",
        "]\n",
        "prob1 = cvx.Problem(obj1, restri1)\n",
        "prob1.solve()\n",
        "print('El estado de la solucion es: ', prob1.status)\n",
        "print('El valor de la funcion objetivo es: ', '%.2f'% prob1.value)\n",
        "print('Los valores optimo de las variables son: ', '%.2f'% x.value, '%.2f'% y.value)"
      ],
      "metadata": {
        "id": "9zvQqYNoGjDQ",
        "outputId": "01ffd44b-237f-49f9-85d1-6887c873d794",
        "colab": {
          "base_uri": "https://localhost:8080/"
        }
      },
      "execution_count": 40,
      "outputs": [
        {
          "output_type": "stream",
          "name": "stdout",
          "text": [
            "El estado de la solucion es:  optimal\n",
            "El valor de la funcion objetivo es:  13.00\n",
            "Los valores optimo de las variables son:  2.00 3.00\n"
          ]
        }
      ]
    },
    {
      "cell_type": "markdown",
      "source": [
        "Max Z = 2x + 3y, 5x + 7y <= 35, 4x + 9y <=36, x>=0, x<=2, y>=4 **ESTE DIO**"
      ],
      "metadata": {
        "id": "CgUqwZgEGjQl"
      }
    },
    {
      "cell_type": "code",
      "source": [
        "# Resuelva el ejercicio a partir de aquí.\n",
        "import cvxpy as cvx\n",
        "x = cvx.Variable()\n",
        "y = cvx.Variable()\n",
        "\n",
        "obj1 = cvx.Maximize(2*x + 3*y)\n",
        "\n",
        "restri1 = [\n",
        "5*x + 7*y <= 35,\n",
        "4*x + 9*y <=36,\n",
        "x >= 0,\n",
        "x<=2,\n",
        "y >= 4\n",
        "]\n",
        "prob1 = cvx.Problem(obj1, restri1)\n",
        "prob1.solve()\n",
        "print('El estado de la solucion es: ', prob1.status)\n",
        "print('El valor de la funcion objetivo es: ', '%.2f'% prob1.value)\n",
        "print('Los valores optimo de las variables son: ', '%.2f'% x.value, '%.2f'% y.value)"
      ],
      "metadata": {
        "id": "0Xs9aotdGkqQ",
        "outputId": "613c960d-ccd0-4f94-fcb6-3978fa384474",
        "colab": {
          "base_uri": "https://localhost:8080/"
        }
      },
      "execution_count": 39,
      "outputs": [
        {
          "output_type": "stream",
          "name": "stdout",
          "text": [
            "El estado de la solucion es:  optimal\n",
            "El valor de la funcion objetivo es:  12.00\n",
            "Los valores optimo de las variables son:  0.00 4.00\n"
          ]
        }
      ]
    },
    {
      "cell_type": "markdown",
      "source": [
        "Max Z = 2x + 3y, 5x + 7y <= 35, 4x + 9y <=36, x>=3, y>=3 **ESTE NO DIO**"
      ],
      "metadata": {
        "id": "dwxxKo7SF84s"
      }
    },
    {
      "cell_type": "code",
      "source": [
        "# Resuelva el ejercicio a partir de aquí.\n",
        "import cvxpy as cvx\n",
        "x = cvx.Variable()\n",
        "y = cvx.Variable()\n",
        "\n",
        "obj1 = cvx.Maximize(2*x + 3*y)\n",
        "\n",
        "restri1 = [\n",
        "5*x + 7*y <= 35,\n",
        "4*x + 9*y <=36,\n",
        "x >= 3,\n",
        "y >= 3\n",
        "]\n",
        "prob1 = cvx.Problem(obj1, restri1)\n",
        "prob1.solve()\n",
        "print('El estado de la solucion es: ', prob1.status)\n",
        "print('El valor de la funcion objetivo es: ', '%.2f'% prob1.value)\n",
        "print('Los valores optimo de las variables son: ', '%.2f'% x.value, '%.2f'% y.value)"
      ],
      "metadata": {
        "id": "z8tGRN9hGBFc",
        "outputId": "b01dca90-2e78-4a4d-b546-84bb55343f5c",
        "colab": {
          "base_uri": "https://localhost:8080/",
          "height": 211
        }
      },
      "execution_count": 37,
      "outputs": [
        {
          "output_type": "stream",
          "name": "stdout",
          "text": [
            "El estado de la solucion es:  infeasible\n",
            "El valor de la funcion objetivo es:  -inf\n"
          ]
        },
        {
          "output_type": "error",
          "ename": "TypeError",
          "evalue": "must be real number, not NoneType",
          "traceback": [
            "\u001b[0;31m---------------------------------------------------------------------------\u001b[0m",
            "\u001b[0;31mTypeError\u001b[0m                                 Traceback (most recent call last)",
            "\u001b[0;32m<ipython-input-37-bb85cafc0223>\u001b[0m in \u001b[0;36m<cell line: 18>\u001b[0;34m()\u001b[0m\n\u001b[1;32m     16\u001b[0m \u001b[0mprint\u001b[0m\u001b[0;34m(\u001b[0m\u001b[0;34m'El estado de la solucion es: '\u001b[0m\u001b[0;34m,\u001b[0m \u001b[0mprob1\u001b[0m\u001b[0;34m.\u001b[0m\u001b[0mstatus\u001b[0m\u001b[0;34m)\u001b[0m\u001b[0;34m\u001b[0m\u001b[0;34m\u001b[0m\u001b[0m\n\u001b[1;32m     17\u001b[0m \u001b[0mprint\u001b[0m\u001b[0;34m(\u001b[0m\u001b[0;34m'El valor de la funcion objetivo es: '\u001b[0m\u001b[0;34m,\u001b[0m \u001b[0;34m'%.2f'\u001b[0m\u001b[0;34m%\u001b[0m \u001b[0mprob1\u001b[0m\u001b[0;34m.\u001b[0m\u001b[0mvalue\u001b[0m\u001b[0;34m)\u001b[0m\u001b[0;34m\u001b[0m\u001b[0;34m\u001b[0m\u001b[0m\n\u001b[0;32m---> 18\u001b[0;31m \u001b[0mprint\u001b[0m\u001b[0;34m(\u001b[0m\u001b[0;34m'Los valores optimo de las variables son: '\u001b[0m\u001b[0;34m,\u001b[0m \u001b[0;34m'%.2f'\u001b[0m\u001b[0;34m%\u001b[0m \u001b[0mx\u001b[0m\u001b[0;34m.\u001b[0m\u001b[0mvalue\u001b[0m\u001b[0;34m,\u001b[0m \u001b[0;34m'%.2f'\u001b[0m\u001b[0;34m%\u001b[0m \u001b[0my\u001b[0m\u001b[0;34m.\u001b[0m\u001b[0mvalue\u001b[0m\u001b[0;34m)\u001b[0m\u001b[0;34m\u001b[0m\u001b[0;34m\u001b[0m\u001b[0m\n\u001b[0m",
            "\u001b[0;31mTypeError\u001b[0m: must be real number, not NoneType"
          ]
        }
      ]
    },
    {
      "cell_type": "markdown",
      "source": [
        "Max Z = 2x + 3y, 5x + 7y <= 35, 4x + 9y <=36, x>=4, y>=0"
      ],
      "metadata": {
        "id": "foqIMTnLENpx"
      }
    },
    {
      "cell_type": "code",
      "source": [
        "# Resuelva el ejercicio a partir de aquí.\n",
        "import cvxpy as cvx\n",
        "x = cvx.Variable()\n",
        "y = cvx.Variable()\n",
        "\n",
        "obj1 = cvx.Maximize(2*x + 3*y)\n",
        "\n",
        "restri1 = [\n",
        "5*x + 7*y <= 35,\n",
        "4*x + 9*y <=36,\n",
        "x >= 4,\n",
        "y >= 0\n",
        "]\n",
        "prob1 = cvx.Problem(obj1, restri1)\n",
        "prob1.solve()\n",
        "print('El estado de la solucion es: ', prob1.status)\n",
        "print('El valor de la funcion objetivo es: ', '%.2f'% prob1.value)\n",
        "print('Los valores optimo de las variables son: ', '%.2f'% x.value, '%.2f'% y.value)"
      ],
      "metadata": {
        "id": "OVCj95nCEO9g",
        "outputId": "87fc847d-944d-471c-fa2f-32ffeebd5b2f",
        "colab": {
          "base_uri": "https://localhost:8080/"
        }
      },
      "execution_count": 32,
      "outputs": [
        {
          "output_type": "stream",
          "name": "stdout",
          "text": [
            "El estado de la solucion es:  optimal\n",
            "El valor de la funcion objetivo es:  14.43\n",
            "Los valores optimo de las variables son:  4.00 2.14\n"
          ]
        }
      ]
    },
    {
      "cell_type": "markdown",
      "source": [
        "Max Z = 2x + 3y, 5x + 7y <= 35, 4x + 9y <=36, x>=4, y>=0, y<= 2"
      ],
      "metadata": {
        "id": "EIpX9KGfFKW2"
      }
    },
    {
      "cell_type": "code",
      "source": [
        "# Resuelva el ejercicio a partir de aquí.\n",
        "import cvxpy as cvx\n",
        "x = cvx.Variable()\n",
        "y = cvx.Variable()\n",
        "\n",
        "obj1 = cvx.Maximize(2*x + 3*y)\n",
        "\n",
        "restri1 = [\n",
        "5*x + 7*y <= 35,\n",
        "4*x + 9*y <=36,\n",
        "x >= 4,\n",
        "y >= 0,\n",
        "y<=2\n",
        "]\n",
        "prob1 = cvx.Problem(obj1, restri1)\n",
        "prob1.solve()\n",
        "print('El estado de la solucion es: ', prob1.status)\n",
        "print('El valor de la funcion objetivo es: ', '%.2f'% prob1.value)\n",
        "print('Los valores optimo de las variables son: ', '%.2f'% x.value, '%.2f'% y.value)"
      ],
      "metadata": {
        "id": "95hzbvqfFTW3",
        "outputId": "15942d46-d6e1-41e0-ffa3-a8680aeb16e2",
        "colab": {
          "base_uri": "https://localhost:8080/"
        }
      },
      "execution_count": 35,
      "outputs": [
        {
          "output_type": "stream",
          "name": "stdout",
          "text": [
            "El estado de la solucion es:  optimal\n",
            "El valor de la funcion objetivo es:  14.40\n",
            "Los valores optimo de las variables son:  4.20 2.00\n"
          ]
        }
      ]
    },
    {
      "cell_type": "markdown",
      "source": [
        "Max Z = 2x + 3y, 5x + 7y <= 35, 4x + 9y <=36, x>=0, x<=4, y>=0, y<= 2 **ESTE DIO**"
      ],
      "metadata": {
        "id": "LZmbmAG2G5K3"
      }
    },
    {
      "cell_type": "code",
      "source": [
        "# Resuelva el ejercicio a partir de aquí.\n",
        "import cvxpy as cvx\n",
        "x = cvx.Variable()\n",
        "y = cvx.Variable()\n",
        "\n",
        "obj1 = cvx.Maximize(2*x + 3*y)\n",
        "\n",
        "restri1 = [\n",
        "5*x + 7*y <= 35,\n",
        "4*x + 9*y <=36,\n",
        "x>=0,\n",
        "x <= 4,\n",
        "y >= 0,\n",
        "y<=2\n",
        "]\n",
        "prob1 = cvx.Problem(obj1, restri1)\n",
        "prob1.solve()\n",
        "print('El estado de la solucion es: ', prob1.status)\n",
        "print('El valor de la funcion objetivo es: ', '%.2f'% prob1.value)\n",
        "print('Los valores optimo de las variables son: ', '%.2f'% x.value, '%.2f'% y.value)"
      ],
      "metadata": {
        "id": "6Nd1deYCG5ef",
        "outputId": "0b46bf43-165e-4b0d-d678-ca769c286221",
        "colab": {
          "base_uri": "https://localhost:8080/"
        }
      },
      "execution_count": 41,
      "outputs": [
        {
          "output_type": "stream",
          "name": "stdout",
          "text": [
            "El estado de la solucion es:  optimal\n",
            "El valor de la funcion objetivo es:  14.00\n",
            "Los valores optimo de las variables son:  4.00 2.00\n"
          ]
        }
      ]
    },
    {
      "cell_type": "markdown",
      "source": [
        "Max Z = 2x + 3y, 5x + 7y <= 35, 4x + 9y <=36, x>=5, y>=0, y<= 2"
      ],
      "metadata": {
        "id": "_wa6CTC4G7D2"
      }
    },
    {
      "cell_type": "code",
      "source": [
        "# Resuelva el ejercicio a partir de aquí.\n",
        "import cvxpy as cvx\n",
        "x = cvx.Variable()\n",
        "y = cvx.Variable()\n",
        "\n",
        "obj1 = cvx.Maximize(2*x + 3*y)\n",
        "\n",
        "restri1 = [\n",
        "5*x + 7*y <= 35,\n",
        "4*x + 9*y <=36,\n",
        "x >= 5,\n",
        "y >= 0,\n",
        "y<=2\n",
        "]\n",
        "prob1 = cvx.Problem(obj1, restri1)\n",
        "prob1.solve()\n",
        "print('El estado de la solucion es: ', prob1.status)\n",
        "print('El valor de la funcion objetivo es: ', '%.2f'% prob1.value)\n",
        "print('Los valores optimo de las variables son: ', '%.2f'% x.value, '%.2f'% y.value)"
      ],
      "metadata": {
        "id": "NQArksbDG5-O",
        "outputId": "84005865-88cc-433b-b533-72c1da1ee52b",
        "colab": {
          "base_uri": "https://localhost:8080/"
        }
      },
      "execution_count": 42,
      "outputs": [
        {
          "output_type": "stream",
          "name": "stdout",
          "text": [
            "El estado de la solucion es:  optimal\n",
            "El valor de la funcion objetivo es:  14.29\n",
            "Los valores optimo de las variables son:  5.00 1.43\n"
          ]
        }
      ]
    },
    {
      "cell_type": "markdown",
      "source": [
        "Max Z = 2x + 3y, 5x + 7y <= 35, 4x + 9y <=36, x>=5, y>=0, y<= 1"
      ],
      "metadata": {
        "id": "H6B-gzO0HhV9"
      }
    },
    {
      "cell_type": "code",
      "source": [
        "# Resuelva el ejercicio a partir de aquí.\n",
        "import cvxpy as cvx\n",
        "x = cvx.Variable()\n",
        "y = cvx.Variable()\n",
        "\n",
        "obj1 = cvx.Maximize(2*x + 3*y)\n",
        "\n",
        "restri1 = [\n",
        "5*x + 7*y <= 35,\n",
        "4*x + 9*y <=36,\n",
        "x >= 5,\n",
        "y >= 0,\n",
        "y<=1\n",
        "]\n",
        "prob1 = cvx.Problem(obj1, restri1)\n",
        "prob1.solve()\n",
        "print('El estado de la solucion es: ', prob1.status)\n",
        "print('El valor de la funcion objetivo es: ', '%.2f'% prob1.value)\n",
        "print('Los valores optimo de las variables son: ', '%.2f'% x.value, '%.2f'% y.value)"
      ],
      "metadata": {
        "id": "7-LT3N1lHlDf",
        "outputId": "be5321fb-d93c-471d-a172-1d4a27edef8e",
        "colab": {
          "base_uri": "https://localhost:8080/"
        }
      },
      "execution_count": 43,
      "outputs": [
        {
          "output_type": "stream",
          "name": "stdout",
          "text": [
            "El estado de la solucion es:  optimal\n",
            "El valor de la funcion objetivo es:  14.20\n",
            "Los valores optimo de las variables son:  5.60 1.00\n"
          ]
        }
      ]
    },
    {
      "cell_type": "markdown",
      "source": [
        "Max Z = 2x + 3y, 5x + 7y <= 35, 4x + 9y <=36, X>=0, x<=5, y>=0, y<= 1 **ESTE DIO**"
      ],
      "metadata": {
        "id": "DYe9SVyfH5x9"
      }
    },
    {
      "cell_type": "code",
      "source": [
        "# Resuelva el ejercicio a partir de aquí.\n",
        "import cvxpy as cvx\n",
        "x = cvx.Variable()\n",
        "y = cvx.Variable()\n",
        "\n",
        "obj1 = cvx.Maximize(2*x + 3*y)\n",
        "\n",
        "restri1 = [\n",
        "5*x + 7*y <= 35,\n",
        "4*x + 9*y <=36,\n",
        "x>=0,\n",
        "x <= 5,\n",
        "y >= 0,\n",
        "y<=1\n",
        "]\n",
        "prob1 = cvx.Problem(obj1, restri1)\n",
        "prob1.solve()\n",
        "print('El estado de la solucion es: ', prob1.status)\n",
        "print('El valor de la funcion objetivo es: ', '%.2f'% prob1.value)\n",
        "print('Los valores optimo de las variables son: ', '%.2f'% x.value, '%.2f'% y.value)"
      ],
      "metadata": {
        "id": "LcmNvzTAIIFH",
        "outputId": "8557c69b-bbb3-4298-ebb4-92d40f2df459",
        "colab": {
          "base_uri": "https://localhost:8080/"
        }
      },
      "execution_count": 46,
      "outputs": [
        {
          "output_type": "stream",
          "name": "stdout",
          "text": [
            "El estado de la solucion es:  optimal\n",
            "El valor de la funcion objetivo es:  13.00\n",
            "Los valores optimo de las variables son:  5.00 1.00\n"
          ]
        }
      ]
    },
    {
      "cell_type": "markdown",
      "source": [
        "Max Z = 2x + 3y, 5x + 7y <= 35, 4x + 9y <=36, x>=6, y>=0, y<= 1"
      ],
      "metadata": {
        "id": "BTNxTiKWIIau"
      }
    },
    {
      "cell_type": "code",
      "source": [
        "# Resuelva el ejercicio a partir de aquí.\n",
        "import cvxpy as cvx\n",
        "x = cvx.Variable()\n",
        "y = cvx.Variable()\n",
        "\n",
        "obj1 = cvx.Maximize(2*x + 3*y)\n",
        "\n",
        "restri1 = [\n",
        "5*x + 7*y <= 35,\n",
        "4*x + 9*y <=36,\n",
        "x >= 6,\n",
        "y >= 0,\n",
        "y<=1\n",
        "]\n",
        "prob1 = cvx.Problem(obj1, restri1)\n",
        "prob1.solve()\n",
        "print('El estado de la solucion es: ', prob1.status)\n",
        "print('El valor de la funcion objetivo es: ', '%.2f'% prob1.value)\n",
        "print('Los valores optimo de las variables son: ', '%.2f'% x.value, '%.2f'% y.value)"
      ],
      "metadata": {
        "id": "dzEzvvmGIPu1",
        "outputId": "045af507-3c5c-438f-909b-b1e68f1564ae",
        "colab": {
          "base_uri": "https://localhost:8080/"
        }
      },
      "execution_count": 47,
      "outputs": [
        {
          "output_type": "stream",
          "name": "stdout",
          "text": [
            "El estado de la solucion es:  optimal\n",
            "El valor de la funcion objetivo es:  14.14\n",
            "Los valores optimo de las variables son:  6.00 0.71\n"
          ]
        }
      ]
    },
    {
      "cell_type": "markdown",
      "source": [
        "Max Z = 2x + 3y, 5x + 7y <= 35, 4x + 9y <=36, x>=6, y>=0, y<= 0 **ESTE DIO**"
      ],
      "metadata": {
        "id": "E5thsfjsIjUK"
      }
    },
    {
      "cell_type": "code",
      "source": [
        "# Resuelva el ejercicio a partir de aquí.\n",
        "import cvxpy as cvx\n",
        "x = cvx.Variable()\n",
        "y = cvx.Variable()\n",
        "\n",
        "obj1 = cvx.Maximize(2*x + 3*y)\n",
        "\n",
        "restri1 = [\n",
        "5*x + 7*y <= 35,\n",
        "4*x + 9*y <=36,\n",
        "x >= 6,\n",
        "y >= 0,\n",
        "y<=0\n",
        "]\n",
        "prob1 = cvx.Problem(obj1, restri1)\n",
        "prob1.solve()\n",
        "print('El estado de la solucion es: ', prob1.status)\n",
        "print('El valor de la funcion objetivo es: ', '%.2f'% prob1.value)\n",
        "print('Los valores optimo de las variables son: ', '%.2f'% x.value, '%.2f'% y.value)"
      ],
      "metadata": {
        "id": "BmkkGB3pIjya",
        "outputId": "2bbace0c-8020-42c7-c761-a5ef92e51c58",
        "colab": {
          "base_uri": "https://localhost:8080/"
        }
      },
      "execution_count": 48,
      "outputs": [
        {
          "output_type": "stream",
          "name": "stdout",
          "text": [
            "El estado de la solucion es:  optimal\n",
            "El valor de la funcion objetivo es:  14.00\n",
            "Los valores optimo de las variables son:  7.00 0.00\n"
          ]
        }
      ]
    },
    {
      "cell_type": "markdown",
      "source": [
        "Max Z = 2x + 3y, 5x + 7y <= 35, 4x + 9y <=36, x>=6, y>=1 **ESTE DIO**"
      ],
      "metadata": {
        "id": "CwBq8qcSIkAa"
      }
    },
    {
      "cell_type": "code",
      "source": [
        "# Resuelva el ejercicio a partir de aquí.\n",
        "import cvxpy as cvx\n",
        "x = cvx.Variable()\n",
        "y = cvx.Variable()\n",
        "\n",
        "obj1 = cvx.Maximize(2*x + 3*y)\n",
        "\n",
        "restri1 = [\n",
        "5*x + 7*y <= 35,\n",
        "4*x + 9*y <=36,\n",
        "x >= 6,\n",
        "y >= 1\n",
        "]\n",
        "prob1 = cvx.Problem(obj1, restri1)\n",
        "prob1.solve()\n",
        "print('El estado de la solucion es: ', prob1.status)\n",
        "print('El valor de la funcion objetivo es: ', '%.2f'% prob1.value)\n",
        "print('Los valores optimo de las variables son: ', '%.2f'% x.value, '%.2f'% y.value)"
      ],
      "metadata": {
        "id": "WTervw3FIsWG",
        "outputId": "1589d8d6-d6fd-4669-81c5-ec1acf2ab30c",
        "colab": {
          "base_uri": "https://localhost:8080/",
          "height": 211
        }
      },
      "execution_count": 49,
      "outputs": [
        {
          "output_type": "stream",
          "name": "stdout",
          "text": [
            "El estado de la solucion es:  infeasible\n",
            "El valor de la funcion objetivo es:  -inf\n"
          ]
        },
        {
          "output_type": "error",
          "ename": "TypeError",
          "evalue": "must be real number, not NoneType",
          "traceback": [
            "\u001b[0;31m---------------------------------------------------------------------------\u001b[0m",
            "\u001b[0;31mTypeError\u001b[0m                                 Traceback (most recent call last)",
            "\u001b[0;32m<ipython-input-49-7ae54507558e>\u001b[0m in \u001b[0;36m<cell line: 18>\u001b[0;34m()\u001b[0m\n\u001b[1;32m     16\u001b[0m \u001b[0mprint\u001b[0m\u001b[0;34m(\u001b[0m\u001b[0;34m'El estado de la solucion es: '\u001b[0m\u001b[0;34m,\u001b[0m \u001b[0mprob1\u001b[0m\u001b[0;34m.\u001b[0m\u001b[0mstatus\u001b[0m\u001b[0;34m)\u001b[0m\u001b[0;34m\u001b[0m\u001b[0;34m\u001b[0m\u001b[0m\n\u001b[1;32m     17\u001b[0m \u001b[0mprint\u001b[0m\u001b[0;34m(\u001b[0m\u001b[0;34m'El valor de la funcion objetivo es: '\u001b[0m\u001b[0;34m,\u001b[0m \u001b[0;34m'%.2f'\u001b[0m\u001b[0;34m%\u001b[0m \u001b[0mprob1\u001b[0m\u001b[0;34m.\u001b[0m\u001b[0mvalue\u001b[0m\u001b[0;34m)\u001b[0m\u001b[0;34m\u001b[0m\u001b[0;34m\u001b[0m\u001b[0m\n\u001b[0;32m---> 18\u001b[0;31m \u001b[0mprint\u001b[0m\u001b[0;34m(\u001b[0m\u001b[0;34m'Los valores optimo de las variables son: '\u001b[0m\u001b[0;34m,\u001b[0m \u001b[0;34m'%.2f'\u001b[0m\u001b[0;34m%\u001b[0m \u001b[0mx\u001b[0m\u001b[0;34m.\u001b[0m\u001b[0mvalue\u001b[0m\u001b[0;34m,\u001b[0m \u001b[0;34m'%.2f'\u001b[0m\u001b[0;34m%\u001b[0m \u001b[0my\u001b[0m\u001b[0;34m.\u001b[0m\u001b[0mvalue\u001b[0m\u001b[0;34m)\u001b[0m\u001b[0;34m\u001b[0m\u001b[0;34m\u001b[0m\u001b[0m\n\u001b[0m",
            "\u001b[0;31mTypeError\u001b[0m: must be real number, not NoneType"
          ]
        }
      ]
    },
    {
      "cell_type": "markdown",
      "source": [
        "Max Z = 2x + 3y, 5x + 7y <= 35, 4x + 9y <=36, x>=5, y>=2 **ESTE NO DIO**"
      ],
      "metadata": {
        "id": "f3eu47OdHlT3"
      }
    },
    {
      "cell_type": "code",
      "source": [
        "# Resuelva el ejercicio a partir de aquí.\n",
        "import cvxpy as cvx\n",
        "x = cvx.Variable()\n",
        "y = cvx.Variable()\n",
        "\n",
        "obj1 = cvx.Maximize(2*x + 3*y)\n",
        "\n",
        "restri1 = [\n",
        "5*x + 7*y <= 35,\n",
        "4*x + 9*y <=36,\n",
        "x >= 5,\n",
        "y >= 2\n",
        "]\n",
        "prob1 = cvx.Problem(obj1, restri1)\n",
        "prob1.solve()\n",
        "print('El estado de la solucion es: ', prob1.status)\n",
        "print('El valor de la funcion objetivo es: ', '%.2f'% prob1.value)\n",
        "print('Los valores optimo de las variables son: ', '%.2f'% x.value, '%.2f'% y.value)"
      ],
      "metadata": {
        "id": "QCshqvPnHlrU",
        "outputId": "cd769377-da8f-464b-fd24-a45843219c97",
        "colab": {
          "base_uri": "https://localhost:8080/",
          "height": 211
        }
      },
      "execution_count": 44,
      "outputs": [
        {
          "output_type": "stream",
          "name": "stdout",
          "text": [
            "El estado de la solucion es:  infeasible\n",
            "El valor de la funcion objetivo es:  -inf\n"
          ]
        },
        {
          "output_type": "error",
          "ename": "TypeError",
          "evalue": "must be real number, not NoneType",
          "traceback": [
            "\u001b[0;31m---------------------------------------------------------------------------\u001b[0m",
            "\u001b[0;31mTypeError\u001b[0m                                 Traceback (most recent call last)",
            "\u001b[0;32m<ipython-input-44-e658ea63508c>\u001b[0m in \u001b[0;36m<cell line: 18>\u001b[0;34m()\u001b[0m\n\u001b[1;32m     16\u001b[0m \u001b[0mprint\u001b[0m\u001b[0;34m(\u001b[0m\u001b[0;34m'El estado de la solucion es: '\u001b[0m\u001b[0;34m,\u001b[0m \u001b[0mprob1\u001b[0m\u001b[0;34m.\u001b[0m\u001b[0mstatus\u001b[0m\u001b[0;34m)\u001b[0m\u001b[0;34m\u001b[0m\u001b[0;34m\u001b[0m\u001b[0m\n\u001b[1;32m     17\u001b[0m \u001b[0mprint\u001b[0m\u001b[0;34m(\u001b[0m\u001b[0;34m'El valor de la funcion objetivo es: '\u001b[0m\u001b[0;34m,\u001b[0m \u001b[0;34m'%.2f'\u001b[0m\u001b[0;34m%\u001b[0m \u001b[0mprob1\u001b[0m\u001b[0;34m.\u001b[0m\u001b[0mvalue\u001b[0m\u001b[0;34m)\u001b[0m\u001b[0;34m\u001b[0m\u001b[0;34m\u001b[0m\u001b[0m\n\u001b[0;32m---> 18\u001b[0;31m \u001b[0mprint\u001b[0m\u001b[0;34m(\u001b[0m\u001b[0;34m'Los valores optimo de las variables son: '\u001b[0m\u001b[0;34m,\u001b[0m \u001b[0;34m'%.2f'\u001b[0m\u001b[0;34m%\u001b[0m \u001b[0mx\u001b[0m\u001b[0;34m.\u001b[0m\u001b[0mvalue\u001b[0m\u001b[0;34m,\u001b[0m \u001b[0;34m'%.2f'\u001b[0m\u001b[0;34m%\u001b[0m \u001b[0my\u001b[0m\u001b[0;34m.\u001b[0m\u001b[0mvalue\u001b[0m\u001b[0;34m)\u001b[0m\u001b[0;34m\u001b[0m\u001b[0;34m\u001b[0m\u001b[0m\n\u001b[0m",
            "\u001b[0;31mTypeError\u001b[0m: must be real number, not NoneType"
          ]
        }
      ]
    },
    {
      "cell_type": "markdown",
      "source": [
        "Max Z = 2x + 3y, 5x + 7y <= 35, 4x + 9y <=36, x>=4, y>=3 **ESTE NO DIO**"
      ],
      "metadata": {
        "id": "XByeHGJqFTk8"
      }
    },
    {
      "cell_type": "code",
      "source": [
        "# Resuelva el ejercicio a partir de aquí.\n",
        "import cvxpy as cvx\n",
        "x = cvx.Variable()\n",
        "y = cvx.Variable()\n",
        "\n",
        "obj1 = cvx.Maximize(2*x + 3*y)\n",
        "\n",
        "restri1 = [\n",
        "5*x + 7*y <= 35,\n",
        "4*x + 9*y <=36,\n",
        "x >= 4,\n",
        "y >= 3\n",
        "]\n",
        "prob1 = cvx.Problem(obj1, restri1)\n",
        "prob1.solve()\n",
        "print('El estado de la solucion es: ', prob1.status)\n",
        "print('El valor de la funcion objetivo es: ', '%.2f'% prob1.value)\n",
        "print('Los valores optimo de las variables son: ', '%.2f'% x.value, '%.2f'% y.value)"
      ],
      "metadata": {
        "id": "3HvlZq2vFT_8",
        "outputId": "1fec9e63-44f0-476e-9734-758078ff0ac1",
        "colab": {
          "base_uri": "https://localhost:8080/",
          "height": 211
        }
      },
      "execution_count": 36,
      "outputs": [
        {
          "output_type": "stream",
          "name": "stdout",
          "text": [
            "El estado de la solucion es:  infeasible\n",
            "El valor de la funcion objetivo es:  -inf\n"
          ]
        },
        {
          "output_type": "error",
          "ename": "TypeError",
          "evalue": "must be real number, not NoneType",
          "traceback": [
            "\u001b[0;31m---------------------------------------------------------------------------\u001b[0m",
            "\u001b[0;31mTypeError\u001b[0m                                 Traceback (most recent call last)",
            "\u001b[0;32m<ipython-input-36-4dc24e8973f0>\u001b[0m in \u001b[0;36m<cell line: 18>\u001b[0;34m()\u001b[0m\n\u001b[1;32m     16\u001b[0m \u001b[0mprint\u001b[0m\u001b[0;34m(\u001b[0m\u001b[0;34m'El estado de la solucion es: '\u001b[0m\u001b[0;34m,\u001b[0m \u001b[0mprob1\u001b[0m\u001b[0;34m.\u001b[0m\u001b[0mstatus\u001b[0m\u001b[0;34m)\u001b[0m\u001b[0;34m\u001b[0m\u001b[0;34m\u001b[0m\u001b[0m\n\u001b[1;32m     17\u001b[0m \u001b[0mprint\u001b[0m\u001b[0;34m(\u001b[0m\u001b[0;34m'El valor de la funcion objetivo es: '\u001b[0m\u001b[0;34m,\u001b[0m \u001b[0;34m'%.2f'\u001b[0m\u001b[0;34m%\u001b[0m \u001b[0mprob1\u001b[0m\u001b[0;34m.\u001b[0m\u001b[0mvalue\u001b[0m\u001b[0;34m)\u001b[0m\u001b[0;34m\u001b[0m\u001b[0;34m\u001b[0m\u001b[0m\n\u001b[0;32m---> 18\u001b[0;31m \u001b[0mprint\u001b[0m\u001b[0;34m(\u001b[0m\u001b[0;34m'Los valores optimo de las variables son: '\u001b[0m\u001b[0;34m,\u001b[0m \u001b[0;34m'%.2f'\u001b[0m\u001b[0;34m%\u001b[0m \u001b[0mx\u001b[0m\u001b[0;34m.\u001b[0m\u001b[0mvalue\u001b[0m\u001b[0;34m,\u001b[0m \u001b[0;34m'%.2f'\u001b[0m\u001b[0;34m%\u001b[0m \u001b[0my\u001b[0m\u001b[0;34m.\u001b[0m\u001b[0mvalue\u001b[0m\u001b[0;34m)\u001b[0m\u001b[0;34m\u001b[0m\u001b[0;34m\u001b[0m\u001b[0m\n\u001b[0m",
            "\u001b[0;31mTypeError\u001b[0m: must be real number, not NoneType"
          ]
        }
      ]
    },
    {
      "cell_type": "markdown",
      "source": [
        "## 03.\n",
        "Resuelva directamente, utilizando CVXPY, **uno** de los cinco numerales del ejercicio 2 del conjunto de problemas 9.2a del libro de (TAHA, 2012) página 342.\n",
        "\n",
        "Sugerencia: utilice el mismo numeral utilizado en el ejercicio 03."
      ],
      "metadata": {
        "id": "6JifXyZvdK5o"
      }
    },
    {
      "cell_type": "markdown",
      "source": [
        "Max Z = 2x + 3y, 5x + 7y <= 35, 4x + 9y <=36, x>=0, y>=0"
      ],
      "metadata": {
        "id": "yrEq5op-DQqZ"
      }
    },
    {
      "cell_type": "code",
      "source": [
        "# Resuelva el ejercicio a partir de aquí.\n",
        "import cvxpy as cvx\n",
        "x = cvx.Variable(integer=True)\n",
        "y = cvx.Variable(integer=True)\n",
        "\n",
        "obj1 = cvx.Maximize(2*x + 3*y)\n",
        "\n",
        "restri1 = [\n",
        "5*x + 7*y <= 35,\n",
        "4*x + 9*y <=36,\n",
        "x >= 0,\n",
        "y >= 0\n",
        "]\n",
        "prob1 = cvx.Problem(obj1, restri1)\n",
        "prob1.solve()\n",
        "print('El estado de la solucion es: ', prob1.status)\n",
        "print('El valor de la funcion objetivo es: ', '%.2f'% prob1.value)\n",
        "print('Los valores optimo de las variables son: ', '%.2f'% x.value, '%.2f'% y.value)"
      ],
      "metadata": {
        "id": "pM_qqkIIdm_e",
        "outputId": "9417f931-c54c-4a88-a15b-5d4a2d589b29",
        "colab": {
          "base_uri": "https://localhost:8080/"
        }
      },
      "execution_count": 50,
      "outputs": [
        {
          "output_type": "stream",
          "name": "stdout",
          "text": [
            "El estado de la solucion es:  optimal\n",
            "El valor de la funcion objetivo es:  14.00\n",
            "Los valores optimo de las variables son:  4.00 2.00\n"
          ]
        }
      ]
    }
  ]
}