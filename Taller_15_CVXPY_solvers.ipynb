{
  "nbformat": 4,
  "nbformat_minor": 0,
  "metadata": {
    "colab": {
      "provenance": [],
      "include_colab_link": true
    },
    "kernelspec": {
      "name": "python3",
      "display_name": "Python 3"
    },
    "language_info": {
      "name": "python"
    }
  },
  "cells": [
    {
      "cell_type": "markdown",
      "metadata": {
        "id": "view-in-github",
        "colab_type": "text"
      },
      "source": [
        "<a href=\"https://colab.research.google.com/github/SamuelCO1/talleresGoogleColab/blob/main/Taller_15_CVXPY_solvers.ipynb\" target=\"_parent\"><img src=\"https://colab.research.google.com/assets/colab-badge.svg\" alt=\"Open In Colab\"/></a>"
      ]
    },
    {
      "cell_type": "markdown",
      "source": [
        "## «*Hay personas que tienen la memoria muy llena, pero el juicio muy vacío y hueco*».\n",
        "### [Miguel de Montaigne](https://es.wikipedia.org/wiki/Michel_de_Montaigne)"
      ],
      "metadata": {
        "id": "VLMDjD3tAVeA"
      }
    },
    {
      "cell_type": "markdown",
      "source": [
        "# Taller 15 CVXPY solvers\n",
        "\n"
      ],
      "metadata": {
        "id": "bx-omGjwAXa3"
      }
    },
    {
      "metadata": {
        "id": "TgMEgpBeAJDW"
      },
      "cell_type": "markdown",
      "source": [
        "# Características generales de CVXPY\n",
        "\n",
        "CVXPY  es un lenguaje de modelado para [optimización de problemas convexos](https://web.stanford.edu/~boyd/cvxbook/), que funciona como una librería de Python.\n",
        "\n",
        "Su principal ventaja es que permite la formulación de problemas por medio de expresiones algebraicas o matriciales. CVXPY automáticamente transforma el problema a su forma estándar, lo resuelve por medio de un  [solvers](https://en.wikipedia.org/wiki/Solver), y entrega los resultados.\n",
        "\n",
        "Es decir, simplifica el proceso de optimización computacional ya que es capaz de resolver el problema sin necesidad de convertirlo a las formas estándares requeridas por los [solvers](https://en.wikipedia.org/wiki/Solver).\n",
        "\n",
        "## Página oficial\n",
        "La información oficial de CVXPY puede ser consultada en [www.cvxpy.org](http://www.cvxpy.org)"
      ]
    },
    {
      "metadata": {
        "id": "Triiphpbl1WE"
      },
      "cell_type": "markdown",
      "source": [
        "# Estados de un problema\n",
        "\n",
        "CVXPY identifica los siguientes estados en la solución de un problema:\n",
        "* OPTIMAL  (se encontró al menos una solución óptima)\n",
        "* INFEASIBLE (no se encontraron soluciones factibles)\n",
        "* UNBOUNDED (se encontró una solución indeterminada)\n",
        "* OPTIMAL_INACCURATE (se encontró al menos una solución óptima, **pero el nivel de precisión es inferior al deseado**)\n",
        "* INFEASIBLE_INACCURATE (no se encontraron soluciones factibles **y el nivel de precisión es inferior al deseado**)\n",
        "* UNBOUNDED_INACCURATE  (se encontró una solución indeterminada **y el nivel de precisión es inferior al deseado**)\n",
        "\n",
        "En los casos diferentes a estados **OPTIMAL** se sugiere revisar la formulación del problema y los valores de los parámetros.\n",
        "\n",
        "En los casos de estados **INACCURATE** de la solución se recomienda ensayar a resolver el problema utilizando otro solver.\n"
      ]
    },
    {
      "metadata": {
        "id": "PmRGg5-LrauO"
      },
      "cell_type": "markdown",
      "source": [
        "# Gestión de solvers\n",
        "\n",
        "CVXPY utiliza open source solvers como [OSQP](https://osqp.org), [ECOS](https://www.embotech.com/ECOS), [ECOS_BB](https://github.com/embotech/ecos#mixed-integer-socps-ecos_bb) y [SCS](https://github.com/cvxgrp/scs). Si se desea utilizar otros solvers ([CVXOPT](http://cvxopt.org), [GLPK](https://www.gnu.org/software/glpk/),  [CBC](https://projects.coin-or.org/Cbc),  [MOSEK](https://www.mosek.com),  [GUROBI](http://www.gurobi.com)) se debe instalar cada uno de ellos de manera adicional.\n",
        "El código que se presenta a continuación  resuelve el mismo ejercicio utilizando cuatro solvers diferentes. Analice los valores obtenidos tanto para la solución óptima como para las variables de decisión."
      ]
    },
    {
      "metadata": {
        "id": "CalVP518ri5g",
        "outputId": "f86125b8-b65e-4495-fec0-0b799217770f",
        "colab": {
          "base_uri": "https://localhost:8080/"
        }
      },
      "cell_type": "code",
      "source": [
        "# Este programa presenta la solución de un ejercicio de optimización\n",
        "# utilizando cuatro solvers\n",
        "\n",
        "# Importar la librería que se va a utilizar\n",
        "import cvxpy as cvx\n",
        "\n",
        "# Crear las variables a optimizar\n",
        "x = cvx.Variable()\n",
        "y = cvx.Variable()\n",
        "\n",
        "# Definir la función objetivo\n",
        "obj = cvx.Minimize(3*x + 8*y)\n",
        "\n",
        "# Establecer las restricciones\n",
        "constraints = [\n",
        "x + y >= 50,\n",
        "x - y <= 20,\n",
        "x >= 0,\n",
        "y >= 0\n",
        "]\n",
        "\n",
        "# Configurar el problema\n",
        "prob_ej = cvx.Problem(obj, constraints)\n",
        "\n",
        "# Obtener el valor óptimo, actualizar el estado del problema y los valores\n",
        "# de todas las variables del problema\n",
        "prob_ej.solve()\n",
        "\n",
        "print (\"Soluciones sin especificar el solver\")\n",
        "\n",
        "# Mostrar el estado de la solución sin especificar el solver\n",
        "print(\"Estado de la solución sin especificar el solver:\", prob_ej.status)\n",
        "\n",
        "# Mostrar el valor óptimo de la función objetivo sin especificar el solver\n",
        "print(\"Valor óptimo de la función objetivo sin especificar el solver:\",\n",
        "      prob_ej.value)\n",
        "\n",
        "# Mostrar los valores óptimos de las variables de decisión sin especificar\n",
        "# el solver\n",
        "print(\"Valores óptimos de las variables de decisión sin especificar el solver:\",\n",
        "      x.value, y.value, \"\\n\")\n",
        "\n",
        "# Soluciones con OSQP\n",
        "print (\"Soluciones con OSQP\")\n",
        "\n",
        "# Resolver con OSQP\n",
        "prob_ej.solve(solver=cvx.OSQP)\n",
        "\n",
        "# Mostrar el estado de la solución con OSQP\n",
        "print(\"Estado de la solución con OSQP:\", prob_ej.status)\n",
        "\n",
        "print(\"Valor óptimo de la función objetivo con OSQP:\", prob_ej.value)\n",
        "\n",
        "# Mostrar los valores óptimos de las variables de decisión con OSQP\n",
        "print(\"Valores óptimos de las variables de decisión con OSQP:\",\n",
        "      x.value, y.value, \"\\n\")\n",
        "\n",
        "# Soluciones con ECOS\n",
        "print (\"Soluciones con ECOS\")\n",
        "\n",
        "# Resolver con ECOS\n",
        "prob_ej.solve(solver=cvx.ECOS)\n",
        "\n",
        "# Mostrar el estado de la solución con ECOS\n",
        "print(\"Estado de la solución con ECOS:\", prob_ej.status)\n",
        "\n",
        "print(\"Valor óptimo de la función objetivo con ECOS:\", prob_ej.value)\n",
        "\n",
        "# Mostrar los valores óptimos de las variables de decisión con ECOS\n",
        "print(\"Valores óptimos de las variables de decisión con ECOS:\",\n",
        "      x.value, y.value, \"\\n\")\n",
        "\n",
        "# Soluciones con ECOS_BB\n",
        "print (\"Soluciones con ECOS_BB\")\n",
        "\n",
        "# Resolver con ECOS_BB\n",
        "prob_ej.solve(solver=cvx.ECOS_BB)\n",
        "\n",
        "# Mostrar el estado de la solución  con ECOS_BB\n",
        "print(\"Estado de la solución con ECOS_BB:\", prob_ej.status)\n",
        "\n",
        "print(\"Valor óptimo de la función objetivo con ECOS_BB:\", prob_ej.value)\n",
        "\n",
        "# Mostrar los valores óptimos de las variables de decisión con ECOS_BB\n",
        "print(\"Valores óptimos de las variables de decisión con ECOS_BB:\",\n",
        "      x.value, y.value, \"\\n\")\n",
        "\n",
        "# Soluciones con SCS\n",
        "print (\"Soluciones con SCS\")\n",
        "\n",
        "# Resolver con SCS\n",
        "prob_ej.solve(solver=cvx.SCS)\n",
        "\n",
        "# Mostrar el estado de la solución  con SCS\n",
        "print(\"Estado de la solución con SCS:\", prob_ej.status)\n",
        "\n",
        "print(\"Valor óptimo de la función objetivo con SCS:\", prob_ej.value)\n",
        "\n",
        "# Mostrar los valores óptimos de las variables de decisión con SCS\n",
        "print(\"Valores óptimos de las variables de decisión con SCS:\",\n",
        "      x.value, y.value, \"\\n\")"
      ],
      "execution_count": 1,
      "outputs": [
        {
          "output_type": "stream",
          "name": "stdout",
          "text": [
            "Soluciones sin especificar el solver\n",
            "Estado de la solución sin especificar el solver: optimal\n",
            "Valor óptimo de la función objetivo sin especificar el solver: 224.9999996816037\n",
            "Valores óptimos de las variables de decisión sin especificar el solver: 35.00000000022704 14.999999960115321 \n",
            "\n",
            "Soluciones con OSQP\n",
            "Estado de la solución con OSQP: optimal\n",
            "Valor óptimo de la función objetivo con OSQP: 225.0\n",
            "Valores óptimos de las variables de decisión con OSQP: 35.0 15.0 \n",
            "\n",
            "Soluciones con ECOS\n",
            "Estado de la solución con ECOS: optimal\n",
            "Valor óptimo de la función objetivo con ECOS: 224.9999996816037\n",
            "Valores óptimos de las variables de decisión con ECOS: 35.00000000022704 14.999999960115321 \n",
            "\n",
            "Soluciones con ECOS_BB\n",
            "Estado de la solución con ECOS_BB: optimal\n",
            "Valor óptimo de la función objetivo con ECOS_BB: 224.9999996816037\n",
            "Valores óptimos de las variables de decisión con ECOS_BB: 35.00000000022704 14.999999960115321 \n",
            "\n",
            "Soluciones con SCS\n",
            "Estado de la solución con SCS: optimal\n",
            "Valor óptimo de la función objetivo con SCS: 225.00005534246475\n",
            "Valores óptimos de las variables de decisión con SCS: 35.00001549417793 15.000001107491368 \n",
            "\n"
          ]
        }
      ]
    },
    {
      "metadata": {
        "id": "39n80aHZ75WO"
      },
      "cell_type": "markdown",
      "source": [
        "# Problema inicial: problema00 resuelto directamente por CVXPY\n",
        "\n",
        "Max Z = 8\\* x + 5\\* y\n",
        "\n",
        "   x   +   y    <=  6\n",
        "   \n",
        "   9 \\* x       + 5\\* y        < =  45\n",
        "\n",
        "   x   > = 0      \n",
        "\n",
        "   y   >=  0\n",
        "\n",
        "**x, y enteros**\n"
      ]
    },
    {
      "metadata": {
        "id": "EPmwVAHU75WO",
        "outputId": "932fed6e-ae45-4398-9ceb-40bd13bbcc62",
        "colab": {
          "base_uri": "https://localhost:8080/"
        }
      },
      "cell_type": "code",
      "source": [
        "# Importar la librería que se va a utilizar\n",
        "import cvxpy as cvx\n",
        "\n",
        "# Crear las variables a optimizar y establecerlas como enteros\n",
        "x = cvx.Variable(integer=True)\n",
        "y = cvx.Variable(integer=True)\n",
        "\n",
        "# Definir la función objetivo para maximizar el ingreso\n",
        "obj = cvx.Maximize(8*x + 5*y)\n",
        "\n",
        "# Establecer las restricciones\n",
        "restricciones_int = [\n",
        "\n",
        "# Primera restricción\n",
        "x + y <= 6,\n",
        "\n",
        "# Segunda restricción\n",
        "9*x + 5*y <= 45,\n",
        "\n",
        "# Restricciones de no negatividad\n",
        "x >= 0,\n",
        "y >= 0\n",
        "]\n",
        "\n",
        "# Configurar el problema\n",
        "prob_int = cvx.Problem(obj, restricciones_int)\n",
        "\n",
        "# Obtener el valor óptimo\n",
        "prob_int.solve()\n",
        "\n",
        "# Mostrar el estado de la solución y el valor óptimo de la función objetivo\n",
        "print(\"Estado de la solución:\", prob_int.status)\n",
        "print(\"Valor máximo:\", \"%.2f\"% prob_int.value)\n",
        "\n",
        "# Mostrar los valores óptimos de las variables de decisión\n",
        "print (\"Valor óptimo de x:\", \"%.2f\"% x.value)\n",
        "print(\"Valor óptimo de y:\", \"%.2f\"% y.value, \"\\n\")\n",
        "\n",
        "# Soluciones con ECOS_BB\n",
        "print (\"Soluciones con ECOS_BB\")\n",
        "\n",
        "# Resolver con ECOS_bb\n",
        "prob_int.solve(solver=cvx.ECOS_BB, mi_max_iters = 1000,\n",
        "               mi_abs_eps= 1e-6, mi_rel_eps = 1e-3, verbose = True)\n",
        "\n",
        "# prob_int.solve(solver=cvx.ECOS_BB, mi_max_iters = 1000,\n",
        "#               mi_abs_eps= 1e-6, mi_rel_eps = 1e-3)\n",
        "\n",
        "# Mostrar el estado de la solución  con ECOS_BB\n",
        "print(\"Estado de la solución con ECOS_BB:\", prob_int.status)\n",
        "\n",
        "print(\"Valor óptimo de la función objetivo con ECOS_BB:\", prob_int.value)\n",
        "\n",
        "# Mostrar los valores óptimos de las variables de decisión con ECOS_BB\n",
        "print(\"Valores óptimos de las variables de decisión con ECOS_BB:\",\n",
        "      x.value, y.value, \"\\n\")"
      ],
      "execution_count": 2,
      "outputs": [
        {
          "output_type": "stream",
          "name": "stdout",
          "text": [
            "Estado de la solución: optimal\n",
            "Valor máximo: 40.00\n",
            "Valor óptimo de x: 5.00\n",
            "Valor óptimo de y: 0.00 \n",
            "\n",
            "Soluciones con ECOS_BB\n",
            "===============================================================================\n",
            "                                     CVXPY                                     \n",
            "                                     v1.3.3                                    \n",
            "===============================================================================\n",
            "(CVXPY) Mar 12 01:28:10 PM: Your problem has 2 variables, 4 constraints, and 0 parameters.\n",
            "(CVXPY) Mar 12 01:28:10 PM: It is compliant with the following grammars: DCP, DQCP\n",
            "(CVXPY) Mar 12 01:28:10 PM: (If you need to solve this problem multiple times, but with different data, consider using parameters.)\n",
            "(CVXPY) Mar 12 01:28:10 PM: CVXPY will first compile your problem; then, it will invoke a numerical solver to obtain a solution.\n",
            "-------------------------------------------------------------------------------\n",
            "                                  Compilation                                  \n",
            "-------------------------------------------------------------------------------\n",
            "(CVXPY) Mar 12 01:28:10 PM: Compiling problem (target solver=ECOS_BB).\n",
            "(CVXPY) Mar 12 01:28:10 PM: Reduction chain: FlipObjective -> Dcp2Cone -> CvxAttr2Constr -> ConeMatrixStuffing -> ECOS_BB\n",
            "(CVXPY) Mar 12 01:28:10 PM: Applying reduction FlipObjective\n",
            "(CVXPY) Mar 12 01:28:10 PM: Applying reduction Dcp2Cone\n",
            "(CVXPY) Mar 12 01:28:10 PM: Applying reduction CvxAttr2Constr\n",
            "(CVXPY) Mar 12 01:28:10 PM: Applying reduction ConeMatrixStuffing\n",
            "(CVXPY) Mar 12 01:28:10 PM: Applying reduction ECOS_BB\n",
            "(CVXPY) Mar 12 01:28:10 PM: Finished problem compilation (took 3.187e-02 seconds).\n",
            "-------------------------------------------------------------------------------\n",
            "                                Numerical solver                               \n",
            "-------------------------------------------------------------------------------\n",
            "(CVXPY) Mar 12 01:28:10 PM: Invoking solver ECOS_BB  to obtain a solution.\n",
            "-------------------------------------------------------------------------------\n",
            "                                    Summary                                    \n",
            "-------------------------------------------------------------------------------\n",
            "(CVXPY) Mar 12 01:28:10 PM: Problem status: optimal\n",
            "(CVXPY) Mar 12 01:28:10 PM: Optimal value: 4.000e+01\n",
            "(CVXPY) Mar 12 01:28:10 PM: Compilation took 3.187e-02 seconds\n",
            "(CVXPY) Mar 12 01:28:10 PM: Solver (including time spent in interface) took 5.332e-03 seconds\n",
            "Estado de la solución con ECOS_BB: optimal\n",
            "Valor óptimo de la función objetivo con ECOS_BB: 40.00000000257336\n",
            "Valores óptimos de las variables de decisión con ECOS_BB: 5.000000000095518 3.618420463843465e-10 \n",
            "\n"
          ]
        }
      ]
    },
    {
      "cell_type": "markdown",
      "source": [
        "# MOSEK"
      ],
      "metadata": {
        "id": "-L05yTO_mQ3n"
      }
    },
    {
      "cell_type": "markdown",
      "source": [
        "## Aviso importante\n",
        "\n",
        "Antes de ejecutar cvxpy con el solver MOSEK es necesario subir el archivo con la licencia de MOSEK (mosek.lic) para crear la ruta /root/mosek/mosek.lic\n",
        "\n",
        "**Este paso hay que repetirlo cada vez que se vaya a utilizar MOSEK porque desaparece cuando se reinicia el entorno de ejecución**.\n",
        "\n",
        "En el siguiente enlace puede solicitar una licencia académica **gratuita** de MOSEK: [MOSEK Academic Licenses](https://www.mosek.com/products/academic-licenses/)"
      ],
      "metadata": {
        "id": "P6trz1A2G1DT"
      }
    },
    {
      "cell_type": "markdown",
      "source": [
        "## Instalar MOSEK"
      ],
      "metadata": {
        "id": "0XUIesHJmERV"
      }
    },
    {
      "cell_type": "code",
      "source": [
        "# Instalar MOSEK en Google Colab\n",
        "!pip install mosek"
      ],
      "metadata": {
        "id": "ooc0H5xOqtus",
        "outputId": "1ff2a3ac-49a1-43a7-e4b6-97876690cb95",
        "colab": {
          "base_uri": "https://localhost:8080/"
        }
      },
      "execution_count": 1,
      "outputs": [
        {
          "output_type": "stream",
          "name": "stdout",
          "text": [
            "Requirement already satisfied: mosek in /usr/local/lib/python3.10/dist-packages (10.1.28)\n",
            "Requirement already satisfied: numpy in /usr/local/lib/python3.10/dist-packages (from mosek) (1.25.2)\n"
          ]
        }
      ]
    },
    {
      "cell_type": "markdown",
      "source": [
        "## Verificar la instalación de MOSEK"
      ],
      "metadata": {
        "id": "BhABHtg8LSet"
      }
    },
    {
      "cell_type": "code",
      "source": [
        "# Importar las librerías requeridas\n",
        "import cvxpy as cvx\n",
        "import mosek\n",
        "\n",
        "# Verificar los solvers disponibles\n",
        "print(cvx.installed_solvers())"
      ],
      "metadata": {
        "id": "KmlMNJ3Wp20y",
        "outputId": "16ea2888-1af0-4d63-b3ae-e17307418959",
        "colab": {
          "base_uri": "https://localhost:8080/"
        }
      },
      "execution_count": 2,
      "outputs": [
        {
          "output_type": "stream",
          "name": "stdout",
          "text": [
            "['CVXOPT', 'ECOS', 'ECOS_BB', 'GLPK', 'GLPK_MI', 'MOSEK', 'OSQP', 'SCIPY', 'SCS']\n"
          ]
        }
      ]
    },
    {
      "cell_type": "markdown",
      "source": [
        "# Problema inicial: problema00 resuelto con MOSEK\n",
        "\n",
        "Max Z = 8\\* x + 5\\* y\n",
        "\n",
        "   x   +   y    <=  6\n",
        "   \n",
        "   9 \\* x       + 5\\* y        < =  45\n",
        "\n",
        "   x   > = 0      \n",
        "\n",
        "   y   >=  0\n",
        "\n",
        "**x, y enteros**"
      ],
      "metadata": {
        "id": "UYsRyFLamBqQ"
      }
    },
    {
      "cell_type": "markdown",
      "source": [
        "## Solución del problema00 con MOSEK"
      ],
      "metadata": {
        "id": "wzV4jJCWY9of"
      }
    },
    {
      "cell_type": "code",
      "source": [
        "# Importar las librerías que se van a utilizar\n",
        "import cvxpy as cvx\n",
        "from mosek.fusion import *\n",
        "\n",
        "# Crear las variables a optimizar y establecerlas como enteros\n",
        "x = cvx.Variable(integer=True)\n",
        "y = cvx.Variable(integer=True)\n",
        "\n",
        "# Definir la función objetivo para maximizar el ingreso\n",
        "obj = cvx.Maximize(8*x + 5*y)\n",
        "\n",
        "# Establecer las restricciones\n",
        "restricciones_msk = [\n",
        "\n",
        "# Primera restricción\n",
        "x + y <= 6,\n",
        "\n",
        "# Segunda restricción\n",
        "9*x + 5*y <= 45,\n",
        "\n",
        "# Restricciones de no negatividad\n",
        "x >= 0,\n",
        "y >= 0\n",
        "]\n",
        "\n",
        "# Configurar el problema\n",
        "prob_msk = cvx.Problem(obj, restricciones_msk)\n",
        "\n",
        "# Obtener el valor óptimo\n",
        "prob_msk.solve()\n",
        "\n",
        "# Resolver con MOSEK\n",
        "prob_msk.solve(solver=cvx.MOSEK)\n",
        "#prob_msk.solve(solver=cvx.MOSEK, verbose = True)\n",
        "\n",
        "# Mostrar el estado de la solución  con MOSEK\n",
        "print(\"Estado de la solución con MOSEK:\", prob_msk.status)\n",
        "\n",
        "print(\"Valor óptimo de la función objetivo con MOSEK:\", prob_msk.value)\n",
        "\n",
        "# Mostrar los valores óptimos de las variables de decisión con MOSEK\n",
        "print(\"Valores óptimos de las variables de decisión con \")\n",
        "print(\"Valor óptimo de x con MOSEK:\", x.value)\n",
        "print(\"Valor óptimo de y con MOSEK:\", y.value)"
      ],
      "metadata": {
        "id": "F2y6HzDNIXbK",
        "outputId": "62659bba-79aa-48fc-e3d1-6676e3cbb68d",
        "colab": {
          "base_uri": "https://localhost:8080/"
        }
      },
      "execution_count": 9,
      "outputs": [
        {
          "output_type": "stream",
          "name": "stdout",
          "text": [
            "Estado de la solución con MOSEK: optimal\n",
            "Valor óptimo de la función objetivo con MOSEK: 40.0\n",
            "Valores óptimos de las variables de decisión con \n",
            "Valor óptimo de x con MOSEK: 5.0\n",
            "Valor óptimo de y con MOSEK: 0.0\n"
          ]
        }
      ]
    },
    {
      "cell_type": "markdown",
      "source": [
        "# Ejercicios"
      ],
      "metadata": {
        "id": "ia3dw24BZHq6"
      }
    },
    {
      "cell_type": "markdown",
      "source": [
        "## 00.\n",
        "Resuelva directamente, utilizando CVXPY, el ejemplo 9.2-1 del libro de (TAHA, 2012) página 336."
      ],
      "metadata": {
        "id": "08XSuUcAZK2n"
      }
    },
    {
      "cell_type": "code",
      "source": [
        "import cvxpy as cvx\n",
        "x = cvx.Variable(integer=True)\n",
        "y = cvx.Variable(integer=True)\n",
        "\n",
        "obj = cvx.Maximize(5*x + 4*y)\n",
        "constraints = [\n",
        "x + y <= 5,\n",
        "10*x + 6*y <= 45,\n",
        "\n",
        "x >= 0,\n",
        "y >= 0\n",
        "]\n",
        "probObj = cvx.Problem(obj, constraints)\n",
        "probObj.solve()\n",
        "\n",
        "print('El estado de la solucion es: ', probObj.status)\n",
        "print('El valor optimo de la funcion objetivo es: ', probObj.value)\n",
        "print('Valores optimos de las variables:',\n",
        "      '%.2f'% x.value, '%.2f'% y.value, '\\n')"
      ],
      "metadata": {
        "id": "eR10BZQjaRjM",
        "outputId": "7fac10b5-3ac0-4403-ba94-3aea4bf9203b",
        "colab": {
          "base_uri": "https://localhost:8080/"
        }
      },
      "execution_count": 23,
      "outputs": [
        {
          "output_type": "stream",
          "name": "stdout",
          "text": [
            "El estado de la solucion es:  optimal\n",
            "El valor optimo de la funcion objetivo es:  23.0\n",
            "Valores optimos de las variables: 3.00 2.00 \n",
            "\n"
          ]
        }
      ]
    },
    {
      "cell_type": "markdown",
      "source": [
        "## 01.\n",
        "Resuelva con MOSEK, utilizando CVXPY, el ejemplo 9.2-1 del libro de (TAHA, 2012) página 336."
      ],
      "metadata": {
        "id": "D4vzr-ANcoUe"
      }
    },
    {
      "cell_type": "code",
      "source": [
        "# Importar las librerías que se van a utilizar\n",
        "import cvxpy as cvx\n",
        "from mosek.fusion import *\n",
        "\n",
        "# Crear las variables a optimizar y establecerlas como enteros\n",
        "x = cvx.Variable(integer=True)\n",
        "y = cvx.Variable(integer=True)\n",
        "\n",
        "# Definir la función objetivo para maximizar el ingreso\n",
        "obj = cvx.Maximize(5*x + 4*y)\n",
        "\n",
        "# Establecer las restricciones\n",
        "restricciones_msk = [\n",
        "\n",
        "# Primera restricción\n",
        "x + y <= 5,\n",
        "\n",
        "# Segunda restricción\n",
        "10*x + 6*y <= 45,\n",
        "\n",
        "# Restricciones de no negatividad\n",
        "x >= 0,\n",
        "y >= 0\n",
        "]\n",
        "\n",
        "# Configurar el problema\n",
        "prob_msk = cvx.Problem(obj, restricciones_msk)\n",
        "\n",
        "# Obtener el valor óptimo\n",
        "prob_msk.solve()\n",
        "\n",
        "# Resolver con MOSEK\n",
        "prob_msk.solve(solver=cvx.MOSEK)\n",
        "#prob_msk.solve(solver=cvx.MOSEK, verbose = True)\n",
        "\n",
        "# Mostrar el estado de la solución  con MOSEK\n",
        "print(\"Estado de la solución con MOSEK:\", prob_msk.status)\n",
        "\n",
        "print(\"Valor óptimo de la función objetivo con MOSEK:\",'%.2f'% prob_msk.value)\n",
        "\n",
        "# Mostrar los valores óptimos de las variables de decisión con MOSEK\n",
        "print(\"Valores óptimos de las variables de decisión con \")\n",
        "print(\"Valor óptimo de x con MOSEK:\", '%.2f'% x.value)\n",
        "print(\"Valor óptimo de y con MOSEK:\", '%.2f'% y.value)"
      ],
      "metadata": {
        "id": "WbJOyqR7c4TM",
        "outputId": "c863fce7-9c78-4d6b-c141-86812189392d",
        "colab": {
          "base_uri": "https://localhost:8080/"
        }
      },
      "execution_count": 19,
      "outputs": [
        {
          "output_type": "stream",
          "name": "stdout",
          "text": [
            "Estado de la solución con MOSEK: optimal\n",
            "Valor óptimo de la función objetivo con MOSEK: 23.75\n",
            "Valores óptimos de las variables de decisión con \n",
            "Valor óptimo de x con MOSEK: 3.75\n",
            "Valor óptimo de y con MOSEK: 1.25\n"
          ]
        }
      ]
    },
    {
      "cell_type": "markdown",
      "source": [
        "## 02.\n",
        "Resuelva directamente, utilizando CVXPY, **uno** de los cinco numerales del ejercicio 2 del conjunto de problemas 9.2a del libro de (TAHA, 2012) página 342."
      ],
      "metadata": {
        "id": "TCCMOfTjc7n0"
      }
    },
    {
      "cell_type": "code",
      "source": [
        "import cvxpy as cvx\n",
        "\n",
        "x = cvx.Variable(integer=True)\n",
        "y = cvx.Variable(integer=True)\n",
        "\n",
        "Z = cvx.Maximize(2*x + 3*y)\n",
        "restricciones = [\n",
        "5*x + 7*y <= 35,\n",
        "4*x + 9*y <= 36,\n",
        "x>=0,\n",
        "y>=0\n",
        "]\n",
        "probZ = cvx.Problem(Z, restricciones)\n",
        "probZ.solve()\n",
        "print('El estado de la optimizacion es: ', probZ.status)\n",
        "print('El valor optimo de la uncion objetivo es: ', probZ.value)\n",
        "print('El valor optimo de las variables es: ',\n",
        "      '%.2f'% x.value, '%.2f'% y.value, '\\n')"
      ],
      "metadata": {
        "id": "HV3a-DUldEJK",
        "outputId": "bad996dc-4525-4d11-c8a3-f1f66aa7e975",
        "colab": {
          "base_uri": "https://localhost:8080/"
        }
      },
      "execution_count": 24,
      "outputs": [
        {
          "output_type": "stream",
          "name": "stdout",
          "text": [
            "El estado de la optimizacion es:  optimal\n",
            "El valor optimo de la uncion objetivo es:  14.0\n",
            "El valor optimo de las variables es:  7.00 0.00 \n",
            "\n"
          ]
        }
      ]
    },
    {
      "cell_type": "markdown",
      "source": [
        "## 03.\n",
        "Resuelva con MOSEK, utilizando CVXPY, **uno** de los cinco numerales del ejercicio 2 del conjunto de problemas 9.2a del libro de (TAHA, 2012) página 342.\n",
        "\n",
        "Sugerencia: utilice el mismo numeral utilizado en el ejercicio 02."
      ],
      "metadata": {
        "id": "9Ei2tKLdas7d"
      }
    },
    {
      "cell_type": "code",
      "source": [
        "import cvxpy as cvx\n",
        "from mosek.fusion import *\n",
        "x = cvx.Variable(integer=True)\n",
        "y = cvx.Variable(integer=True)\n",
        "\n",
        "Z = cvx.Maximize(2*x + 3*y)\n",
        "restricciones = [\n",
        "5*x + 7*y <= 35,\n",
        "4*x + 9*y <= 36,\n",
        "x>=0,\n",
        "y>=0\n",
        "]\n",
        "probZ = cvx.Problem(Z, restricciones)\n",
        "probZ.solve(solver = cvx.MOSEK)\n",
        "print('El estado de la optimizacion es: ', probZ.status)\n",
        "print('El valor optimo de la uncion objetivo es: ', probZ.value)\n",
        "print('El valor optimo de las variables es: ',\n",
        "      '%.2f'% x.value, '%.2f'% y.value, '\\n')"
      ],
      "metadata": {
        "id": "CbtbB7TvbLCO",
        "outputId": "556cad1b-050d-448d-edfa-bf11abe086f3",
        "colab": {
          "base_uri": "https://localhost:8080/"
        }
      },
      "execution_count": 25,
      "outputs": [
        {
          "output_type": "stream",
          "name": "stdout",
          "text": [
            "El estado de la optimizacion es:  optimal\n",
            "El valor optimo de la uncion objetivo es:  14.0\n",
            "El valor optimo de las variables es:  7.00 0.00 \n",
            "\n"
          ]
        }
      ]
    }
  ]
}